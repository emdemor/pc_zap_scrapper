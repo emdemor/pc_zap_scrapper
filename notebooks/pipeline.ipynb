{
 "cells": [
  {
   "cell_type": "code",
   "execution_count": 2,
   "id": "f49bb413-a5d5-4ba9-a058-94596fbd53cd",
   "metadata": {},
   "outputs": [],
   "source": [
    "class Price(BaseModel):\n",
    "    mainValue: int | None = None\n",
    "    emptyValue: bool | None = None\n",
    "    belowPrice: bool | None = None\n",
    "    multiplePrices: bool | None = None\n",
    "\n",
    "class Address(BaseModel):\n",
    "    city: str | None = None\n",
    "    stateAcronym: str | None = None\n",
    "    neighborhood: str | None = None\n",
    "    isApproximateLocation: bool | None = None\n",
    "\n",
    "class Image(BaseModel):\n",
    "    src: str | None = None\n",
    "    alt: str | None = None\n",
    "    isPriority: bool | None = None\n",
    "\n",
    "class Amenities(BaseModel):\n",
    "    usableAreas: str | None = None\n",
    "    bedrooms: str | None = None\n",
    "    bathrooms: str | None = None\n",
    "    parkingSpaces: str | None = None\n",
    "    values: List[str] | None = None\n",
    "\n",
    "class RealEstate(BaseModel):\n",
    "    id: str | None = None\n",
    "    legacyId: int | None = None\n",
    "    name: str | None = None\n",
    "    advertiserUrl: str | None = None\n",
    "    tier: str | None = None\n",
    "    license: str | None = None\n",
    "    createdDate: str | None = None\n",
    "    phoneNumbers: List[str] | None = None\n",
    "    whatsAppNumber: str | None = None\n",
    "    defaultMessage: str | None = None\n",
    "    totalCountByFilter: int | None = None\n",
    "    totalCountByAdvertiser: int | None = None\n",
    "    isVerified: bool | None = None\n",
    "    isPremium: bool | None = None\n",
    "    imageUrl: str | None = None\n",
    "\n",
    "class AdvertiserLogo(BaseModel):\n",
    "    src: str | None = None\n",
    "    alt: str | None = None\n",
    "\n",
    "class RealEstateElement(BaseModel):\n",
    "    id: str\n",
    "    externalId: str\n",
    "    contractType: str | None = None\n",
    "    href: str | None = None\n",
    "    prices: Price | None = None\n",
    "    address: Address | None = None\n",
    "    business: str | None = None\n",
    "    highlight: str | None = None\n",
    "    imageList: List[Image] | None = None\n",
    "    amenities: Amenities | None = None\n",
    "    realEstate: RealEstate | None = None\n",
    "    visualized: bool | None = None\n",
    "    description: str | None = None\n",
    "    isNoWarrantorRent: bool | None = None\n",
    "    constructionStatus: str | None = None\n",
    "    expansionType: str | None = None\n",
    "    sourceId: str | None = None\n",
    "    stamps: List[str] | None = None\n",
    "    unitTypes: List[str] | None = None\n",
    "    displayAddressType: str | None = None\n",
    "    advertiserLogo: AdvertiserLogo | None = None\n"
   ]
  },
  {
   "cell_type": "code",
   "execution_count": 3,
   "id": "22f86865-dfc7-4fcc-8eba-4b56fdcb8d5f",
   "metadata": {},
   "outputs": [],
   "source": [
    "# -- Create Real Estate Table\n",
    "# CREATE TABLE real_estate (\n",
    "#     id VARCHAR PRIMARY KEY, \n",
    "#     estate_id VARCHAR,\n",
    "#     search_date TIMESTAMP,\n",
    "#     external_id VARCHAR,\n",
    "#     contract_type VARCHAR,\n",
    "#     href VARCHAR,\n",
    "    \n",
    "#     -- Campos do modelo Price (prefixados com 'price_')\n",
    "#     price_main_value INTEGER,\n",
    "#     price_empty_value BOOLEAN,\n",
    "#     price_below_price BOOLEAN,\n",
    "#     price_multiple_prices BOOLEAN,\n",
    "    \n",
    "#     -- Campos do modelo Address (prefixados com 'address_')\n",
    "#     address_city VARCHAR,\n",
    "#     address_state_acronym VARCHAR,\n",
    "#     address_neighborhood VARCHAR,\n",
    "#     address_is_approximate_location BOOLEAN,\n",
    "    \n",
    "#     business VARCHAR,\n",
    "#     highlight VARCHAR,\n",
    "    \n",
    "#     -- Lista de imagens armazenada como JSONB\n",
    "#     image_list JSONB,\n",
    "    \n",
    "#     -- Campos do modelo Amenities (prefixados com 'amenities_')\n",
    "#     amenities_usable_areas VARCHAR,\n",
    "#     amenities_bedrooms VARCHAR,\n",
    "#     amenities_bathrooms VARCHAR,\n",
    "#     amenities_parking_spaces VARCHAR,\n",
    "#     amenities_values JSONB, -- Lista de valores armazenada como JSONB\n",
    "    \n",
    "#     -- Campos do modelo RealEstate (prefixados com 'real_estate_')\n",
    "#     real_estate_id VARCHAR,\n",
    "#     real_estate_legacy_id INTEGER,\n",
    "#     real_estate_name VARCHAR,\n",
    "#     real_estate_advertiser_url VARCHAR,\n",
    "#     real_estate_tier VARCHAR,\n",
    "#     real_estate_license VARCHAR,\n",
    "#     real_estate_created_date TIMESTAMP,\n",
    "#     real_estate_phone_numbers JSONB, -- Lista de números de telefone armazenada como JSONB\n",
    "#     real_estate_whats_app_number VARCHAR,\n",
    "#     real_estate_default_message TEXT,\n",
    "#     real_estate_total_count_by_filter INTEGER,\n",
    "#     real_estate_total_count_by_advertiser INTEGER,\n",
    "#     real_estate_is_verified BOOLEAN,\n",
    "#     real_estate_is_premium BOOLEAN,\n",
    "#     real_estate_image_url VARCHAR,\n",
    "    \n",
    "#     visualized BOOLEAN,\n",
    "#     description TEXT,\n",
    "#     is_no_warrantor_rent BOOLEAN,\n",
    "#     construction_status VARCHAR,\n",
    "#     expansion_type VARCHAR,\n",
    "#     source_id VARCHAR,\n",
    "    \n",
    "#     -- Listas armazenadas como JSONB\n",
    "#     stamps JSONB,\n",
    "#     unit_types JSONB,\n",
    "    \n",
    "#     display_address_type VARCHAR,\n",
    "    \n",
    "#     -- Campos do modelo AdvertiserLogo (prefixados com 'advertiser_logo_')\n",
    "#     advertiser_logo_src VARCHAR,\n",
    "#     advertiser_logo_alt VARCHAR\n",
    "# );\n",
    "\n",
    "\n",
    "def datetime_to_iso8601_z(dt):\n",
    "    if dt.tzinfo is None:\n",
    "        dt = dt.replace(tzinfo=timezone.utc)\n",
    "    else:\n",
    "        dt = dt.astimezone(timezone.utc)\n",
    "    return dt.strftime('%Y-%m-%dT%H:%M:%SZ')\n",
    "\n",
    "def real_estate_element_to_dict(real_estate_element: RealEstateElement, search_date: datetime):\n",
    "    formatted_search_date = datetime_to_iso8601_z(search_date)\n",
    "    \n",
    "    data = {\n",
    "        'id': str(uuid.uuid4()),\n",
    "        'estate_id': real_estate_element.id,\n",
    "        'search_date': formatted_search_date,\n",
    "        'external_id': real_estate_element.externalId,\n",
    "        'contract_type': real_estate_element.contractType,\n",
    "        'href': real_estate_element.href,\n",
    "\n",
    "        # Campos do modelo Price\n",
    "        'price_main_value': real_estate_element.prices.mainValue if real_estate_element.prices else None,\n",
    "        'price_empty_value': real_estate_element.prices.emptyValue if real_estate_element.prices else None,\n",
    "        'price_below_price': real_estate_element.prices.belowPrice if real_estate_element.prices else None,\n",
    "        'price_multiple_prices': real_estate_element.prices.multiplePrices if real_estate_element.prices else None,\n",
    "\n",
    "        # Campos do modelo Address\n",
    "        'address_city': real_estate_element.address.city if real_estate_element.address else None,\n",
    "        'address_state_acronym': real_estate_element.address.stateAcronym if real_estate_element.address else None,\n",
    "        'address_neighborhood': real_estate_element.address.neighborhood if real_estate_element.address else None,\n",
    "        'address_is_approximate_location': real_estate_element.address.isApproximateLocation if real_estate_element.address else None,\n",
    "        'business': real_estate_element.business,\n",
    "        'highlight': real_estate_element.highlight,\n",
    "\n",
    "        # image_list como JSON\n",
    "        'image_list': json.dumps([image.model_dump() for image in real_estate_element.imageList]) if real_estate_element.imageList else None,\n",
    "\n",
    "        # Campos do modelo Amenities\n",
    "        'amenities_usable_areas': real_estate_element.amenities.usableAreas if real_estate_element.amenities else None,\n",
    "        'amenities_bedrooms': real_estate_element.amenities.bedrooms if real_estate_element.amenities else None,\n",
    "        'amenities_bathrooms': real_estate_element.amenities.bathrooms if real_estate_element.amenities else None,\n",
    "        'amenities_parking_spaces': real_estate_element.amenities.parkingSpaces if real_estate_element.amenities else None,\n",
    "        'amenities_values': json.dumps(real_estate_element.amenities.values) if real_estate_element.amenities and real_estate_element.amenities.values else None,\n",
    "        \n",
    "        # Campos do modelo RealEstate\n",
    "        'real_estate_id': real_estate_element.realEstate.id if real_estate_element.realEstate else None,\n",
    "        'real_estate_legacy_id': real_estate_element.realEstate.legacyId if real_estate_element.realEstate else None,\n",
    "        'real_estate_name': real_estate_element.realEstate.name if real_estate_element.realEstate else None,\n",
    "        'real_estate_advertiser_url': real_estate_element.realEstate.advertiserUrl if real_estate_element.realEstate else None,\n",
    "        'real_estate_tier': real_estate_element.realEstate.tier if real_estate_element.realEstate else None,\n",
    "        'real_estate_license': real_estate_element.realEstate.license if real_estate_element.realEstate else None,\n",
    "        'real_estate_created_date': real_estate_element.realEstate.createdDate if real_estate_element.realEstate else None,\n",
    "        'real_estate_phone_numbers': json.dumps(real_estate_element.realEstate.phoneNumbers) if real_estate_element.realEstate and real_estate_element.realEstate.phoneNumbers else None,\n",
    "        'real_estate_whats_app_number': real_estate_element.realEstate.whatsAppNumber if real_estate_element.realEstate else None,\n",
    "        'real_estate_default_message': real_estate_element.realEstate.defaultMessage if real_estate_element.realEstate else None,\n",
    "        'real_estate_total_count_by_filter': real_estate_element.realEstate.totalCountByFilter if real_estate_element.realEstate else None,\n",
    "        'real_estate_total_count_by_advertiser': real_estate_element.realEstate.totalCountByAdvertiser if real_estate_element.realEstate else None,\n",
    "        'real_estate_is_verified': real_estate_element.realEstate.isVerified if real_estate_element.realEstate else None,\n",
    "        'real_estate_is_premium': real_estate_element.realEstate.isPremium if real_estate_element.realEstate else None,\n",
    "        'real_estate_image_url': real_estate_element.realEstate.imageUrl if real_estate_element.realEstate else None,\n",
    "        \n",
    "        'visualized': real_estate_element.visualized,\n",
    "        'description': real_estate_element.description,\n",
    "        'is_no_warrantor_rent': real_estate_element.isNoWarrantorRent,\n",
    "        'construction_status': real_estate_element.constructionStatus,\n",
    "        'expansion_type': real_estate_element.expansionType,\n",
    "        'source_id': real_estate_element.sourceId,\n",
    "        'stamps': json.dumps(real_estate_element.stamps) if real_estate_element.stamps else None,\n",
    "        'unit_types': json.dumps(real_estate_element.unitTypes) if real_estate_element.unitTypes else None,\n",
    "        'display_address_type': real_estate_element.displayAddressType,\n",
    "\n",
    "        # Campos do modelo AdvertiserLogo\n",
    "        'advertiser_logo_src': real_estate_element.advertiserLogo.src if real_estate_element.advertiserLogo else None,\n",
    "        'advertiser_logo_alt': real_estate_element.advertiserLogo.alt if real_estate_element.advertiserLogo else None,\n",
    "    }\n",
    "\n",
    "    # Converter 'real_estate_created_date' para datetime, se necessário\n",
    "    if data['real_estate_created_date']:\n",
    "        try:\n",
    "            data['real_estate_created_date'] = datetime.fromisoformat(data['real_estate_created_date'].replace('Z', '+00:00'))\n",
    "        except ValueError:\n",
    "            data['real_estate_created_date'] = None\n",
    "\n",
    "    return data"
   ]
  },
  {
   "cell_type": "code",
   "execution_count": 4,
   "id": "8f0e1901-3f3f-4784-bb8f-b168a0324c44",
   "metadata": {},
   "outputs": [],
   "source": [
    "USER_AGENT = \"Mozilla/5.0 (X11; Linux x86_64) AppleWebKit/537.36 (KHTML, like Gecko) Chrome/71.0.3578.98 Safari/537.36\"\n",
    "\n",
    "\n",
    "@dataclass\n",
    "class RequestedPageResponse:\n",
    "    html: Any\n",
    "    code: int = 200\n",
    "    exception: Exception | None = None\n",
    "\n",
    "def get_page(url: str, timeout: int = 20, verbose: int = 0):\n",
    "\n",
    "    request = Request(url)\n",
    "\n",
    "    request.add_header(\"User-Agent\", USER_AGENT)\n",
    "\n",
    "    try:\n",
    "        return RequestedPageResponse(html=urlopen(request, timeout=timeout))\n",
    "    except HTTPError as e:\n",
    "        logger.error(\"[error]\", e)\n",
    "        return RequestedPageResponse(html=None, code=e.getcode(), exception=e)\n",
    "\n",
    "\n",
    "\n",
    "def backoff_hdlr(details):\n",
    "    time.sleep(3)\n",
    "    logger.warning(\"Backing off {wait:0.1f} seconds after {tries} tries \"\n",
    "           \"calling function {target} with args {args} and kwargs \"\n",
    "           \"{kwargs}\".format(**details))\n",
    "    \n",
    "@backoff.on_exception(\n",
    "    backoff.expo,\n",
    "    HTTPError,\n",
    "    max_tries=3,\n",
    "    logger=logger,\n",
    "    on_backoff=backoff_hdlr,\n",
    ")\n",
    "def get_page_html(page, action, type, localization):\n",
    "    url = f\"https://www.zapimoveis.com.br/{action}/{type}/{localization}/?pagina={page}\"\n",
    "    logger.debug(f\"Requesting info from '{url}'\")\n",
    "\n",
    "    response = get_page(url)\n",
    "\n",
    "    if response.code != HTTPStatus.OK:\n",
    "        raise response.exception\n",
    "\n",
    "    return response.html\n",
    "\n",
    "def get_page_properties(page_html):\n",
    "    soup = BeautifulSoup(page_html, \"html.parser\")\n",
    "    script = soup.find('script', id='__NEXT_DATA__')\n",
    "    listings = json.loads(script.text)\n",
    "    return (\n",
    "        listings\n",
    "        .get(\"props\", {})\n",
    "        .get(\"pageProps\", {})\n",
    "        .get(\"initialProps\", {})\n",
    "    )\n",
    "\n",
    "def get_total_listings(page_properties):\n",
    "    return (\n",
    "        page_properties\n",
    "        .get(\"pagination\", {})\n",
    "        .get(\"totalListings\", None)\n",
    "    )\n",
    "\n",
    "def get_real_state_data(page_properties):\n",
    "    raw_data = (\n",
    "        page_properties\n",
    "        .get(\"data\", {})\n",
    "    )\n",
    "    return [RealEstateElement(**d) for d in raw_data]\n"
   ]
  },
  {
   "cell_type": "code",
   "execution_count": 5,
   "id": "af9d1263-25ee-4c02-b415-9d3ae96d328f",
   "metadata": {},
   "outputs": [],
   "source": [
    "ACTION = \"venda\"\n",
    "LOCALIZATION = \"mg+pocos-de-caldas\"\n",
    "TYPE = \"imoveis\""
   ]
  },
  {
   "cell_type": "code",
   "execution_count": 6,
   "id": "39372644-87b0-4201-ac5c-86b6140b5a32",
   "metadata": {},
   "outputs": [],
   "source": [
    "# # Como o loop deve ficar na funcao principal\n",
    "# for page in [1,2, 1000, 3]:\n",
    "#     try:\n",
    "#         page_html = get_page_html(page=page, action=ACTION, type=TYPE, localization=LOCALIZATION)\n",
    "#     except HTTPError:\n",
    "#         logger.error(f\"Error on scrapping page {page}\")"
   ]
  },
  {
   "cell_type": "code",
   "execution_count": 15,
   "id": "248ad397-3137-42a6-b66b-5bfda38dbfa8",
   "metadata": {},
   "outputs": [
    {
     "name": "stderr",
     "output_type": "stream",
     "text": [
      "\u001b[32m2024-11-22 03:50:51.550\u001b[0m | \u001b[34m\u001b[1mDEBUG   \u001b[0m | \u001b[36m__main__\u001b[0m:\u001b[36mget_page_html\u001b[0m:\u001b[36m39\u001b[0m - \u001b[34m\u001b[1mRequesting info from 'https://www.zapimoveis.com.br/venda/imoveis/mg+pocos-de-caldas/?pagina=1'\u001b[0m\n"
     ]
    },
    {
     "name": "stdout",
     "output_type": "stream",
     "text": [
      "page_count = 1\n",
      "listings_count = 0\n",
      "\n",
      "\n",
      "\n"
     ]
    },
    {
     "name": "stderr",
     "output_type": "stream",
     "text": [
      "\u001b[32m2024-11-22 03:50:56.340\u001b[0m | \u001b[34m\u001b[1mDEBUG   \u001b[0m | \u001b[36m__main__\u001b[0m:\u001b[36mget_page_html\u001b[0m:\u001b[36m39\u001b[0m - \u001b[34m\u001b[1mRequesting info from 'https://www.zapimoveis.com.br/venda/imoveis/mg+pocos-de-caldas/?pagina=2'\u001b[0m\n"
     ]
    },
    {
     "name": "stdout",
     "output_type": "stream",
     "text": [
      "page_count = 2\n",
      "listings_count = 15\n",
      "\n",
      "\n",
      "\n"
     ]
    },
    {
     "name": "stderr",
     "output_type": "stream",
     "text": [
      "\u001b[32m2024-11-22 03:51:00.782\u001b[0m | \u001b[34m\u001b[1mDEBUG   \u001b[0m | \u001b[36m__main__\u001b[0m:\u001b[36mget_page_html\u001b[0m:\u001b[36m39\u001b[0m - \u001b[34m\u001b[1mRequesting info from 'https://www.zapimoveis.com.br/venda/imoveis/mg+pocos-de-caldas/?pagina=3'\u001b[0m\n"
     ]
    },
    {
     "name": "stdout",
     "output_type": "stream",
     "text": [
      "page_count = 3\n",
      "listings_count = 30\n",
      "\n",
      "\n",
      "\n"
     ]
    },
    {
     "name": "stderr",
     "output_type": "stream",
     "text": [
      "\u001b[32m2024-11-22 03:51:05.122\u001b[0m | \u001b[34m\u001b[1mDEBUG   \u001b[0m | \u001b[36m__main__\u001b[0m:\u001b[36mget_page_html\u001b[0m:\u001b[36m39\u001b[0m - \u001b[34m\u001b[1mRequesting info from 'https://www.zapimoveis.com.br/venda/imoveis/mg+pocos-de-caldas/?pagina=4'\u001b[0m\n"
     ]
    },
    {
     "name": "stdout",
     "output_type": "stream",
     "text": [
      "page_count = 4\n",
      "listings_count = 45\n",
      "\n",
      "\n",
      "\n"
     ]
    },
    {
     "name": "stderr",
     "output_type": "stream",
     "text": [
      "\u001b[32m2024-11-22 03:51:09.444\u001b[0m | \u001b[34m\u001b[1mDEBUG   \u001b[0m | \u001b[36m__main__\u001b[0m:\u001b[36mget_page_html\u001b[0m:\u001b[36m39\u001b[0m - \u001b[34m\u001b[1mRequesting info from 'https://www.zapimoveis.com.br/venda/imoveis/mg+pocos-de-caldas/?pagina=5'\u001b[0m\n"
     ]
    },
    {
     "name": "stdout",
     "output_type": "stream",
     "text": [
      "page_count = 5\n",
      "listings_count = 60\n",
      "\n",
      "\n",
      "\n"
     ]
    },
    {
     "name": "stderr",
     "output_type": "stream",
     "text": [
      "\u001b[32m2024-11-22 03:51:13.805\u001b[0m | \u001b[34m\u001b[1mDEBUG   \u001b[0m | \u001b[36m__main__\u001b[0m:\u001b[36mget_page_html\u001b[0m:\u001b[36m39\u001b[0m - \u001b[34m\u001b[1mRequesting info from 'https://www.zapimoveis.com.br/venda/imoveis/mg+pocos-de-caldas/?pagina=6'\u001b[0m\n"
     ]
    },
    {
     "name": "stdout",
     "output_type": "stream",
     "text": [
      "page_count = 6\n",
      "listings_count = 75\n",
      "\n",
      "\n",
      "\n"
     ]
    },
    {
     "name": "stderr",
     "output_type": "stream",
     "text": [
      "\u001b[32m2024-11-22 03:51:18.119\u001b[0m | \u001b[34m\u001b[1mDEBUG   \u001b[0m | \u001b[36m__main__\u001b[0m:\u001b[36mget_page_html\u001b[0m:\u001b[36m39\u001b[0m - \u001b[34m\u001b[1mRequesting info from 'https://www.zapimoveis.com.br/venda/imoveis/mg+pocos-de-caldas/?pagina=7'\u001b[0m\n"
     ]
    },
    {
     "name": "stdout",
     "output_type": "stream",
     "text": [
      "page_count = 7\n",
      "listings_count = 90\n",
      "\n",
      "\n",
      "\n"
     ]
    },
    {
     "name": "stderr",
     "output_type": "stream",
     "text": [
      "\u001b[32m2024-11-22 03:51:22.217\u001b[0m | \u001b[34m\u001b[1mDEBUG   \u001b[0m | \u001b[36m__main__\u001b[0m:\u001b[36mget_page_html\u001b[0m:\u001b[36m39\u001b[0m - \u001b[34m\u001b[1mRequesting info from 'https://www.zapimoveis.com.br/venda/imoveis/mg+pocos-de-caldas/?pagina=8'\u001b[0m\n"
     ]
    },
    {
     "name": "stdout",
     "output_type": "stream",
     "text": [
      "page_count = 8\n",
      "listings_count = 105\n",
      "\n",
      "\n",
      "\n"
     ]
    },
    {
     "name": "stderr",
     "output_type": "stream",
     "text": [
      "\u001b[32m2024-11-22 03:51:26.417\u001b[0m | \u001b[34m\u001b[1mDEBUG   \u001b[0m | \u001b[36m__main__\u001b[0m:\u001b[36mget_page_html\u001b[0m:\u001b[36m39\u001b[0m - \u001b[34m\u001b[1mRequesting info from 'https://www.zapimoveis.com.br/venda/imoveis/mg+pocos-de-caldas/?pagina=9'\u001b[0m\n"
     ]
    },
    {
     "name": "stdout",
     "output_type": "stream",
     "text": [
      "page_count = 9\n",
      "listings_count = 120\n",
      "\n",
      "\n",
      "\n"
     ]
    },
    {
     "name": "stderr",
     "output_type": "stream",
     "text": [
      "\u001b[32m2024-11-22 03:51:30.696\u001b[0m | \u001b[34m\u001b[1mDEBUG   \u001b[0m | \u001b[36m__main__\u001b[0m:\u001b[36mget_page_html\u001b[0m:\u001b[36m39\u001b[0m - \u001b[34m\u001b[1mRequesting info from 'https://www.zapimoveis.com.br/venda/imoveis/mg+pocos-de-caldas/?pagina=10'\u001b[0m\n"
     ]
    },
    {
     "name": "stdout",
     "output_type": "stream",
     "text": [
      "page_count = 10\n",
      "listings_count = 135\n",
      "\n",
      "\n",
      "\n"
     ]
    },
    {
     "name": "stderr",
     "output_type": "stream",
     "text": [
      "\u001b[32m2024-11-22 03:51:34.694\u001b[0m | \u001b[34m\u001b[1mDEBUG   \u001b[0m | \u001b[36m__main__\u001b[0m:\u001b[36mget_page_html\u001b[0m:\u001b[36m39\u001b[0m - \u001b[34m\u001b[1mRequesting info from 'https://www.zapimoveis.com.br/venda/imoveis/mg+pocos-de-caldas/?pagina=11'\u001b[0m\n"
     ]
    },
    {
     "name": "stdout",
     "output_type": "stream",
     "text": [
      "page_count = 11\n",
      "listings_count = 150\n",
      "\n",
      "\n",
      "\n"
     ]
    },
    {
     "name": "stderr",
     "output_type": "stream",
     "text": [
      "\u001b[32m2024-11-22 03:51:38.884\u001b[0m | \u001b[34m\u001b[1mDEBUG   \u001b[0m | \u001b[36m__main__\u001b[0m:\u001b[36mget_page_html\u001b[0m:\u001b[36m39\u001b[0m - \u001b[34m\u001b[1mRequesting info from 'https://www.zapimoveis.com.br/venda/imoveis/mg+pocos-de-caldas/?pagina=12'\u001b[0m\n"
     ]
    },
    {
     "name": "stdout",
     "output_type": "stream",
     "text": [
      "page_count = 12\n",
      "listings_count = 165\n",
      "\n",
      "\n",
      "\n"
     ]
    },
    {
     "name": "stderr",
     "output_type": "stream",
     "text": [
      "\u001b[32m2024-11-22 03:51:43.090\u001b[0m | \u001b[34m\u001b[1mDEBUG   \u001b[0m | \u001b[36m__main__\u001b[0m:\u001b[36mget_page_html\u001b[0m:\u001b[36m39\u001b[0m - \u001b[34m\u001b[1mRequesting info from 'https://www.zapimoveis.com.br/venda/imoveis/mg+pocos-de-caldas/?pagina=13'\u001b[0m\n"
     ]
    },
    {
     "name": "stdout",
     "output_type": "stream",
     "text": [
      "page_count = 13\n",
      "listings_count = 180\n",
      "\n",
      "\n",
      "\n"
     ]
    },
    {
     "name": "stderr",
     "output_type": "stream",
     "text": [
      "\u001b[32m2024-11-22 03:51:47.345\u001b[0m | \u001b[34m\u001b[1mDEBUG   \u001b[0m | \u001b[36m__main__\u001b[0m:\u001b[36mget_page_html\u001b[0m:\u001b[36m39\u001b[0m - \u001b[34m\u001b[1mRequesting info from 'https://www.zapimoveis.com.br/venda/imoveis/mg+pocos-de-caldas/?pagina=14'\u001b[0m\n"
     ]
    },
    {
     "name": "stdout",
     "output_type": "stream",
     "text": [
      "page_count = 14\n",
      "listings_count = 195\n",
      "\n",
      "\n",
      "\n"
     ]
    },
    {
     "name": "stderr",
     "output_type": "stream",
     "text": [
      "\u001b[32m2024-11-22 03:51:51.962\u001b[0m | \u001b[34m\u001b[1mDEBUG   \u001b[0m | \u001b[36m__main__\u001b[0m:\u001b[36mget_page_html\u001b[0m:\u001b[36m39\u001b[0m - \u001b[34m\u001b[1mRequesting info from 'https://www.zapimoveis.com.br/venda/imoveis/mg+pocos-de-caldas/?pagina=15'\u001b[0m\n"
     ]
    },
    {
     "name": "stdout",
     "output_type": "stream",
     "text": [
      "page_count = 15\n",
      "listings_count = 210\n",
      "\n",
      "\n",
      "\n"
     ]
    },
    {
     "name": "stderr",
     "output_type": "stream",
     "text": [
      "\u001b[32m2024-11-22 03:51:56.369\u001b[0m | \u001b[34m\u001b[1mDEBUG   \u001b[0m | \u001b[36m__main__\u001b[0m:\u001b[36mget_page_html\u001b[0m:\u001b[36m39\u001b[0m - \u001b[34m\u001b[1mRequesting info from 'https://www.zapimoveis.com.br/venda/imoveis/mg+pocos-de-caldas/?pagina=16'\u001b[0m\n"
     ]
    },
    {
     "name": "stdout",
     "output_type": "stream",
     "text": [
      "page_count = 16\n",
      "listings_count = 225\n",
      "\n",
      "\n",
      "\n"
     ]
    },
    {
     "name": "stderr",
     "output_type": "stream",
     "text": [
      "\u001b[32m2024-11-22 03:52:00.904\u001b[0m | \u001b[34m\u001b[1mDEBUG   \u001b[0m | \u001b[36m__main__\u001b[0m:\u001b[36mget_page_html\u001b[0m:\u001b[36m39\u001b[0m - \u001b[34m\u001b[1mRequesting info from 'https://www.zapimoveis.com.br/venda/imoveis/mg+pocos-de-caldas/?pagina=17'\u001b[0m\n"
     ]
    },
    {
     "name": "stdout",
     "output_type": "stream",
     "text": [
      "page_count = 17\n",
      "listings_count = 240\n",
      "\n",
      "\n",
      "\n"
     ]
    },
    {
     "name": "stderr",
     "output_type": "stream",
     "text": [
      "\u001b[32m2024-11-22 03:52:05.893\u001b[0m | \u001b[34m\u001b[1mDEBUG   \u001b[0m | \u001b[36m__main__\u001b[0m:\u001b[36mget_page_html\u001b[0m:\u001b[36m39\u001b[0m - \u001b[34m\u001b[1mRequesting info from 'https://www.zapimoveis.com.br/venda/imoveis/mg+pocos-de-caldas/?pagina=18'\u001b[0m\n"
     ]
    },
    {
     "name": "stdout",
     "output_type": "stream",
     "text": [
      "page_count = 18\n",
      "listings_count = 255\n",
      "\n",
      "\n",
      "\n"
     ]
    },
    {
     "name": "stderr",
     "output_type": "stream",
     "text": [
      "\u001b[32m2024-11-22 03:52:10.045\u001b[0m | \u001b[34m\u001b[1mDEBUG   \u001b[0m | \u001b[36m__main__\u001b[0m:\u001b[36mget_page_html\u001b[0m:\u001b[36m39\u001b[0m - \u001b[34m\u001b[1mRequesting info from 'https://www.zapimoveis.com.br/venda/imoveis/mg+pocos-de-caldas/?pagina=19'\u001b[0m\n"
     ]
    },
    {
     "name": "stdout",
     "output_type": "stream",
     "text": [
      "page_count = 19\n",
      "listings_count = 270\n",
      "\n",
      "\n",
      "\n"
     ]
    },
    {
     "name": "stderr",
     "output_type": "stream",
     "text": [
      "\u001b[32m2024-11-22 03:52:14.328\u001b[0m | \u001b[34m\u001b[1mDEBUG   \u001b[0m | \u001b[36m__main__\u001b[0m:\u001b[36mget_page_html\u001b[0m:\u001b[36m39\u001b[0m - \u001b[34m\u001b[1mRequesting info from 'https://www.zapimoveis.com.br/venda/imoveis/mg+pocos-de-caldas/?pagina=20'\u001b[0m\n"
     ]
    },
    {
     "name": "stdout",
     "output_type": "stream",
     "text": [
      "page_count = 20\n",
      "listings_count = 285\n",
      "\n",
      "\n",
      "\n"
     ]
    },
    {
     "name": "stderr",
     "output_type": "stream",
     "text": [
      "\u001b[32m2024-11-22 03:52:18.584\u001b[0m | \u001b[34m\u001b[1mDEBUG   \u001b[0m | \u001b[36m__main__\u001b[0m:\u001b[36mget_page_html\u001b[0m:\u001b[36m39\u001b[0m - \u001b[34m\u001b[1mRequesting info from 'https://www.zapimoveis.com.br/venda/imoveis/mg+pocos-de-caldas/?pagina=21'\u001b[0m\n"
     ]
    },
    {
     "name": "stdout",
     "output_type": "stream",
     "text": [
      "page_count = 21\n",
      "listings_count = 300\n",
      "\n",
      "\n",
      "\n"
     ]
    },
    {
     "name": "stderr",
     "output_type": "stream",
     "text": [
      "\u001b[32m2024-11-22 03:52:22.933\u001b[0m | \u001b[34m\u001b[1mDEBUG   \u001b[0m | \u001b[36m__main__\u001b[0m:\u001b[36mget_page_html\u001b[0m:\u001b[36m39\u001b[0m - \u001b[34m\u001b[1mRequesting info from 'https://www.zapimoveis.com.br/venda/imoveis/mg+pocos-de-caldas/?pagina=22'\u001b[0m\n"
     ]
    },
    {
     "name": "stdout",
     "output_type": "stream",
     "text": [
      "page_count = 22\n",
      "listings_count = 315\n",
      "\n",
      "\n",
      "\n"
     ]
    },
    {
     "name": "stderr",
     "output_type": "stream",
     "text": [
      "\u001b[32m2024-11-22 03:52:27.995\u001b[0m | \u001b[34m\u001b[1mDEBUG   \u001b[0m | \u001b[36m__main__\u001b[0m:\u001b[36mget_page_html\u001b[0m:\u001b[36m39\u001b[0m - \u001b[34m\u001b[1mRequesting info from 'https://www.zapimoveis.com.br/venda/imoveis/mg+pocos-de-caldas/?pagina=23'\u001b[0m\n"
     ]
    },
    {
     "name": "stdout",
     "output_type": "stream",
     "text": [
      "page_count = 23\n",
      "listings_count = 330\n",
      "\n",
      "\n",
      "\n"
     ]
    },
    {
     "name": "stderr",
     "output_type": "stream",
     "text": [
      "\u001b[32m2024-11-22 03:52:32.137\u001b[0m | \u001b[34m\u001b[1mDEBUG   \u001b[0m | \u001b[36m__main__\u001b[0m:\u001b[36mget_page_html\u001b[0m:\u001b[36m39\u001b[0m - \u001b[34m\u001b[1mRequesting info from 'https://www.zapimoveis.com.br/venda/imoveis/mg+pocos-de-caldas/?pagina=24'\u001b[0m\n"
     ]
    },
    {
     "name": "stdout",
     "output_type": "stream",
     "text": [
      "page_count = 24\n",
      "listings_count = 345\n",
      "\n",
      "\n",
      "\n"
     ]
    },
    {
     "name": "stderr",
     "output_type": "stream",
     "text": [
      "\u001b[32m2024-11-22 03:52:36.428\u001b[0m | \u001b[34m\u001b[1mDEBUG   \u001b[0m | \u001b[36m__main__\u001b[0m:\u001b[36mget_page_html\u001b[0m:\u001b[36m39\u001b[0m - \u001b[34m\u001b[1mRequesting info from 'https://www.zapimoveis.com.br/venda/imoveis/mg+pocos-de-caldas/?pagina=25'\u001b[0m\n"
     ]
    },
    {
     "name": "stdout",
     "output_type": "stream",
     "text": [
      "page_count = 25\n",
      "listings_count = 360\n",
      "\n",
      "\n",
      "\n"
     ]
    },
    {
     "name": "stderr",
     "output_type": "stream",
     "text": [
      "\u001b[32m2024-11-22 03:52:40.416\u001b[0m | \u001b[34m\u001b[1mDEBUG   \u001b[0m | \u001b[36m__main__\u001b[0m:\u001b[36mget_page_html\u001b[0m:\u001b[36m39\u001b[0m - \u001b[34m\u001b[1mRequesting info from 'https://www.zapimoveis.com.br/venda/imoveis/mg+pocos-de-caldas/?pagina=26'\u001b[0m\n"
     ]
    },
    {
     "name": "stdout",
     "output_type": "stream",
     "text": [
      "page_count = 26\n",
      "listings_count = 360\n",
      "\n",
      "\n",
      "\n"
     ]
    },
    {
     "name": "stderr",
     "output_type": "stream",
     "text": [
      "\u001b[32m2024-11-22 03:52:45.376\u001b[0m | \u001b[34m\u001b[1mDEBUG   \u001b[0m | \u001b[36m__main__\u001b[0m:\u001b[36mget_page_html\u001b[0m:\u001b[36m39\u001b[0m - \u001b[34m\u001b[1mRequesting info from 'https://www.zapimoveis.com.br/venda/imoveis/mg+pocos-de-caldas/?pagina=27'\u001b[0m\n"
     ]
    },
    {
     "name": "stdout",
     "output_type": "stream",
     "text": [
      "page_count = 27\n",
      "listings_count = 360\n",
      "\n",
      "\n",
      "\n"
     ]
    },
    {
     "name": "stderr",
     "output_type": "stream",
     "text": [
      "\u001b[32m2024-11-22 03:52:49.027\u001b[0m | \u001b[34m\u001b[1mDEBUG   \u001b[0m | \u001b[36m__main__\u001b[0m:\u001b[36mget_page_html\u001b[0m:\u001b[36m39\u001b[0m - \u001b[34m\u001b[1mRequesting info from 'https://www.zapimoveis.com.br/venda/imoveis/mg+pocos-de-caldas/?pagina=28'\u001b[0m\n"
     ]
    },
    {
     "name": "stdout",
     "output_type": "stream",
     "text": [
      "page_count = 28\n",
      "listings_count = 360\n",
      "\n",
      "\n",
      "\n"
     ]
    },
    {
     "name": "stderr",
     "output_type": "stream",
     "text": [
      "\u001b[32m2024-11-22 03:52:53.466\u001b[0m | \u001b[34m\u001b[1mDEBUG   \u001b[0m | \u001b[36m__main__\u001b[0m:\u001b[36mget_page_html\u001b[0m:\u001b[36m39\u001b[0m - \u001b[34m\u001b[1mRequesting info from 'https://www.zapimoveis.com.br/venda/imoveis/mg+pocos-de-caldas/?pagina=29'\u001b[0m\n"
     ]
    },
    {
     "name": "stdout",
     "output_type": "stream",
     "text": [
      "page_count = 29\n",
      "listings_count = 360\n",
      "\n",
      "\n",
      "\n"
     ]
    },
    {
     "name": "stderr",
     "output_type": "stream",
     "text": [
      "\u001b[32m2024-11-22 03:52:57.177\u001b[0m | \u001b[34m\u001b[1mDEBUG   \u001b[0m | \u001b[36m__main__\u001b[0m:\u001b[36mget_page_html\u001b[0m:\u001b[36m39\u001b[0m - \u001b[34m\u001b[1mRequesting info from 'https://www.zapimoveis.com.br/venda/imoveis/mg+pocos-de-caldas/?pagina=30'\u001b[0m\n"
     ]
    },
    {
     "name": "stdout",
     "output_type": "stream",
     "text": [
      "page_count = 30\n",
      "listings_count = 360\n",
      "\n",
      "\n",
      "\n"
     ]
    },
    {
     "name": "stderr",
     "output_type": "stream",
     "text": [
      "\u001b[32m2024-11-22 03:53:01.349\u001b[0m | \u001b[34m\u001b[1mDEBUG   \u001b[0m | \u001b[36m__main__\u001b[0m:\u001b[36mget_page_html\u001b[0m:\u001b[36m39\u001b[0m - \u001b[34m\u001b[1mRequesting info from 'https://www.zapimoveis.com.br/venda/imoveis/mg+pocos-de-caldas/?pagina=31'\u001b[0m\n"
     ]
    },
    {
     "name": "stdout",
     "output_type": "stream",
     "text": [
      "page_count = 31\n",
      "listings_count = 360\n",
      "\n",
      "\n",
      "\n"
     ]
    },
    {
     "name": "stderr",
     "output_type": "stream",
     "text": [
      "\u001b[32m2024-11-22 03:53:05.196\u001b[0m | \u001b[34m\u001b[1mDEBUG   \u001b[0m | \u001b[36m__main__\u001b[0m:\u001b[36mget_page_html\u001b[0m:\u001b[36m39\u001b[0m - \u001b[34m\u001b[1mRequesting info from 'https://www.zapimoveis.com.br/venda/imoveis/mg+pocos-de-caldas/?pagina=32'\u001b[0m\n"
     ]
    },
    {
     "name": "stdout",
     "output_type": "stream",
     "text": [
      "page_count = 32\n",
      "listings_count = 360\n",
      "\n",
      "\n",
      "\n"
     ]
    },
    {
     "name": "stderr",
     "output_type": "stream",
     "text": [
      "\u001b[32m2024-11-22 03:53:08.959\u001b[0m | \u001b[34m\u001b[1mDEBUG   \u001b[0m | \u001b[36m__main__\u001b[0m:\u001b[36mget_page_html\u001b[0m:\u001b[36m39\u001b[0m - \u001b[34m\u001b[1mRequesting info from 'https://www.zapimoveis.com.br/venda/imoveis/mg+pocos-de-caldas/?pagina=33'\u001b[0m\n"
     ]
    },
    {
     "name": "stdout",
     "output_type": "stream",
     "text": [
      "page_count = 33\n",
      "listings_count = 360\n",
      "\n",
      "\n",
      "\n"
     ]
    },
    {
     "name": "stderr",
     "output_type": "stream",
     "text": [
      "\u001b[32m2024-11-22 03:53:13.078\u001b[0m | \u001b[34m\u001b[1mDEBUG   \u001b[0m | \u001b[36m__main__\u001b[0m:\u001b[36mget_page_html\u001b[0m:\u001b[36m39\u001b[0m - \u001b[34m\u001b[1mRequesting info from 'https://www.zapimoveis.com.br/venda/imoveis/mg+pocos-de-caldas/?pagina=34'\u001b[0m\n"
     ]
    },
    {
     "name": "stdout",
     "output_type": "stream",
     "text": [
      "page_count = 34\n",
      "listings_count = 360\n",
      "\n",
      "\n",
      "\n"
     ]
    },
    {
     "name": "stderr",
     "output_type": "stream",
     "text": [
      "\u001b[32m2024-11-22 03:53:17.429\u001b[0m | \u001b[34m\u001b[1mDEBUG   \u001b[0m | \u001b[36m__main__\u001b[0m:\u001b[36mget_page_html\u001b[0m:\u001b[36m39\u001b[0m - \u001b[34m\u001b[1mRequesting info from 'https://www.zapimoveis.com.br/venda/imoveis/mg+pocos-de-caldas/?pagina=35'\u001b[0m\n"
     ]
    },
    {
     "name": "stdout",
     "output_type": "stream",
     "text": [
      "page_count = 35\n",
      "listings_count = 360\n",
      "\n",
      "\n",
      "\n"
     ]
    },
    {
     "name": "stderr",
     "output_type": "stream",
     "text": [
      "\u001b[32m2024-11-22 03:53:21.724\u001b[0m | \u001b[34m\u001b[1mDEBUG   \u001b[0m | \u001b[36m__main__\u001b[0m:\u001b[36mget_page_html\u001b[0m:\u001b[36m39\u001b[0m - \u001b[34m\u001b[1mRequesting info from 'https://www.zapimoveis.com.br/venda/imoveis/mg+pocos-de-caldas/?pagina=36'\u001b[0m\n"
     ]
    },
    {
     "name": "stdout",
     "output_type": "stream",
     "text": [
      "page_count = 36\n",
      "listings_count = 360\n",
      "\n",
      "\n",
      "\n"
     ]
    },
    {
     "name": "stderr",
     "output_type": "stream",
     "text": [
      "\u001b[32m2024-11-22 03:53:25.578\u001b[0m | \u001b[34m\u001b[1mDEBUG   \u001b[0m | \u001b[36m__main__\u001b[0m:\u001b[36mget_page_html\u001b[0m:\u001b[36m39\u001b[0m - \u001b[34m\u001b[1mRequesting info from 'https://www.zapimoveis.com.br/venda/imoveis/mg+pocos-de-caldas/?pagina=37'\u001b[0m\n"
     ]
    },
    {
     "name": "stdout",
     "output_type": "stream",
     "text": [
      "page_count = 37\n",
      "listings_count = 360\n",
      "\n",
      "\n",
      "\n"
     ]
    },
    {
     "ename": "KeyboardInterrupt",
     "evalue": "",
     "output_type": "error",
     "traceback": [
      "\u001b[0;31m---------------------------------------------------------------------------\u001b[0m",
      "\u001b[0;31mKeyboardInterrupt\u001b[0m                         Traceback (most recent call last)",
      "Cell \u001b[0;32mIn[15], line 31\u001b[0m\n\u001b[1;32m     29\u001b[0m \u001b[38;5;28;01mtry\u001b[39;00m:\n\u001b[1;32m     30\u001b[0m     search_date \u001b[38;5;241m=\u001b[39m datetime\u001b[38;5;241m.\u001b[39mnow()\n\u001b[0;32m---> 31\u001b[0m     page_html \u001b[38;5;241m=\u001b[39m \u001b[43mget_page_html\u001b[49m\u001b[43m(\u001b[49m\u001b[43mpage\u001b[49m\u001b[38;5;241;43m=\u001b[39;49m\u001b[43mpage_count\u001b[49m\u001b[43m,\u001b[49m\u001b[43m \u001b[49m\u001b[43maction\u001b[49m\u001b[38;5;241;43m=\u001b[39;49m\u001b[43mACTION\u001b[49m\u001b[43m,\u001b[49m\u001b[43m \u001b[49m\u001b[38;5;28;43mtype\u001b[39;49m\u001b[38;5;241;43m=\u001b[39;49m\u001b[43mTYPE\u001b[49m\u001b[43m,\u001b[49m\u001b[43m \u001b[49m\u001b[43mlocalization\u001b[49m\u001b[38;5;241;43m=\u001b[39;49m\u001b[43mLOCALIZATION\u001b[49m\u001b[43m)\u001b[49m\n\u001b[1;32m     32\u001b[0m     page_properties \u001b[38;5;241m=\u001b[39m get_page_properties(page_html)\n\u001b[1;32m     33\u001b[0m     total_listings \u001b[38;5;241m=\u001b[39m get_total_listings(page_properties)\n",
      "File \u001b[0;32m/opt/conda/lib/python3.11/site-packages/backoff/_sync.py:105\u001b[0m, in \u001b[0;36mretry_exception.<locals>.retry\u001b[0;34m(*args, **kwargs)\u001b[0m\n\u001b[1;32m     96\u001b[0m details \u001b[38;5;241m=\u001b[39m {\n\u001b[1;32m     97\u001b[0m     \u001b[38;5;124m\"\u001b[39m\u001b[38;5;124mtarget\u001b[39m\u001b[38;5;124m\"\u001b[39m: target,\n\u001b[1;32m     98\u001b[0m     \u001b[38;5;124m\"\u001b[39m\u001b[38;5;124margs\u001b[39m\u001b[38;5;124m\"\u001b[39m: args,\n\u001b[0;32m   (...)\u001b[0m\n\u001b[1;32m    101\u001b[0m     \u001b[38;5;124m\"\u001b[39m\u001b[38;5;124melapsed\u001b[39m\u001b[38;5;124m\"\u001b[39m: elapsed,\n\u001b[1;32m    102\u001b[0m }\n\u001b[1;32m    104\u001b[0m \u001b[38;5;28;01mtry\u001b[39;00m:\n\u001b[0;32m--> 105\u001b[0m     ret \u001b[38;5;241m=\u001b[39m \u001b[43mtarget\u001b[49m\u001b[43m(\u001b[49m\u001b[38;5;241;43m*\u001b[39;49m\u001b[43margs\u001b[49m\u001b[43m,\u001b[49m\u001b[43m \u001b[49m\u001b[38;5;241;43m*\u001b[39;49m\u001b[38;5;241;43m*\u001b[39;49m\u001b[43mkwargs\u001b[49m\u001b[43m)\u001b[49m\n\u001b[1;32m    106\u001b[0m \u001b[38;5;28;01mexcept\u001b[39;00m exception \u001b[38;5;28;01mas\u001b[39;00m e:\n\u001b[1;32m    107\u001b[0m     max_tries_exceeded \u001b[38;5;241m=\u001b[39m (tries \u001b[38;5;241m==\u001b[39m max_tries_value)\n",
      "Cell \u001b[0;32mIn[4], line 41\u001b[0m, in \u001b[0;36mget_page_html\u001b[0;34m(page, action, type, localization)\u001b[0m\n\u001b[1;32m     38\u001b[0m url \u001b[38;5;241m=\u001b[39m \u001b[38;5;124mf\u001b[39m\u001b[38;5;124m\"\u001b[39m\u001b[38;5;124mhttps://www.zapimoveis.com.br/\u001b[39m\u001b[38;5;132;01m{\u001b[39;00maction\u001b[38;5;132;01m}\u001b[39;00m\u001b[38;5;124m/\u001b[39m\u001b[38;5;132;01m{\u001b[39;00m\u001b[38;5;28mtype\u001b[39m\u001b[38;5;132;01m}\u001b[39;00m\u001b[38;5;124m/\u001b[39m\u001b[38;5;132;01m{\u001b[39;00mlocalization\u001b[38;5;132;01m}\u001b[39;00m\u001b[38;5;124m/?pagina=\u001b[39m\u001b[38;5;132;01m{\u001b[39;00mpage\u001b[38;5;132;01m}\u001b[39;00m\u001b[38;5;124m\"\u001b[39m\n\u001b[1;32m     39\u001b[0m logger\u001b[38;5;241m.\u001b[39mdebug(\u001b[38;5;124mf\u001b[39m\u001b[38;5;124m\"\u001b[39m\u001b[38;5;124mRequesting info from \u001b[39m\u001b[38;5;124m'\u001b[39m\u001b[38;5;132;01m{\u001b[39;00murl\u001b[38;5;132;01m}\u001b[39;00m\u001b[38;5;124m'\u001b[39m\u001b[38;5;124m\"\u001b[39m)\n\u001b[0;32m---> 41\u001b[0m response \u001b[38;5;241m=\u001b[39m \u001b[43mget_page\u001b[49m\u001b[43m(\u001b[49m\u001b[43murl\u001b[49m\u001b[43m)\u001b[49m\n\u001b[1;32m     43\u001b[0m \u001b[38;5;28;01mif\u001b[39;00m response\u001b[38;5;241m.\u001b[39mcode \u001b[38;5;241m!=\u001b[39m HTTPStatus\u001b[38;5;241m.\u001b[39mOK:\n\u001b[1;32m     44\u001b[0m     \u001b[38;5;28;01mraise\u001b[39;00m response\u001b[38;5;241m.\u001b[39mexception\n",
      "Cell \u001b[0;32mIn[4], line 17\u001b[0m, in \u001b[0;36mget_page\u001b[0;34m(url, timeout, verbose)\u001b[0m\n\u001b[1;32m     14\u001b[0m request\u001b[38;5;241m.\u001b[39madd_header(\u001b[38;5;124m\"\u001b[39m\u001b[38;5;124mUser-Agent\u001b[39m\u001b[38;5;124m\"\u001b[39m, USER_AGENT)\n\u001b[1;32m     16\u001b[0m \u001b[38;5;28;01mtry\u001b[39;00m:\n\u001b[0;32m---> 17\u001b[0m     \u001b[38;5;28;01mreturn\u001b[39;00m RequestedPageResponse(html\u001b[38;5;241m=\u001b[39m\u001b[43murlopen\u001b[49m\u001b[43m(\u001b[49m\u001b[43mrequest\u001b[49m\u001b[43m,\u001b[49m\u001b[43m \u001b[49m\u001b[43mtimeout\u001b[49m\u001b[38;5;241;43m=\u001b[39;49m\u001b[43mtimeout\u001b[49m\u001b[43m)\u001b[49m)\n\u001b[1;32m     18\u001b[0m \u001b[38;5;28;01mexcept\u001b[39;00m HTTPError \u001b[38;5;28;01mas\u001b[39;00m e:\n\u001b[1;32m     19\u001b[0m     logger\u001b[38;5;241m.\u001b[39merror(\u001b[38;5;124m\"\u001b[39m\u001b[38;5;124m[error]\u001b[39m\u001b[38;5;124m\"\u001b[39m, e)\n",
      "File \u001b[0;32m/opt/conda/lib/python3.11/urllib/request.py:216\u001b[0m, in \u001b[0;36murlopen\u001b[0;34m(url, data, timeout, cafile, capath, cadefault, context)\u001b[0m\n\u001b[1;32m    214\u001b[0m \u001b[38;5;28;01melse\u001b[39;00m:\n\u001b[1;32m    215\u001b[0m     opener \u001b[38;5;241m=\u001b[39m _opener\n\u001b[0;32m--> 216\u001b[0m \u001b[38;5;28;01mreturn\u001b[39;00m \u001b[43mopener\u001b[49m\u001b[38;5;241;43m.\u001b[39;49m\u001b[43mopen\u001b[49m\u001b[43m(\u001b[49m\u001b[43murl\u001b[49m\u001b[43m,\u001b[49m\u001b[43m \u001b[49m\u001b[43mdata\u001b[49m\u001b[43m,\u001b[49m\u001b[43m \u001b[49m\u001b[43mtimeout\u001b[49m\u001b[43m)\u001b[49m\n",
      "File \u001b[0;32m/opt/conda/lib/python3.11/urllib/request.py:519\u001b[0m, in \u001b[0;36mOpenerDirector.open\u001b[0;34m(self, fullurl, data, timeout)\u001b[0m\n\u001b[1;32m    516\u001b[0m     req \u001b[38;5;241m=\u001b[39m meth(req)\n\u001b[1;32m    518\u001b[0m sys\u001b[38;5;241m.\u001b[39maudit(\u001b[38;5;124m'\u001b[39m\u001b[38;5;124murllib.Request\u001b[39m\u001b[38;5;124m'\u001b[39m, req\u001b[38;5;241m.\u001b[39mfull_url, req\u001b[38;5;241m.\u001b[39mdata, req\u001b[38;5;241m.\u001b[39mheaders, req\u001b[38;5;241m.\u001b[39mget_method())\n\u001b[0;32m--> 519\u001b[0m response \u001b[38;5;241m=\u001b[39m \u001b[38;5;28;43mself\u001b[39;49m\u001b[38;5;241;43m.\u001b[39;49m\u001b[43m_open\u001b[49m\u001b[43m(\u001b[49m\u001b[43mreq\u001b[49m\u001b[43m,\u001b[49m\u001b[43m \u001b[49m\u001b[43mdata\u001b[49m\u001b[43m)\u001b[49m\n\u001b[1;32m    521\u001b[0m \u001b[38;5;66;03m# post-process response\u001b[39;00m\n\u001b[1;32m    522\u001b[0m meth_name \u001b[38;5;241m=\u001b[39m protocol\u001b[38;5;241m+\u001b[39m\u001b[38;5;124m\"\u001b[39m\u001b[38;5;124m_response\u001b[39m\u001b[38;5;124m\"\u001b[39m\n",
      "File \u001b[0;32m/opt/conda/lib/python3.11/urllib/request.py:536\u001b[0m, in \u001b[0;36mOpenerDirector._open\u001b[0;34m(self, req, data)\u001b[0m\n\u001b[1;32m    533\u001b[0m     \u001b[38;5;28;01mreturn\u001b[39;00m result\n\u001b[1;32m    535\u001b[0m protocol \u001b[38;5;241m=\u001b[39m req\u001b[38;5;241m.\u001b[39mtype\n\u001b[0;32m--> 536\u001b[0m result \u001b[38;5;241m=\u001b[39m \u001b[38;5;28;43mself\u001b[39;49m\u001b[38;5;241;43m.\u001b[39;49m\u001b[43m_call_chain\u001b[49m\u001b[43m(\u001b[49m\u001b[38;5;28;43mself\u001b[39;49m\u001b[38;5;241;43m.\u001b[39;49m\u001b[43mhandle_open\u001b[49m\u001b[43m,\u001b[49m\u001b[43m \u001b[49m\u001b[43mprotocol\u001b[49m\u001b[43m,\u001b[49m\u001b[43m \u001b[49m\u001b[43mprotocol\u001b[49m\u001b[43m \u001b[49m\u001b[38;5;241;43m+\u001b[39;49m\n\u001b[1;32m    537\u001b[0m \u001b[43m                          \u001b[49m\u001b[38;5;124;43m'\u001b[39;49m\u001b[38;5;124;43m_open\u001b[39;49m\u001b[38;5;124;43m'\u001b[39;49m\u001b[43m,\u001b[49m\u001b[43m \u001b[49m\u001b[43mreq\u001b[49m\u001b[43m)\u001b[49m\n\u001b[1;32m    538\u001b[0m \u001b[38;5;28;01mif\u001b[39;00m result:\n\u001b[1;32m    539\u001b[0m     \u001b[38;5;28;01mreturn\u001b[39;00m result\n",
      "File \u001b[0;32m/opt/conda/lib/python3.11/urllib/request.py:496\u001b[0m, in \u001b[0;36mOpenerDirector._call_chain\u001b[0;34m(self, chain, kind, meth_name, *args)\u001b[0m\n\u001b[1;32m    494\u001b[0m \u001b[38;5;28;01mfor\u001b[39;00m handler \u001b[38;5;129;01min\u001b[39;00m handlers:\n\u001b[1;32m    495\u001b[0m     func \u001b[38;5;241m=\u001b[39m \u001b[38;5;28mgetattr\u001b[39m(handler, meth_name)\n\u001b[0;32m--> 496\u001b[0m     result \u001b[38;5;241m=\u001b[39m \u001b[43mfunc\u001b[49m\u001b[43m(\u001b[49m\u001b[38;5;241;43m*\u001b[39;49m\u001b[43margs\u001b[49m\u001b[43m)\u001b[49m\n\u001b[1;32m    497\u001b[0m     \u001b[38;5;28;01mif\u001b[39;00m result \u001b[38;5;129;01mis\u001b[39;00m \u001b[38;5;129;01mnot\u001b[39;00m \u001b[38;5;28;01mNone\u001b[39;00m:\n\u001b[1;32m    498\u001b[0m         \u001b[38;5;28;01mreturn\u001b[39;00m result\n",
      "File \u001b[0;32m/opt/conda/lib/python3.11/urllib/request.py:1391\u001b[0m, in \u001b[0;36mHTTPSHandler.https_open\u001b[0;34m(self, req)\u001b[0m\n\u001b[1;32m   1390\u001b[0m \u001b[38;5;28;01mdef\u001b[39;00m \u001b[38;5;21mhttps_open\u001b[39m(\u001b[38;5;28mself\u001b[39m, req):\n\u001b[0;32m-> 1391\u001b[0m     \u001b[38;5;28;01mreturn\u001b[39;00m \u001b[38;5;28;43mself\u001b[39;49m\u001b[38;5;241;43m.\u001b[39;49m\u001b[43mdo_open\u001b[49m\u001b[43m(\u001b[49m\u001b[43mhttp\u001b[49m\u001b[38;5;241;43m.\u001b[39;49m\u001b[43mclient\u001b[49m\u001b[38;5;241;43m.\u001b[39;49m\u001b[43mHTTPSConnection\u001b[49m\u001b[43m,\u001b[49m\u001b[43m \u001b[49m\u001b[43mreq\u001b[49m\u001b[43m,\u001b[49m\n\u001b[1;32m   1392\u001b[0m \u001b[43m        \u001b[49m\u001b[43mcontext\u001b[49m\u001b[38;5;241;43m=\u001b[39;49m\u001b[38;5;28;43mself\u001b[39;49m\u001b[38;5;241;43m.\u001b[39;49m\u001b[43m_context\u001b[49m\u001b[43m,\u001b[49m\u001b[43m \u001b[49m\u001b[43mcheck_hostname\u001b[49m\u001b[38;5;241;43m=\u001b[39;49m\u001b[38;5;28;43mself\u001b[39;49m\u001b[38;5;241;43m.\u001b[39;49m\u001b[43m_check_hostname\u001b[49m\u001b[43m)\u001b[49m\n",
      "File \u001b[0;32m/opt/conda/lib/python3.11/urllib/request.py:1352\u001b[0m, in \u001b[0;36mAbstractHTTPHandler.do_open\u001b[0;34m(self, http_class, req, **http_conn_args)\u001b[0m\n\u001b[1;32m   1350\u001b[0m     \u001b[38;5;28;01mexcept\u001b[39;00m \u001b[38;5;167;01mOSError\u001b[39;00m \u001b[38;5;28;01mas\u001b[39;00m err: \u001b[38;5;66;03m# timeout error\u001b[39;00m\n\u001b[1;32m   1351\u001b[0m         \u001b[38;5;28;01mraise\u001b[39;00m URLError(err)\n\u001b[0;32m-> 1352\u001b[0m     r \u001b[38;5;241m=\u001b[39m \u001b[43mh\u001b[49m\u001b[38;5;241;43m.\u001b[39;49m\u001b[43mgetresponse\u001b[49m\u001b[43m(\u001b[49m\u001b[43m)\u001b[49m\n\u001b[1;32m   1353\u001b[0m \u001b[38;5;28;01mexcept\u001b[39;00m:\n\u001b[1;32m   1354\u001b[0m     h\u001b[38;5;241m.\u001b[39mclose()\n",
      "File \u001b[0;32m/opt/conda/lib/python3.11/http/client.py:1378\u001b[0m, in \u001b[0;36mHTTPConnection.getresponse\u001b[0;34m(self)\u001b[0m\n\u001b[1;32m   1376\u001b[0m \u001b[38;5;28;01mtry\u001b[39;00m:\n\u001b[1;32m   1377\u001b[0m     \u001b[38;5;28;01mtry\u001b[39;00m:\n\u001b[0;32m-> 1378\u001b[0m         \u001b[43mresponse\u001b[49m\u001b[38;5;241;43m.\u001b[39;49m\u001b[43mbegin\u001b[49m\u001b[43m(\u001b[49m\u001b[43m)\u001b[49m\n\u001b[1;32m   1379\u001b[0m     \u001b[38;5;28;01mexcept\u001b[39;00m \u001b[38;5;167;01mConnectionError\u001b[39;00m:\n\u001b[1;32m   1380\u001b[0m         \u001b[38;5;28mself\u001b[39m\u001b[38;5;241m.\u001b[39mclose()\n",
      "File \u001b[0;32m/opt/conda/lib/python3.11/http/client.py:318\u001b[0m, in \u001b[0;36mHTTPResponse.begin\u001b[0;34m(self)\u001b[0m\n\u001b[1;32m    316\u001b[0m \u001b[38;5;66;03m# read until we get a non-100 response\u001b[39;00m\n\u001b[1;32m    317\u001b[0m \u001b[38;5;28;01mwhile\u001b[39;00m \u001b[38;5;28;01mTrue\u001b[39;00m:\n\u001b[0;32m--> 318\u001b[0m     version, status, reason \u001b[38;5;241m=\u001b[39m \u001b[38;5;28;43mself\u001b[39;49m\u001b[38;5;241;43m.\u001b[39;49m\u001b[43m_read_status\u001b[49m\u001b[43m(\u001b[49m\u001b[43m)\u001b[49m\n\u001b[1;32m    319\u001b[0m     \u001b[38;5;28;01mif\u001b[39;00m status \u001b[38;5;241m!=\u001b[39m CONTINUE:\n\u001b[1;32m    320\u001b[0m         \u001b[38;5;28;01mbreak\u001b[39;00m\n",
      "File \u001b[0;32m/opt/conda/lib/python3.11/http/client.py:279\u001b[0m, in \u001b[0;36mHTTPResponse._read_status\u001b[0;34m(self)\u001b[0m\n\u001b[1;32m    278\u001b[0m \u001b[38;5;28;01mdef\u001b[39;00m \u001b[38;5;21m_read_status\u001b[39m(\u001b[38;5;28mself\u001b[39m):\n\u001b[0;32m--> 279\u001b[0m     line \u001b[38;5;241m=\u001b[39m \u001b[38;5;28mstr\u001b[39m(\u001b[38;5;28mself\u001b[39m\u001b[38;5;241m.\u001b[39mfp\u001b[38;5;241m.\u001b[39mreadline(_MAXLINE \u001b[38;5;241m+\u001b[39m \u001b[38;5;241m1\u001b[39m), \u001b[38;5;124m\"\u001b[39m\u001b[38;5;124miso-8859-1\u001b[39m\u001b[38;5;124m\"\u001b[39m)\n\u001b[1;32m    280\u001b[0m     \u001b[38;5;28;01mif\u001b[39;00m \u001b[38;5;28mlen\u001b[39m(line) \u001b[38;5;241m>\u001b[39m _MAXLINE:\n\u001b[1;32m    281\u001b[0m         \u001b[38;5;28;01mraise\u001b[39;00m LineTooLong(\u001b[38;5;124m\"\u001b[39m\u001b[38;5;124mstatus line\u001b[39m\u001b[38;5;124m\"\u001b[39m)\n",
      "File \u001b[0;32m/opt/conda/lib/python3.11/socket.py:706\u001b[0m, in \u001b[0;36mSocketIO.readinto\u001b[0;34m(self, b)\u001b[0m\n\u001b[1;32m    704\u001b[0m \u001b[38;5;28;01mwhile\u001b[39;00m \u001b[38;5;28;01mTrue\u001b[39;00m:\n\u001b[1;32m    705\u001b[0m     \u001b[38;5;28;01mtry\u001b[39;00m:\n\u001b[0;32m--> 706\u001b[0m         \u001b[38;5;28;01mreturn\u001b[39;00m \u001b[38;5;28;43mself\u001b[39;49m\u001b[38;5;241;43m.\u001b[39;49m\u001b[43m_sock\u001b[49m\u001b[38;5;241;43m.\u001b[39;49m\u001b[43mrecv_into\u001b[49m\u001b[43m(\u001b[49m\u001b[43mb\u001b[49m\u001b[43m)\u001b[49m\n\u001b[1;32m    707\u001b[0m     \u001b[38;5;28;01mexcept\u001b[39;00m timeout:\n\u001b[1;32m    708\u001b[0m         \u001b[38;5;28mself\u001b[39m\u001b[38;5;241m.\u001b[39m_timeout_occurred \u001b[38;5;241m=\u001b[39m \u001b[38;5;28;01mTrue\u001b[39;00m\n",
      "File \u001b[0;32m/opt/conda/lib/python3.11/ssl.py:1311\u001b[0m, in \u001b[0;36mSSLSocket.recv_into\u001b[0;34m(self, buffer, nbytes, flags)\u001b[0m\n\u001b[1;32m   1307\u001b[0m     \u001b[38;5;28;01mif\u001b[39;00m flags \u001b[38;5;241m!=\u001b[39m \u001b[38;5;241m0\u001b[39m:\n\u001b[1;32m   1308\u001b[0m         \u001b[38;5;28;01mraise\u001b[39;00m \u001b[38;5;167;01mValueError\u001b[39;00m(\n\u001b[1;32m   1309\u001b[0m           \u001b[38;5;124m\"\u001b[39m\u001b[38;5;124mnon-zero flags not allowed in calls to recv_into() on \u001b[39m\u001b[38;5;132;01m%s\u001b[39;00m\u001b[38;5;124m\"\u001b[39m \u001b[38;5;241m%\u001b[39m\n\u001b[1;32m   1310\u001b[0m           \u001b[38;5;28mself\u001b[39m\u001b[38;5;241m.\u001b[39m\u001b[38;5;18m__class__\u001b[39m)\n\u001b[0;32m-> 1311\u001b[0m     \u001b[38;5;28;01mreturn\u001b[39;00m \u001b[38;5;28;43mself\u001b[39;49m\u001b[38;5;241;43m.\u001b[39;49m\u001b[43mread\u001b[49m\u001b[43m(\u001b[49m\u001b[43mnbytes\u001b[49m\u001b[43m,\u001b[49m\u001b[43m \u001b[49m\u001b[43mbuffer\u001b[49m\u001b[43m)\u001b[49m\n\u001b[1;32m   1312\u001b[0m \u001b[38;5;28;01melse\u001b[39;00m:\n\u001b[1;32m   1313\u001b[0m     \u001b[38;5;28;01mreturn\u001b[39;00m \u001b[38;5;28msuper\u001b[39m()\u001b[38;5;241m.\u001b[39mrecv_into(buffer, nbytes, flags)\n",
      "File \u001b[0;32m/opt/conda/lib/python3.11/ssl.py:1167\u001b[0m, in \u001b[0;36mSSLSocket.read\u001b[0;34m(self, len, buffer)\u001b[0m\n\u001b[1;32m   1165\u001b[0m \u001b[38;5;28;01mtry\u001b[39;00m:\n\u001b[1;32m   1166\u001b[0m     \u001b[38;5;28;01mif\u001b[39;00m buffer \u001b[38;5;129;01mis\u001b[39;00m \u001b[38;5;129;01mnot\u001b[39;00m \u001b[38;5;28;01mNone\u001b[39;00m:\n\u001b[0;32m-> 1167\u001b[0m         \u001b[38;5;28;01mreturn\u001b[39;00m \u001b[38;5;28;43mself\u001b[39;49m\u001b[38;5;241;43m.\u001b[39;49m\u001b[43m_sslobj\u001b[49m\u001b[38;5;241;43m.\u001b[39;49m\u001b[43mread\u001b[49m\u001b[43m(\u001b[49m\u001b[38;5;28;43mlen\u001b[39;49m\u001b[43m,\u001b[49m\u001b[43m \u001b[49m\u001b[43mbuffer\u001b[49m\u001b[43m)\u001b[49m\n\u001b[1;32m   1168\u001b[0m     \u001b[38;5;28;01melse\u001b[39;00m:\n\u001b[1;32m   1169\u001b[0m         \u001b[38;5;28;01mreturn\u001b[39;00m \u001b[38;5;28mself\u001b[39m\u001b[38;5;241m.\u001b[39m_sslobj\u001b[38;5;241m.\u001b[39mread(\u001b[38;5;28mlen\u001b[39m)\n",
      "\u001b[0;31mKeyboardInterrupt\u001b[0m: "
     ]
    }
   ],
   "source": [
    "import time\n",
    "from sqlalchemy import create_engine\n",
    "import os\n",
    "import pandas as pd\n",
    "from urllib.parse import quote_plus\n",
    "\n",
    "db_params = dict(\n",
    "    user=os.getenv(\"PSQL_USERNAME\"),\n",
    "    password=quote_plus(os.getenv(\"PSQL_PASSWORD\")),\n",
    "    host=os.getenv(\"PSQL_HOST\"),\n",
    "    port=os.getenv(\"PSQL_PORT\"),\n",
    "    dbname=os.getenv(\"PSQL_NAME\"),\n",
    ")\n",
    "\n",
    "db_url = f\"postgresql://{db_params['user']}:{db_params['password']}@{db_params['host']}:{db_params['port']}/{db_params['dbname']}\"\n",
    "engine = create_engine(db_url)\n",
    "\n",
    "\n",
    "MAX_LISTINGS = 2700\n",
    "TABLE_NAME = \"real_estate\"\n",
    "\n",
    "total_listings = None\n",
    "\n",
    "page_count = 1\n",
    "listings_count = 0\n",
    "while (listings_count < (total_listings or 1e8) ) and (listings_count < MAX_LISTINGS):\n",
    "    print(f\"page_count = {page_count}\")\n",
    "    print(f\"listings_count = {listings_count}\\n\\n\\n\")\n",
    "    try:\n",
    "        search_date = datetime.now()\n",
    "        page_html = get_page_html(page=page_count, action=ACTION, type=TYPE, localization=LOCALIZATION)\n",
    "        page_properties = get_page_properties(page_html)\n",
    "        total_listings = get_total_listings(page_properties)\n",
    "        real_state_data = get_real_state_data(page_properties)\n",
    "        new_df = pd.DataFrame([real_estate_element_to_dict(x, search_date) for x in real_state_data])\n",
    "        new_df.to_sql(TABLE_NAME, engine, if_exists='append', index=False)\n",
    "        listings_count += len(new_df)\n",
    "        if len(len(new_df)) == 0:\n",
    "            break\n",
    "    except HTTPError as err:\n",
    "        logger.error(f\"Error on scrapping page {page}\")\n",
    "        break\n",
    "\n",
    "    page_count += 1;\n",
    "    time.sleep(3)"
   ]
  },
  {
   "cell_type": "code",
   "execution_count": 17,
   "id": "deaeab16-ffc1-475f-9d5d-6db02e752373",
   "metadata": {},
   "outputs": [
    {
     "data": {
      "text/plain": [
       "0"
      ]
     },
     "execution_count": 17,
     "metadata": {},
     "output_type": "execute_result"
    }
   ],
   "source": [
    "len(new_df)\n",
    "\n"
   ]
  },
  {
   "cell_type": "code",
   "execution_count": 16,
   "id": "b97153c2-a481-40d6-b435-f80c784cfc41",
   "metadata": {},
   "outputs": [
    {
     "name": "stderr",
     "output_type": "stream",
     "text": [
      "\u001b[32m2024-11-22 03:53:46.005\u001b[0m | \u001b[34m\u001b[1mDEBUG   \u001b[0m | \u001b[36m__main__\u001b[0m:\u001b[36mget_page_html\u001b[0m:\u001b[36m39\u001b[0m - \u001b[34m\u001b[1mRequesting info from 'https://www.zapimoveis.com.br/venda/imoveis/mg+pocos-de-caldas/?pagina=37'\u001b[0m\n"
     ]
    },
    {
     "data": {
      "text/plain": [
       "<http.client.HTTPResponse at 0x7633d7db8670>"
      ]
     },
     "execution_count": 16,
     "metadata": {},
     "output_type": "execute_result"
    }
   ],
   "source": [
    "get_page_html(page=37, action=ACTION, type=TYPE, localization=LOCALIZATION)"
   ]
  },
  {
   "cell_type": "code",
   "execution_count": 7,
   "id": "5669e449-4d79-49ed-8827-22a06e2a4656",
   "metadata": {},
   "outputs": [
    {
     "name": "stderr",
     "output_type": "stream",
     "text": [
      "\u001b[32m2024-11-22 03:45:37.477\u001b[0m | \u001b[34m\u001b[1mDEBUG   \u001b[0m | \u001b[36m__main__\u001b[0m:\u001b[36mget_page_html\u001b[0m:\u001b[36m39\u001b[0m - \u001b[34m\u001b[1mRequesting info from 'https://www.zapimoveis.com.br/venda/imoveis/mg+pocos-de-caldas/?pagina=1'\u001b[0m\n"
     ]
    }
   ],
   "source": [
    "page_count = 1\n",
    "page_html = get_page_html(page=page_count, action=ACTION, type=TYPE, localization=LOCALIZATION)\n",
    "page_properties = get_page_properties(page_html)\n",
    "total_listings = get_total_listings(page_properties)\n",
    "real_state_data = get_real_state_data(page_properties)"
   ]
  },
  {
   "cell_type": "code",
   "execution_count": null,
   "id": "024ab1d6-4643-4a2d-b0c2-81d97b79be59",
   "metadata": {},
   "outputs": [
    {
     "name": "stdout",
     "output_type": "stream",
     "text": [
      "\u001b[33mWARNING: The directory '/home/jovyan/.cache/pip' or its parent directory is not owned or is not writable by the current user. The cache has been disabled. Check the permissions and owner of that directory. If executing pip with sudo, you should use sudo's -H flag.\u001b[0m\u001b[33m\n",
      "\u001b[0m\u001b[33mWARNING: Retrying (Retry(total=4, connect=None, read=None, redirect=None, status=None)) after connection broken by 'NewConnectionError('<pip._vendor.urllib3.connection.HTTPSConnection object at 0x7335c177aed0>: Failed to establish a new connection: [Errno -3] Temporary failure in name resolution')': /simple/fake-useragent/\u001b[0m\u001b[33m\n",
      "\u001b[0m"
     ]
    }
   ],
   "source": [
    "!pip install fake_useragent"
   ]
  },
  {
   "cell_type": "code",
   "execution_count": 9,
   "id": "e6386d3b-380d-47d0-9d99-8a713e5afbe0",
   "metadata": {},
   "outputs": [
    {
     "ename": "ModuleNotFoundError",
     "evalue": "No module named 'fake_useragent'",
     "output_type": "error",
     "traceback": [
      "\u001b[0;31m---------------------------------------------------------------------------\u001b[0m",
      "\u001b[0;31mModuleNotFoundError\u001b[0m                       Traceback (most recent call last)",
      "Cell \u001b[0;32mIn[9], line 10\u001b[0m\n\u001b[1;32m      1\u001b[0m headers \u001b[38;5;241m=\u001b[39m {\n\u001b[1;32m      2\u001b[0m     \u001b[38;5;124m\"\u001b[39m\u001b[38;5;124mUser-Agent\u001b[39m\u001b[38;5;124m\"\u001b[39m: \u001b[38;5;124m\"\u001b[39m\u001b[38;5;124mMozilla/5.0 (Windows NT 10.0; Win64; x64) AppleWebKit/537.36 (KHTML, like Gecko) Chrome/91.0.4472.124 Safari/537.36\u001b[39m\u001b[38;5;124m\"\u001b[39m,\n\u001b[1;32m      3\u001b[0m     \u001b[38;5;124m\"\u001b[39m\u001b[38;5;124mAccept\u001b[39m\u001b[38;5;124m\"\u001b[39m: \u001b[38;5;124m\"\u001b[39m\u001b[38;5;124mtext/html,application/xhtml+xml,application/xml;q=0.9,*/*;q=0.8\u001b[39m\u001b[38;5;124m\"\u001b[39m,\n\u001b[0;32m   (...)\u001b[0m\n\u001b[1;32m      7\u001b[0m     \u001b[38;5;124m\"\u001b[39m\u001b[38;5;124mUpgrade-Insecure-Requests\u001b[39m\u001b[38;5;124m\"\u001b[39m: \u001b[38;5;124m\"\u001b[39m\u001b[38;5;124m1\u001b[39m\u001b[38;5;124m\"\u001b[39m,\n\u001b[1;32m      8\u001b[0m }\n\u001b[0;32m---> 10\u001b[0m \u001b[38;5;28;01mfrom\u001b[39;00m \u001b[38;5;21;01mfake_useragent\u001b[39;00m \u001b[38;5;28;01mimport\u001b[39;00m UserAgent\n\u001b[1;32m     11\u001b[0m ua \u001b[38;5;241m=\u001b[39m UserAgent()\n\u001b[1;32m     12\u001b[0m headers \u001b[38;5;241m=\u001b[39m {\u001b[38;5;124m\"\u001b[39m\u001b[38;5;124mUser-Agent\u001b[39m\u001b[38;5;124m\"\u001b[39m: ua\u001b[38;5;241m.\u001b[39mrandom}\n",
      "\u001b[0;31mModuleNotFoundError\u001b[0m: No module named 'fake_useragent'"
     ]
    }
   ],
   "source": [
    "headers = {\n",
    "    \"User-Agent\": \"Mozilla/5.0 (Windows NT 10.0; Win64; x64) AppleWebKit/537.36 (KHTML, like Gecko) Chrome/91.0.4472.124 Safari/537.36\",\n",
    "    \"Accept\": \"text/html,application/xhtml+xml,application/xml;q=0.9,*/*;q=0.8\",\n",
    "    \"Accept-Language\": \"en-US,en;q=0.5\",\n",
    "    \"Accept-Encoding\": \"gzip, deflate, br\",\n",
    "    \"Connection\": \"keep-alive\",\n",
    "    \"Upgrade-Insecure-Requests\": \"1\",\n",
    "}\n",
    "\n",
    "from fake_useragent import UserAgent\n",
    "ua = UserAgent()\n",
    "headers = {\"User-Agent\": ua.random}"
   ]
  },
  {
   "cell_type": "code",
   "execution_count": 93,
   "id": "c5277c79-16dc-4f3a-9941-6325e9d425e7",
   "metadata": {},
   "outputs": [
    {
     "name": "stdout",
     "output_type": "stream",
     "text": [
      "0\n",
      "1\n",
      "2\n",
      "3\n",
      "4\n",
      "5\n",
      "6\n",
      "7\n",
      "8\n",
      "9\n"
     ]
    }
   ],
   "source": [
    "MAX_LISTINGS = 10\n",
    "count = 0\n",
    "while (count < total_listings) and (count < MAX_LISTINGS):\n",
    "    print(count)\n",
    "    count += 1;"
   ]
  },
  {
   "cell_type": "code",
   "execution_count": 66,
   "id": "3c46d318-fc78-4fd5-aaa3-6d81711298aa",
   "metadata": {},
   "outputs": [
    {
     "data": {
      "text/plain": [
       "dict_keys(['campaigns', 'initialProps', 'trackingData', 'initialCms', 'pageCategory', 'contingency', 'experiments', 'featureToggle', 'gtmId', 'seasonalCampaigns'])"
      ]
     },
     "execution_count": 66,
     "metadata": {},
     "output_type": "execute_result"
    }
   ],
   "source": [
    "listings[\"props\"][\"pageProps\"].keys()"
   ]
  },
  {
   "cell_type": "code",
   "execution_count": 67,
   "id": "0da54c46-f663-4602-96f2-8586f2380933",
   "metadata": {},
   "outputs": [
    {
     "data": {
      "text/plain": [
       "{'totalListings': 2378, 'range': 3, 'total': 24, 'current': 4}"
      ]
     },
     "execution_count": 67,
     "metadata": {},
     "output_type": "execute_result"
    }
   ],
   "source": [
    "listings[\"props\"][\"pageProps\"][\"initialProps\"][\"pagination\"]"
   ]
  },
  {
   "cell_type": "code",
   "execution_count": 51,
   "id": "11704426-aff1-4fbc-a7e2-16c616e1bfee",
   "metadata": {},
   "outputs": [
    {
     "data": {
      "text/plain": [
       "dict_keys(['isCampaignPage', 'isPublisherPage', 'isDeduplication', 'filters', 'data', 'pagination', 'levels', 'metaContent', 'searchText', 'schema', 'widgets', 'amenities'])"
      ]
     },
     "execution_count": 51,
     "metadata": {},
     "output_type": "execute_result"
    }
   ],
   "source": [
    "listings[\"props\"][\"pageProps\"][\"initialProps\"].keys()"
   ]
  },
  {
   "cell_type": "code",
   "execution_count": 18,
   "id": "6c982880-3b42-49d7-8b6d-f4a1776f3fe0",
   "metadata": {},
   "outputs": [],
   "source": [
    "data = get_real_state_data(page_html)"
   ]
  },
  {
   "cell_type": "code",
   "execution_count": 89,
   "id": "29f11e2c-8fe9-40d3-9c50-e257c3dd0568",
   "metadata": {},
   "outputs": [
    {
     "data": {
      "text/plain": [
       "2377"
      ]
     },
     "execution_count": 89,
     "metadata": {},
     "output_type": "execute_result"
    }
   ],
   "source": [
    "total_listings"
   ]
  },
  {
   "cell_type": "code",
   "execution_count": null,
   "id": "9f2cfb17-b07c-4794-bf18-e46ac22923f2",
   "metadata": {},
   "outputs": [],
   "source": []
  },
  {
   "cell_type": "code",
   "execution_count": null,
   "id": "e584eef6-0ace-43e3-befb-3c60ee0ec2fe",
   "metadata": {},
   "outputs": [],
   "source": []
  },
  {
   "cell_type": "code",
   "execution_count": null,
   "id": "7771d75d-be4b-4f7d-b077-a93f82f40fd4",
   "metadata": {},
   "outputs": [],
   "source": []
  },
  {
   "cell_type": "code",
   "execution_count": null,
   "id": "f139e478-1699-4f7d-ae77-ff3cc28e3f99",
   "metadata": {},
   "outputs": [],
   "source": []
  }
 ],
 "metadata": {
  "kernelspec": {
   "display_name": "Python 3 (ipykernel)",
   "language": "python",
   "name": "python3"
  },
  "language_info": {
   "codemirror_mode": {
    "name": "ipython",
    "version": 3
   },
   "file_extension": ".py",
   "mimetype": "text/x-python",
   "name": "python",
   "nbconvert_exporter": "python",
   "pygments_lexer": "ipython3",
   "version": "3.11.6"
  }
 },
 "nbformat": 4,
 "nbformat_minor": 5
}
