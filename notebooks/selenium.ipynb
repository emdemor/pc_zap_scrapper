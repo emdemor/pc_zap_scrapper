{
 "cells": [
  {
   "cell_type": "code",
   "execution_count": 9,
   "id": "0ca8e3b8-324c-47c3-a170-9dc33f9ad3d8",
   "metadata": {},
   "outputs": [],
   "source": [
    "!pip install selenium\n",
    "!pip install seleniumbase\n",
    "!pip install random-user-agent -qqq\n",
    "!pip install webdriver-manager -qqq"
   ]
  },
  {
   "cell_type": "markdown",
   "id": "a92bcb78-f967-4bbb-af4f-3ce1a7bbe119",
   "metadata": {},
   "source": [
    "# Teste com Selenium"
   ]
  },
  {
   "cell_type": "code",
   "execution_count": 1,
   "id": "38e36715-cc81-4f74-998b-ada91e6f92ca",
   "metadata": {},
   "outputs": [],
   "source": [
    "from bs4 import BeautifulSoup\n",
    "from selenium import webdriver\n",
    "from selenium.webdriver.common.by import By\n",
    "from webdriver_manager.chrome import ChromeDriverManager\n",
    "from selenium import webdriver\n",
    "from selenium.webdriver import FirefoxOptions\n",
    "import time\n",
    "import re\n",
    "import requests\n",
    "from random_user_agent.user_agent import UserAgent\n",
    "import pandas as pd\n",
    "import datetime\n",
    "import pytz\n",
    "from sqlalchemy import create_engine\n",
    "from pandas import json_normalize\n",
    "import os\n",
    "from selenium.webdriver.chrome.service import Service\n",
    "import concurrent.futures\n",
    "import pyarrow as pa\n",
    "import pyarrow.parquet as pq\n",
    "from selenium.webdriver.firefox.service import Service\n",
    "from webdriver_manager.firefox import GeckoDriverManager\n",
    "\n",
    "import time\n",
    "from dataclasses import dataclass\n",
    "\n",
    "import backoff\n",
    "from loguru import logger"
   ]
  },
  {
   "cell_type": "code",
   "execution_count": 2,
   "id": "6e1486fe-fb1b-4222-880e-5963f8b2e5e6",
   "metadata": {},
   "outputs": [],
   "source": [
    "import json\n",
    "from http import HTTPStatus\n",
    "from typing import List, Optional, Any\n",
    "from pydantic import BaseModel\n",
    "\n",
    "from bs4 import BeautifulSoup\n",
    "from urllib.request import Request, urlopen\n",
    "from urllib.error import HTTPError\n",
    "\n",
    "USER_AGENT = \"Mozilla/5.0 (X11; Linux x86_64) AppleWebKit/537.36 (KHTML, like Gecko) Chrome/71.0.3578.98 Safari/537.36\"\n",
    "\n",
    "\n",
    "@dataclass\n",
    "class RequestedPageResponse:\n",
    "    html: Any\n",
    "    code: int = 200\n",
    "    exception: Exception | None = None\n",
    "\n",
    "def get_page(url: str, timeout: int = 20, verbose: int = 0):\n",
    "\n",
    "    request = Request(url)\n",
    "    user_agent = UserAgent().get_random_user_agent()\n",
    "\n",
    "    request.add_header(\"User-Agent\", user_agent)\n",
    "\n",
    "    try:\n",
    "        return RequestedPageResponse(html=urlopen(request, timeout=timeout))\n",
    "    except HTTPError as e:\n",
    "        logger.error(\"[error]\", e)\n",
    "        return RequestedPageResponse(html=None, code=e.getcode(), exception=e)\n",
    "\n",
    "def backoff_hdlr(details):\n",
    "    time.sleep(3)\n",
    "    logger.warning(\"Backing off {wait:0.1f} seconds after {tries} tries \"\n",
    "           \"calling function {target} with args {args} and kwargs \"\n",
    "           \"{kwargs}\".format(**details))\n",
    "    \n",
    "@backoff.on_exception(\n",
    "    backoff.expo,\n",
    "    HTTPError,\n",
    "    max_tries=3,\n",
    "    logger=logger,\n",
    "    on_backoff=backoff_hdlr,\n",
    ")\n",
    "def get_page_html(page, action, type, localization):\n",
    "    url = f\"https://www.zapimoveis.com.br/{action}/{type}/{localization}/?pagina={page}\"\n",
    "    logger.debug(f\"Requesting info from '{url}'\")\n",
    "\n",
    "    response = get_page(url)\n",
    "\n",
    "    if response.code != HTTPStatus.OK:\n",
    "        raise response.exception\n",
    "\n",
    "    return response.html\n",
    "\n",
    "def get_number_of_real_estates(soup_object: BeautifulSoup):\n",
    "    title_element = soup_object.find('div', {\"class\":\"result-wrapper__title\"})\n",
    "    return int(re.sub('[^0-9]','',title_element.text))\n",
    "\n",
    "def get_number_of_pages(number_of_real_estates: int):\n",
    "    return number_of_real_estates//100 if number_of_real_estates//100 > 1 else 1\n",
    "    "
   ]
  },
  {
   "cell_type": "code",
   "execution_count": 3,
   "id": "0c845453-63e7-4f98-9958-7ed0eb259d5f",
   "metadata": {},
   "outputs": [],
   "source": [
    "BASE_URL = 'https://www.zapimoveis.com.br'\n",
    "\n",
    "TRANSACTION = \"venda\"\n",
    "LOCALIZATION = \"mg+pocos-de-caldas\"\n",
    "TYPE = \"imoveis\"\n",
    "PAGE = 1"
   ]
  },
  {
   "cell_type": "code",
   "execution_count": 4,
   "id": "fb6926fa-858c-467a-befa-c4902fa4ceed",
   "metadata": {},
   "outputs": [
    {
     "name": "stderr",
     "output_type": "stream",
     "text": [
      "\u001b[32m2024-11-23 20:38:46.589\u001b[0m | \u001b[34m\u001b[1mDEBUG   \u001b[0m | \u001b[36m__main__\u001b[0m:\u001b[36mget_page_html\u001b[0m:\u001b[36m47\u001b[0m - \u001b[34m\u001b[1mRequesting info from 'https://www.zapimoveis.com.br/venda/imoveis/mg+pocos-de-caldas/?pagina=1'\u001b[0m\n"
     ]
    }
   ],
   "source": [
    "url = f'{BASE_URL}/{TRANSACTION}/{TYPE}/{LOCALIZATION}/?transacao={TRANSACTION}&pagina={PAGE}'\n",
    "\n",
    "html_page = get_page_html(page=PAGE, action=TRANSACTION, type=TYPE, localization=LOCALIZATION)\n",
    "\n",
    "soup = BeautifulSoup(html_page, \"html.parser\")"
   ]
  },
  {
   "cell_type": "code",
   "execution_count": 6,
   "id": "06b01e90-54e0-41c0-87b2-06e38e2c89f9",
   "metadata": {},
   "outputs": [],
   "source": [
    "n_estates = get_number_of_real_estates(soup)\n",
    "n_pages = get_number_of_pages(n_estates)"
   ]
  },
  {
   "cell_type": "code",
   "execution_count": 7,
   "id": "ba430a3d-9de3-4fbc-b953-6e3bc3b5451c",
   "metadata": {},
   "outputs": [
    {
     "data": {
      "text/plain": [
       "26"
      ]
     },
     "execution_count": 7,
     "metadata": {},
     "output_type": "execute_result"
    }
   ],
   "source": [
    "pagina = n_pages + 2 if n_pages < 100 else 101\n",
    "pagina"
   ]
  },
  {
   "cell_type": "code",
   "execution_count": null,
   "id": "a00c6ddb-ddd2-4b5a-b577-25db0a5c6ef0",
   "metadata": {},
   "outputs": [],
   "source": []
  },
  {
   "cell_type": "code",
   "execution_count": 9,
   "id": "b92ba5d5-bdfb-466e-b60a-35b34d23aed6",
   "metadata": {},
   "outputs": [],
   "source": [
    "from selenium import webdriverf\n",
    "from selenium.webdriver.chrome.service import Service\n",
    "from webdriver_manager.chrome import ChromeDriverManager\n",
    "\n",
    "# Configurações opcionais para o Chrome\n",
    "options = webdriver.ChromeOptions()\n",
    "options.add_argument('--headless')\n",
    "options.add_argument('--no-sandbox')\n",
    "options.add_argument('--disable-dev-shm-usage')\n",
    "options.add_argument('--disable-gpu')\n",
    "options.add_argument('--disable-extensions')\n",
    "options.add_argument('--remote-debugging-port=9222')\n",
    "\n",
    "# Cria o serviço do ChromeDriver\n",
    "service = Service(ChromeDriverManager().install())\n",
    "\n",
    "# Inicializa o navegador com o serviço e as opções especificadas\n",
    "browser = webdriver.Chrome(service=service, options=options)\n",
    "\n",
    "url = f'{BASE_URL}/{TRANSACTION}/{TYPE}/{LOCALIZATION}/?transacao={TRANSACTION}&pagina={PAGE}'\n",
    "\n",
    "browser.get(url)\n",
    "time.sleep(2)\n",
    "\n",
    "total_height = int(browser.execute_script(\"return document.body.scrollHeight\"))\n",
    "\n",
    "\n",
    "n = 1\n",
    "while n < total_height:\n",
    "    browser.execute_script(f\"window.scrollTo(0, {n});\")\n",
    "    n += 90\n",
    "    total_height = int(browser.execute_script(\"return document.body.scrollHeight\"))\n",
    "\n",
    "time.sleep(2)\n",
    "\n",
    "resultado = browser.find_element(By.XPATH, '//*')\n",
    "source_code = resultado.get_attribute(\"innerHTML\")\n",
    "\n",
    "browser.quit()"
   ]
  },
  {
   "cell_type": "code",
   "execution_count": 12,
   "id": "ba14a14e-1684-4522-93ab-465327859445",
   "metadata": {},
   "outputs": [],
   "source": []
  },
  {
   "cell_type": "code",
   "execution_count": 14,
   "id": "9d42ef8a-b54f-4b4b-83e2-232e436b4a71",
   "metadata": {},
   "outputs": [],
   "source": []
  },
  {
   "cell_type": "code",
   "execution_count": 15,
   "id": "790a1673-6e72-4be2-a324-953eaf5549ae",
   "metadata": {},
   "outputs": [],
   "source": []
  },
  {
   "cell_type": "code",
   "execution_count": 16,
   "id": "74bda962-e3d9-4c4a-92cc-d64e977f46e9",
   "metadata": {},
   "outputs": [],
   "source": []
  },
  {
   "cell_type": "code",
   "execution_count": 17,
   "id": "b99e379e-16da-41c1-8627-078f27765f0c",
   "metadata": {},
   "outputs": [
    {
     "data": {
      "text/plain": [
       "'<!--<![endif]--><head>\\n<title>Attention Required! | Cloudflare</title>\\n<meta charset=\"UTF-8\">\\n<meta http-equiv=\"Content-Type\" content=\"text/html; charset=UTF-8\">\\n<meta http-equiv=\"X-UA-Compatible\" content=\"IE=Edge\">\\n<meta name=\"robots\" content=\"noindex, nofollow\">\\n<meta name=\"viewport\" content=\"width=device-width,initial-scale=1\">\\n<link rel=\"stylesheet\" id=\"cf_styles-css\" href=\"/cdn-cgi/styles/cf.errors.css\">\\n<!--[if lt IE 9]><link rel=\"stylesheet\" id=\\'cf_styles-ie-css\\' href=\"/cdn-cgi/styles/cf.errors.ie.css\" /><![endif]-->\\n<style>body{margin:0;padding:0}</style>\\n\\n\\n<!--[if gte IE 10]><!-->\\n<script>\\n  if (!navigator.cookieEnabled) {\\n    window.addEventListener(\\'DOMContentLoaded\\', function () {\\n      var cookieEl = document.getElementById(\\'cookie-alert\\');\\n      cookieEl.style.display = \\'block\\';\\n    })\\n  }\\n</script>\\n<!--<![endif]-->\\n\\n\\n</head>\\n<body>\\n  <div id=\"cf-wrapper\">\\n    <div class=\"cf-alert cf-alert-error cf-cookie-error\" id=\"cookie-alert\" data-translate=\"enable_cookies\">Please enable cookies.</div>\\n    <div id=\"cf-error-details\" class=\"cf-error-details-wrapper\">\\n      <div class=\"cf-wrapper cf-header cf-error-overview\">\\n        <h1 data-translate=\"block_headline\">Sorry, you have been blocked</h1>\\n        <h2 class=\"cf-subheadline\"><span data-translate=\"unable_to_access\">You are unable to access</span> zapimoveis.com.br</h2>\\n      </div><!-- /.header -->\\n\\n      <div class=\"cf-section cf-highlight\">\\n        <div class=\"cf-wrapper\">\\n          <div class=\"cf-screenshot-container cf-screenshot-full\">\\n            \\n              <span class=\"cf-no-screenshot error\"></span>\\n            \\n          </div>\\n        </div>\\n      </div><!-- /.captcha-container -->\\n\\n      <div class=\"cf-section cf-wrapper\">\\n        <div class=\"cf-columns two\">\\n          <div class=\"cf-column\">\\n            <h2 data-translate=\"blocked_why_headline\">Why have I been blocked?</h2>\\n\\n            <p data-translate=\"blocked_why_detail\">This website is using a security service to protect itself from online attacks. The action you just performed triggered the security solution. There are several actions that could trigger this block including submitting a certain word or phrase, a SQL command or malformed data.</p>\\n          </div>\\n\\n          <div class=\"cf-column\">\\n            <h2 data-translate=\"blocked_resolve_headline\">What can I do to resolve this?</h2>\\n\\n            <p data-translate=\"blocked_resolve_detail\">You can email the site owner to let them know you were blocked. Please include what you were doing when this page came up and the Cloudflare Ray ID found at the bottom of this page.</p>\\n          </div>\\n        </div>\\n      </div><!-- /.section -->\\n\\n      <div class=\"cf-error-footer cf-wrapper w-240 lg:w-full py-10 sm:py-4 sm:px-8 mx-auto text-center sm:text-left border-solid border-0 border-t border-gray-300\">\\n  <p class=\"text-13\">\\n    <span class=\"cf-footer-item sm:block sm:mb-1\">Cloudflare Ray ID: <strong class=\"font-semibold\">8e73fe2af9290107</strong></span>\\n    <span class=\"cf-footer-separator sm:hidden\">•</span>\\n    <span id=\"cf-footer-item-ip\" class=\"cf-footer-item sm:block sm:mb-1\">\\n      Your IP:\\n      <button type=\"button\" id=\"cf-footer-ip-reveal\" class=\"cf-footer-ip-reveal-btn\">Click to reveal</button>\\n      <span class=\"hidden\" id=\"cf-footer-ip\">170.245.101.224</span>\\n      <span class=\"cf-footer-separator sm:hidden\">•</span>\\n    </span>\\n    <span class=\"cf-footer-item sm:block sm:mb-1\"><span>Performance &amp; security by</span> <a rel=\"noopener noreferrer\" href=\"https://www.cloudflare.com/5xx-error-landing\" id=\"brand_link\" target=\"_blank\">Cloudflare</a></span>\\n    \\n  </p>\\n  <script>(function(){function d(){var b=a.getElementById(\"cf-footer-item-ip\"),c=a.getElementById(\"cf-footer-ip-reveal\");b&&\"classList\"in b&&(b.classList.remove(\"hidden\"),c.addEventListener(\"click\",function(){c.classList.add(\"hidden\");a.getElementById(\"cf-footer-ip\").classList.remove(\"hidden\")}))}var a=document;document.addEventListener&&a.addEventListener(\"DOMContentLoaded\",d)})();</script>\\n</div><!-- /.error-footer -->\\n\\n\\n    </div><!-- /#cf-error-details -->\\n  </div><!-- /#cf-wrapper -->\\n\\n  <script>\\n  window._cf_translation = {};\\n  \\n  \\n</script>\\n\\n<script>(function(){function c(){var b=a.contentDocument||a.contentWindow.document;if(b){var d=b.createElement(\\'script\\');d.innerHTML=\"window.__CF$cv$params={r:\\'8e73fe2af9290107\\',t:\\'MTczMjM5NDYyMC4wMDAwMDA=\\'};var a=document.createElement(\\'script\\');a.nonce=\\'\\';a.src=\\'/cdn-cgi/challenge-platform/scripts/jsd/main.js\\';document.getElementsByTagName(\\'head\\')[0].appendChild(a);\";b.getElementsByTagName(\\'head\\')[0].appendChild(d)}}if(document.body){var a=document.createElement(\\'iframe\\');a.height=1;a.width=1;a.style.position=\\'absolute\\';a.style.top=0;a.style.left=0;a.style.border=\\'none\\';a.style.visibility=\\'hidden\\';document.body.appendChild(a);if(\\'loading\\'!==document.readyState)c();else if(window.addEventListener)document.addEventListener(\\'DOMContentLoaded\\',c);else{var e=document.onreadystatechange||function(){};document.onreadystatechange=function(b){e(b);\\'loading\\'!==document.readyState&&(document.onreadystatechange=e,c())}}}})();</script><iframe height=\"1\" width=\"1\" style=\"position: absolute; top: 0px; left: 0px; border: none; visibility: hidden;\"></iframe><script defer=\"\" src=\"https://static.cloudflareinsights.com/beacon.min.js/vcd15cbe7772f49c399c6a5babf22c1241717689176015\" integrity=\"sha512-ZpsOmlRQV6y907TI0dKBHq9Md29nnaEIPlkf84rnaERnq6zvWvPUqr2ft8M1aS28oN72PdrCzSjY4U6VaAw1EQ==\" data-cf-beacon=\"{&quot;rayId&quot;:&quot;8e73fe2af9290107&quot;,&quot;version&quot;:&quot;2024.10.5&quot;,&quot;serverTiming&quot;:{&quot;name&quot;:{&quot;cfExtPri&quot;:true,&quot;cfL4&quot;:true,&quot;cfSpeedBrain&quot;:true,&quot;cfCacheStatus&quot;:true}},&quot;token&quot;:&quot;b6021716be3f44f590afa7281a15150f&quot;,&quot;b&quot;:1}\" crossorigin=\"anonymous\"></script>\\n\\n\\n</body>'"
      ]
     },
     "execution_count": 17,
     "metadata": {},
     "output_type": "execute_result"
    }
   ],
   "source": [
    "source_code"
   ]
  },
  {
   "cell_type": "code",
   "execution_count": null,
   "id": "6dd6bfe1-a99a-4af3-bb2e-ff6a0796da1c",
   "metadata": {},
   "outputs": [],
   "source": [
    "\n",
    "# Seu código para interagir com o navegador aqui\n",
    "\n",
    "# Não se esqueça de fechar o navegador após o uso\n",
    "browser.quit()\n"
   ]
  },
  {
   "cell_type": "code",
   "execution_count": null,
   "id": "d0912985-1f44-41b0-a684-45bcf7720bf2",
   "metadata": {},
   "outputs": [],
   "source": []
  },
  {
   "cell_type": "code",
   "execution_count": null,
   "id": "eb637e00-fd16-4229-9d0d-feffb0059e95",
   "metadata": {},
   "outputs": [],
   "source": []
  },
  {
   "cell_type": "code",
   "execution_count": null,
   "id": "e710227c-58fb-4cfa-bbef-a6a5eb03277f",
   "metadata": {},
   "outputs": [],
   "source": [
    "# from selenium import webdriver\n",
    "# from selenium.webdriver.chrome.service import Service\n",
    "# from webdriver_manager.chrome import ChromeDriverManager\n",
    "\n",
    "# # Configurações opcionais para o Chrome\n",
    "# options = webdriver.ChromeOptions()\n",
    "\n",
    "# # Cria o serviço do ChromeDriver\n",
    "# service = Service(ChromeDriverManager().install())\n",
    "\n",
    "# # Uso do Context Manager com o WebDriver\n",
    "# with webdriver.Chrome(service=service, options=options) as browser:\n",
    "#     # Seu código para interagir com o navegador aqui\n",
    "#     browser.get('https://www.example.com')\n",
    "#     # ... outras operações ...\n",
    "# # O navegador será fechado automaticamente ao sair do bloco 'with'\n"
   ]
  },
  {
   "cell_type": "code",
   "execution_count": 57,
   "id": "7fbd9be1-615e-4058-a599-e7ff1e6f6a7b",
   "metadata": {},
   "outputs": [
    {
     "ename": "AttributeError",
     "evalue": "'str' object has no attribute 'capabilities'",
     "output_type": "error",
     "traceback": [
      "\u001b[0;31m---------------------------------------------------------------------------\u001b[0m",
      "\u001b[0;31mAttributeError\u001b[0m                            Traceback (most recent call last)",
      "Cell \u001b[0;32mIn[57], line 1\u001b[0m\n\u001b[0;32m----> 1\u001b[0m browser \u001b[38;5;241m=\u001b[39m \u001b[43mwebdriver\u001b[49m\u001b[38;5;241;43m.\u001b[39;49m\u001b[43mChrome\u001b[49m\u001b[43m(\u001b[49m\u001b[43mChromeDriverManager\u001b[49m\u001b[43m(\u001b[49m\u001b[43m)\u001b[49m\u001b[38;5;241;43m.\u001b[39;49m\u001b[43minstall\u001b[49m\u001b[43m(\u001b[49m\u001b[43m)\u001b[49m\u001b[43m)\u001b[49m\n",
      "File \u001b[0;32m/opt/conda/lib/python3.11/site-packages/selenium/webdriver/chrome/webdriver.py:45\u001b[0m, in \u001b[0;36mWebDriver.__init__\u001b[0;34m(self, options, service, keep_alive)\u001b[0m\n\u001b[1;32m     42\u001b[0m service \u001b[38;5;241m=\u001b[39m service \u001b[38;5;28;01mif\u001b[39;00m service \u001b[38;5;28;01melse\u001b[39;00m Service()\n\u001b[1;32m     43\u001b[0m options \u001b[38;5;241m=\u001b[39m options \u001b[38;5;28;01mif\u001b[39;00m options \u001b[38;5;28;01melse\u001b[39;00m Options()\n\u001b[0;32m---> 45\u001b[0m \u001b[38;5;28;43msuper\u001b[39;49m\u001b[43m(\u001b[49m\u001b[43m)\u001b[49m\u001b[38;5;241;43m.\u001b[39;49m\u001b[38;5;21;43m__init__\u001b[39;49m\u001b[43m(\u001b[49m\n\u001b[1;32m     46\u001b[0m \u001b[43m    \u001b[49m\u001b[43mbrowser_name\u001b[49m\u001b[38;5;241;43m=\u001b[39;49m\u001b[43mDesiredCapabilities\u001b[49m\u001b[38;5;241;43m.\u001b[39;49m\u001b[43mCHROME\u001b[49m\u001b[43m[\u001b[49m\u001b[38;5;124;43m\"\u001b[39;49m\u001b[38;5;124;43mbrowserName\u001b[39;49m\u001b[38;5;124;43m\"\u001b[39;49m\u001b[43m]\u001b[49m\u001b[43m,\u001b[49m\n\u001b[1;32m     47\u001b[0m \u001b[43m    \u001b[49m\u001b[43mvendor_prefix\u001b[49m\u001b[38;5;241;43m=\u001b[39;49m\u001b[38;5;124;43m\"\u001b[39;49m\u001b[38;5;124;43mgoog\u001b[39;49m\u001b[38;5;124;43m\"\u001b[39;49m\u001b[43m,\u001b[49m\n\u001b[1;32m     48\u001b[0m \u001b[43m    \u001b[49m\u001b[43moptions\u001b[49m\u001b[38;5;241;43m=\u001b[39;49m\u001b[43moptions\u001b[49m\u001b[43m,\u001b[49m\n\u001b[1;32m     49\u001b[0m \u001b[43m    \u001b[49m\u001b[43mservice\u001b[49m\u001b[38;5;241;43m=\u001b[39;49m\u001b[43mservice\u001b[49m\u001b[43m,\u001b[49m\n\u001b[1;32m     50\u001b[0m \u001b[43m    \u001b[49m\u001b[43mkeep_alive\u001b[49m\u001b[38;5;241;43m=\u001b[39;49m\u001b[43mkeep_alive\u001b[49m\u001b[43m,\u001b[49m\n\u001b[1;32m     51\u001b[0m \u001b[43m\u001b[49m\u001b[43m)\u001b[49m\n",
      "File \u001b[0;32m/opt/conda/lib/python3.11/site-packages/selenium/webdriver/chromium/webdriver.py:50\u001b[0m, in \u001b[0;36mChromiumDriver.__init__\u001b[0;34m(self, browser_name, vendor_prefix, options, service, keep_alive)\u001b[0m\n\u001b[1;32m     47\u001b[0m \u001b[38;5;28mself\u001b[39m\u001b[38;5;241m.\u001b[39mservice \u001b[38;5;241m=\u001b[39m service\n\u001b[1;32m     49\u001b[0m finder \u001b[38;5;241m=\u001b[39m DriverFinder(\u001b[38;5;28mself\u001b[39m\u001b[38;5;241m.\u001b[39mservice, options)\n\u001b[0;32m---> 50\u001b[0m \u001b[38;5;28;01mif\u001b[39;00m \u001b[43mfinder\u001b[49m\u001b[38;5;241;43m.\u001b[39;49m\u001b[43mget_browser_path\u001b[49m\u001b[43m(\u001b[49m\u001b[43m)\u001b[49m:\n\u001b[1;32m     51\u001b[0m     options\u001b[38;5;241m.\u001b[39mbinary_location \u001b[38;5;241m=\u001b[39m finder\u001b[38;5;241m.\u001b[39mget_browser_path()\n\u001b[1;32m     52\u001b[0m     options\u001b[38;5;241m.\u001b[39mbrowser_version \u001b[38;5;241m=\u001b[39m \u001b[38;5;28;01mNone\u001b[39;00m\n",
      "File \u001b[0;32m/opt/conda/lib/python3.11/site-packages/selenium/webdriver/common/driver_finder.py:47\u001b[0m, in \u001b[0;36mDriverFinder.get_browser_path\u001b[0;34m(self)\u001b[0m\n\u001b[1;32m     46\u001b[0m \u001b[38;5;28;01mdef\u001b[39;00m \u001b[38;5;21mget_browser_path\u001b[39m(\u001b[38;5;28mself\u001b[39m) \u001b[38;5;241m-\u001b[39m\u001b[38;5;241m>\u001b[39m \u001b[38;5;28mstr\u001b[39m:\n\u001b[0;32m---> 47\u001b[0m     \u001b[38;5;28;01mreturn\u001b[39;00m \u001b[38;5;28;43mself\u001b[39;49m\u001b[38;5;241;43m.\u001b[39;49m\u001b[43m_binary_paths\u001b[49m\u001b[43m(\u001b[49m\u001b[43m)\u001b[49m[\u001b[38;5;124m\"\u001b[39m\u001b[38;5;124mbrowser_path\u001b[39m\u001b[38;5;124m\"\u001b[39m]\n",
      "File \u001b[0;32m/opt/conda/lib/python3.11/site-packages/selenium/webdriver/common/driver_finder.py:56\u001b[0m, in \u001b[0;36mDriverFinder._binary_paths\u001b[0;34m(self)\u001b[0m\n\u001b[1;32m     53\u001b[0m \u001b[38;5;28;01mif\u001b[39;00m \u001b[38;5;28mself\u001b[39m\u001b[38;5;241m.\u001b[39m_paths[\u001b[38;5;124m\"\u001b[39m\u001b[38;5;124mdriver_path\u001b[39m\u001b[38;5;124m\"\u001b[39m]:\n\u001b[1;32m     54\u001b[0m     \u001b[38;5;28;01mreturn\u001b[39;00m \u001b[38;5;28mself\u001b[39m\u001b[38;5;241m.\u001b[39m_paths\n\u001b[0;32m---> 56\u001b[0m browser \u001b[38;5;241m=\u001b[39m \u001b[38;5;28;43mself\u001b[39;49m\u001b[38;5;241;43m.\u001b[39;49m\u001b[43m_options\u001b[49m\u001b[38;5;241;43m.\u001b[39;49m\u001b[43mcapabilities\u001b[49m[\u001b[38;5;124m\"\u001b[39m\u001b[38;5;124mbrowserName\u001b[39m\u001b[38;5;124m\"\u001b[39m]\n\u001b[1;32m     57\u001b[0m \u001b[38;5;28;01mtry\u001b[39;00m:\n\u001b[1;32m     58\u001b[0m     path \u001b[38;5;241m=\u001b[39m \u001b[38;5;28mself\u001b[39m\u001b[38;5;241m.\u001b[39m_service\u001b[38;5;241m.\u001b[39mpath\n",
      "\u001b[0;31mAttributeError\u001b[0m: 'str' object has no attribute 'capabilities'"
     ]
    }
   ],
   "source": [
    "browser = webdriver.Chrome(ChromeDriverManager().install())"
   ]
  },
  {
   "cell_type": "code",
   "execution_count": null,
   "id": "df797836-9756-4181-8137-ffffa8ee59f7",
   "metadata": {},
   "outputs": [],
   "source": []
  },
  {
   "cell_type": "code",
   "execution_count": null,
   "id": "134c3deb-9261-4139-ad7f-5db5debc87cc",
   "metadata": {},
   "outputs": [],
   "source": []
  },
  {
   "cell_type": "code",
   "execution_count": 53,
   "id": "8e883de6-3c24-426b-aa9d-6f32ff7de225",
   "metadata": {},
   "outputs": [
    {
     "data": {
      "text/plain": [
       "24"
      ]
     },
     "execution_count": 53,
     "metadata": {},
     "output_type": "execute_result"
    }
   ],
   "source": [
    "n_pagesa"
   ]
  },
  {
   "cell_type": "code",
   "execution_count": null,
   "id": "f31ecc7a-3d19-452b-b2b3-0209ea005998",
   "metadata": {},
   "outputs": [],
   "source": []
  },
  {
   "cell_type": "code",
   "execution_count": null,
   "id": "7bb3bd80-2dcf-421a-aa0c-b005c1d3777b",
   "metadata": {},
   "outputs": [],
   "source": []
  },
  {
   "cell_type": "code",
   "execution_count": 42,
   "id": "d20c1b11-7e05-43e0-8989-da355c1c206d",
   "metadata": {},
   "outputs": [],
   "source": [
    "res = soup.find('div', {\"class\":\"result-wrapper__title\"}).text"
   ]
  },
  {
   "cell_type": "code",
   "execution_count": 49,
   "id": "f7309091-709a-40b0-bae0-6e691bfae74b",
   "metadata": {},
   "outputs": [
    {
     "data": {
      "text/plain": [
       "bs4.BeautifulSoup"
      ]
     },
     "execution_count": 49,
     "metadata": {},
     "output_type": "execute_result"
    }
   ],
   "source": [
    "type(soup)"
   ]
  },
  {
   "cell_type": "code",
   "execution_count": 44,
   "id": "360c012c-6f76-4c8a-82cd-ea7df0c3d4e8",
   "metadata": {},
   "outputs": [],
   "source": [
    "imoveis = int(re.sub('[^0-9]','',res))\n",
    "imoveis_pagina = imoveis//100 if imoveis//100 > 1 else 1"
   ]
  },
  {
   "cell_type": "code",
   "execution_count": 46,
   "id": "8fb3ef22-a365-4ef6-aa1d-2f0df1b6e3f8",
   "metadata": {},
   "outputs": [
    {
     "data": {
      "text/plain": [
       "2408"
      ]
     },
     "execution_count": 46,
     "metadata": {},
     "output_type": "execute_result"
    }
   ],
   "source": [
    "imoveis"
   ]
  },
  {
   "cell_type": "code",
   "execution_count": 48,
   "id": "05910524-33af-4d3f-a6db-441b7d2d04fc",
   "metadata": {},
   "outputs": [
    {
     "data": {
      "text/plain": [
       "24"
      ]
     },
     "execution_count": 48,
     "metadata": {},
     "output_type": "execute_result"
    }
   ],
   "source": [
    "imoveis//100"
   ]
  },
  {
   "cell_type": "code",
   "execution_count": 35,
   "id": "d0a2af8b-fae0-4d20-9ec4-b6465c36099d",
   "metadata": {},
   "outputs": [
    {
     "data": {
      "text/plain": [
       "403"
      ]
     },
     "execution_count": 35,
     "metadata": {},
     "output_type": "execute_result"
    }
   ],
   "source": [
    "ua = UserAgent()\n",
    "user_agents = USER_AGENT#ua.get_random_user_agent()\n",
    "\n",
    "headers = {'user-agent': user_agents.strip(), 'encoding':'utf-8'}\n",
    "\n",
    "r = requests.get(url, headers = headers)\n",
    "\n",
    "r.status_code"
   ]
  },
  {
   "cell_type": "code",
   "execution_count": 33,
   "id": "ef4921f6-bf45-4853-ad01-f0d15cda5f31",
   "metadata": {},
   "outputs": [
    {
     "data": {
      "text/plain": [
       "RequestedPageResponse(html=<http.client.HTTPResponse object at 0x76ff6dbbb640>, code=200, exception=None)"
      ]
     },
     "execution_count": 33,
     "metadata": {},
     "output_type": "execute_result"
    }
   ],
   "source": [
    "get_page(url)"
   ]
  },
  {
   "cell_type": "code",
   "execution_count": 36,
   "id": "98d77947-60df-4c9f-b1ab-d6baabb22686",
   "metadata": {},
   "outputs": [
    {
     "data": {
      "text/plain": [
       "'Mozilla/5.0 (Linux; Android 7.0; Mi-4c Build/NRD90M) AppleWebKit/537.36 (KHTML, like Gecko) Chrome/58.0.3029.42 Mobile Safari/537.36'"
      ]
     },
     "execution_count": 36,
     "metadata": {},
     "output_type": "execute_result"
    }
   ],
   "source": [
    "UserAgent().get_random_user_agent()"
   ]
  },
  {
   "cell_type": "code",
   "execution_count": null,
   "id": "408a1334-bf3d-4d50-816f-d1999e6d432b",
   "metadata": {},
   "outputs": [],
   "source": []
  },
  {
   "cell_type": "code",
   "execution_count": 28,
   "id": "3be1cdd9-9953-421c-bf5f-ac88991cf04e",
   "metadata": {},
   "outputs": [],
   "source": []
  },
  {
   "cell_type": "code",
   "execution_count": 30,
   "id": "c0e4c610-a50f-446c-b255-816439103783",
   "metadata": {},
   "outputs": [
    {
     "data": {
      "text/plain": [
       "403"
      ]
     },
     "execution_count": 30,
     "metadata": {},
     "output_type": "execute_result"
    }
   ],
   "source": []
  },
  {
   "cell_type": "code",
   "execution_count": 29,
   "id": "07ca4120-8d78-4d15-964f-8b761e87218c",
   "metadata": {},
   "outputs": [
    {
     "data": {
      "text/plain": [
       "['__attrs__',\n",
       " '__bool__',\n",
       " '__class__',\n",
       " '__delattr__',\n",
       " '__dict__',\n",
       " '__dir__',\n",
       " '__doc__',\n",
       " '__enter__',\n",
       " '__eq__',\n",
       " '__exit__',\n",
       " '__format__',\n",
       " '__ge__',\n",
       " '__getattribute__',\n",
       " '__getstate__',\n",
       " '__gt__',\n",
       " '__hash__',\n",
       " '__init__',\n",
       " '__init_subclass__',\n",
       " '__iter__',\n",
       " '__le__',\n",
       " '__lt__',\n",
       " '__module__',\n",
       " '__ne__',\n",
       " '__new__',\n",
       " '__nonzero__',\n",
       " '__reduce__',\n",
       " '__reduce_ex__',\n",
       " '__repr__',\n",
       " '__setattr__',\n",
       " '__setstate__',\n",
       " '__sizeof__',\n",
       " '__str__',\n",
       " '__subclasshook__',\n",
       " '__weakref__',\n",
       " '_content',\n",
       " '_content_consumed',\n",
       " '_next',\n",
       " 'apparent_encoding',\n",
       " 'close',\n",
       " 'connection',\n",
       " 'content',\n",
       " 'cookies',\n",
       " 'elapsed',\n",
       " 'encoding',\n",
       " 'headers',\n",
       " 'history',\n",
       " 'is_permanent_redirect',\n",
       " 'is_redirect',\n",
       " 'iter_content',\n",
       " 'iter_lines',\n",
       " 'json',\n",
       " 'links',\n",
       " 'next',\n",
       " 'ok',\n",
       " 'raise_for_status',\n",
       " 'raw',\n",
       " 'reason',\n",
       " 'request',\n",
       " 'status_code',\n",
       " 'text',\n",
       " 'url']"
      ]
     },
     "execution_count": 29,
     "metadata": {},
     "output_type": "execute_result"
    }
   ],
   "source": [
    "dir(r)"
   ]
  },
  {
   "cell_type": "code",
   "execution_count": 24,
   "id": "d8f39ad9-e6be-4910-9577-bd453412bfda",
   "metadata": {},
   "outputs": [
    {
     "data": {
      "text/plain": [
       "'Forbidden'"
      ]
     },
     "execution_count": 24,
     "metadata": {},
     "output_type": "execute_result"
    }
   ],
   "source": [
    "r.reason"
   ]
  },
  {
   "cell_type": "code",
   "execution_count": 20,
   "id": "6cffd0f0-20ac-446c-a07c-f32f21accd36",
   "metadata": {},
   "outputs": [
    {
     "data": {
      "text/plain": [
       "'https://www.zapimoveis.com.br/venda/imoveis/mg+pocos-de-caldas/?transacao=venda&pagina=1'"
      ]
     },
     "execution_count": 20,
     "metadata": {},
     "output_type": "execute_result"
    }
   ],
   "source": [
    "url"
   ]
  },
  {
   "cell_type": "code",
   "execution_count": null,
   "id": "26b18eb1-b988-47b5-93da-a610b1b703f4",
   "metadata": {},
   "outputs": [],
   "source": []
  },
  {
   "cell_type": "code",
   "execution_count": null,
   "id": "290d263e-50fa-4505-8d5d-35a1642a468d",
   "metadata": {},
   "outputs": [],
   "source": []
  },
  {
   "cell_type": "code",
   "execution_count": null,
   "id": "162e2e88-5878-4acc-ae75-12877384336a",
   "metadata": {},
   "outputs": [],
   "source": []
  }
 ],
 "metadata": {
  "kernelspec": {
   "display_name": "Python 3 (ipykernel)",
   "language": "python",
   "name": "python3"
  },
  "language_info": {
   "codemirror_mode": {
    "name": "ipython",
    "version": 3
   },
   "file_extension": ".py",
   "mimetype": "text/x-python",
   "name": "python",
   "nbconvert_exporter": "python",
   "pygments_lexer": "ipython3",
   "version": "3.11.6"
  }
 },
 "nbformat": 4,
 "nbformat_minor": 5
}
