{
 "cells": [
  {
   "cell_type": "code",
   "execution_count": 1,
   "id": "22be2290-b550-4411-98a6-cb732e55ae4e",
   "metadata": {},
   "outputs": [],
   "source": [
    "%config IPCompleter.use_jedi=False"
   ]
  },
  {
   "cell_type": "code",
   "execution_count": 2,
   "id": "17105524-7be8-45f2-8b4a-496b6f237f9d",
   "metadata": {},
   "outputs": [],
   "source": [
    "import os\n",
    "from loguru import logger\n",
    "from urllib.parse import quote_plus\n",
    "from playwright._impl._errors import TimeoutError\n",
    "\n",
    "from pc_zap_scrapper.v2.scrape import get_estates_from_page, get_html_page, get_number_of_pages, get_number_of_real_estates\n",
    "from pc_zap_scrapper.v2.database import DatabaseHandler, TableRealEstateInfo\n",
    "\n",
    "\n",
    "import nest_asyncio\n",
    "nest_asyncio.apply()"
   ]
  },
  {
   "cell_type": "code",
   "execution_count": null,
   "id": "85d64bb2-b5df-4449-8546-e432f234113e",
   "metadata": {},
   "outputs": [
    {
     "name": "stderr",
     "output_type": "stream",
     "text": [
      "\u001b[32m2024-11-29 02:59:46.208\u001b[0m | \u001b[34m\u001b[1mDEBUG   \u001b[0m | \u001b[36mpc_zap_scrapper.v2.scrape\u001b[0m:\u001b[36mget_html_page\u001b[0m:\u001b[36m413\u001b[0m - \u001b[34m\u001b[1mRequesting info from 'https://www.zapimoveis.com.br/venda/imoveis/mg+pocos-de-caldas'\u001b[0m\n",
      "\u001b[32m2024-11-29 02:59:50.365\u001b[0m | \u001b[1mINFO    \u001b[0m | \u001b[36m__main__\u001b[0m:\u001b[36m<module>\u001b[0m:\u001b[36m19\u001b[0m - \u001b[1mnumber_of_real_estates = 2377\u001b[0m\n",
      "\u001b[32m2024-11-29 02:59:50.367\u001b[0m | \u001b[1mINFO    \u001b[0m | \u001b[36m__main__\u001b[0m:\u001b[36m<module>\u001b[0m:\u001b[36m20\u001b[0m - \u001b[1mnumber_of_pages = 23\u001b[0m\n",
      "\u001b[32m2024-11-29 02:59:50.367\u001b[0m | \u001b[1mINFO    \u001b[0m | \u001b[36m__main__\u001b[0m:\u001b[36m<module>\u001b[0m:\u001b[36m29\u001b[0m - \u001b[1mscrapping page 1\u001b[0m\n",
      "Loop 8 | 110 elementos: 100%|██████████| 110/110 [01:19<00:00,  1.38it/s]\n",
      "\u001b[32m2024-11-29 03:01:19.699\u001b[0m | \u001b[1mINFO    \u001b[0m | \u001b[36m__main__\u001b[0m:\u001b[36m<module>\u001b[0m:\u001b[36m29\u001b[0m - \u001b[1mscrapping page 2\u001b[0m\n",
      "Loop 7 | 105 elementos: 100%|██████████| 105/105 [01:09<00:00,  1.51it/s]\n",
      "\u001b[32m2024-11-29 03:02:39.792\u001b[0m | \u001b[1mINFO    \u001b[0m | \u001b[36m__main__\u001b[0m:\u001b[36m<module>\u001b[0m:\u001b[36m29\u001b[0m - \u001b[1mscrapping page 3\u001b[0m\n",
      "Loop 7 | 105 elementos: 100%|██████████| 105/105 [01:10<00:00,  1.50it/s]\n",
      "\u001b[32m2024-11-29 03:04:01.456\u001b[0m | \u001b[33m\u001b[1mWARNING \u001b[0m | \u001b[36mpc_zap_scrapper.v2.scrape\u001b[0m:\u001b[36m_get_location\u001b[0m:\u001b[36m232\u001b[0m - \u001b[33m\u001b[1mIt wa not possible to get locatino info from snippet '<h2 class=\"l-text l-u-color-neutral-28 l-text--variant-heading-small l-text--weight-medium truncate\" data-cy=\"rp-cardProperty-location-txt\" title=\"Caldas\">Caldas</h2>'\u001b[0m\n",
      "\u001b[32m2024-11-29 03:04:02.355\u001b[0m | \u001b[1mINFO    \u001b[0m | \u001b[36m__main__\u001b[0m:\u001b[36m<module>\u001b[0m:\u001b[36m29\u001b[0m - \u001b[1mscrapping page 4\u001b[0m\n",
      "Loop 7 | 104 elementos: 100%|██████████| 104/104 [01:11<00:00,  1.46it/s]\n",
      "\u001b[32m2024-11-29 03:05:24.470\u001b[0m | \u001b[1mINFO    \u001b[0m | \u001b[36m__main__\u001b[0m:\u001b[36m<module>\u001b[0m:\u001b[36m29\u001b[0m - \u001b[1mscrapping page 5\u001b[0m\n",
      "Loop 7 | 104 elementos: 100%|██████████| 104/104 [01:15<00:00,  1.37it/s]\n",
      "\u001b[32m2024-11-29 03:06:52.459\u001b[0m | \u001b[1mINFO    \u001b[0m | \u001b[36m__main__\u001b[0m:\u001b[36m<module>\u001b[0m:\u001b[36m29\u001b[0m - \u001b[1mscrapping page 6\u001b[0m\n",
      "Loop 7 | 103 elementos: 100%|██████████| 103/103 [01:10<00:00,  1.46it/s]\n",
      "\u001b[32m2024-11-29 03:08:08.554\u001b[0m | \u001b[1mINFO    \u001b[0m | \u001b[36m__main__\u001b[0m:\u001b[36m<module>\u001b[0m:\u001b[36m29\u001b[0m - \u001b[1mscrapping page 7\u001b[0m\n",
      "Loop 7 | 105 elementos: 100%|██████████| 105/105 [01:11<00:00,  1.47it/s]\n",
      "\u001b[32m2024-11-29 03:09:29.334\u001b[0m | \u001b[1mINFO    \u001b[0m | \u001b[36m__main__\u001b[0m:\u001b[36m<module>\u001b[0m:\u001b[36m29\u001b[0m - \u001b[1mscrapping page 8\u001b[0m\n",
      "Inicializando:   0%|          | 0/200 [00:00<?, ?it/s]"
     ]
    }
   ],
   "source": [
    "ACTION=\"venda\"\n",
    "TYPE=\"imoveis\"\n",
    "LOCALIZATION=\"mg+pocos-de-caldas\"\n",
    "\n",
    "db_params = dict(\n",
    "    user=os.getenv(\"PSQL_USERNAME\"),\n",
    "    password=quote_plus(os.getenv(\"PSQL_PASSWORD\")),\n",
    "    host=os.getenv(\"PSQL_HOST\"),\n",
    "    port=os.getenv(\"PSQL_PORT\"),\n",
    "    dbname=os.getenv(\"PSQL_NAME\"),\n",
    ")\n",
    "\n",
    "db_handler = DatabaseHandler(db_params, table=TableRealEstateInfo, echo=False)\n",
    "\n",
    "\n",
    "soup = get_html_page(f\"https://www.zapimoveis.com.br/{ACTION}/{TYPE}/{LOCALIZATION}\")\n",
    "number_of_real_estates = get_number_of_real_estates(soup)\n",
    "number_of_pages = get_number_of_pages(number_of_real_estates)\n",
    "logger.info(f\"number_of_real_estates = {number_of_real_estates}\")\n",
    "logger.info(f\"number_of_pages = {number_of_pages}\")\n",
    "\n",
    "N_EXPECTED_PAGES = 25\n",
    "\n",
    "for page in range(1, 1+number_of_pages):\n",
    "\n",
    "    if page > N_EXPECTED_PAGES:\n",
    "        break\n",
    "\n",
    "    logger.info(f\"scrapping page {page}\")\n",
    "    try:\n",
    "        estates = await get_estates_from_page(\n",
    "            action=ACTION,\n",
    "            type=TYPE,\n",
    "            localization=LOCALIZATION,\n",
    "            page=page,\n",
    "        )\n",
    "        await db_handler.create_table()\n",
    "        await db_handler.insert_data(estates)\n",
    "    except TimeoutError:\n",
    "        continue\n",
    "\n",
    "    except:\n",
    "        logger.error(\"Não foi possível persistir. Valores duplicados\")\n",
    "\n",
    "\n",
    "await db_handler.close()"
   ]
  },
  {
   "cell_type": "code",
   "execution_count": null,
   "id": "0a137911-aa33-4d7f-bfd0-a6fd0a4f1a7c",
   "metadata": {},
   "outputs": [],
   "source": []
  },
  {
   "cell_type": "code",
   "execution_count": 38,
   "id": "e6cfd47f-937c-4b54-9f73-72a3101b8bdc",
   "metadata": {},
   "outputs": [],
   "source": [
    "\n",
    "import pandas as pd\n",
    "import sqlalchemy\n",
    "from sqlalchemy import insert\n",
    "from sqlalchemy.orm import declarative_base\n",
    "from sqlalchemy.ext.asyncio import create_async_engine, AsyncSession\n",
    "from sqlalchemy.orm import sessionmaker\n",
    "from sqlalchemy import (\n",
    "   Column,\n",
    "   UUID,\n",
    "   Text,\n",
    "   TIMESTAMP,\n",
    "   Double,\n",
    "   Integer,\n",
    "   Numeric,\n",
    "   ARRAY,\n",
    ")\n",
    "\n",
    "\n",
    "Base = declarative_base()\n",
    "\n",
    "\n",
    "class DatabaseHandler:\n",
    "    def __init__(self, db_params: dict, table: sqlalchemy.orm.decl_api.DeclarativeMeta, echo: bool = False):\n",
    "        db_url = (\n",
    "            f\"postgresql+asyncpg://{db_params['user']}:{db_params['password']}@\"\n",
    "            f\"{db_params['host']}:{db_params['port']}/{db_params['dbname']}\"\n",
    "        )\n",
    "        self.table = table\n",
    "        self.engine = create_async_engine(db_url, echo=echo)\n",
    "        self.async_session = sessionmaker(self.engine, class_=AsyncSession, expire_on_commit=False)\n",
    "\n",
    "    async def create_table(self):\n",
    "        async with self.engine.begin() as conn:\n",
    "            await conn.run_sync(Base.metadata.create_all)\n",
    "\n",
    "    async def insert_data(self, df: pd.DataFrame):\n",
    "        records = df.to_dict(orient=\"records\")\n",
    "\n",
    "        async with self.async_session() as session:\n",
    "            async with session.begin():\n",
    "                await session.execute(insert(self.table).values(records))\n",
    "                await session.commit()\n",
    "    \n",
    "    async def query(self, sql_query: str) -> pd.DataFrame:\n",
    "        async with self.engine.connect() as conn:\n",
    "            result = await conn.execute(sqlalchemy.text(sql_query))\n",
    "            rows = result.fetchall()\n",
    "            columns = result.keys()\n",
    "            df = pd.DataFrame(rows, columns=columns)\n",
    "            return df\n",
    "\n",
    "\n",
    "    async def close(self):\n",
    "        await self.engine.dispose()\n"
   ]
  },
  {
   "cell_type": "code",
   "execution_count": 39,
   "id": "1b02a470-e981-498b-acff-e1d7876711ba",
   "metadata": {},
   "outputs": [],
   "source": [
    "db_params = dict(\n",
    "    user=os.getenv(\"PSQL_USERNAME\"),\n",
    "    password=quote_plus(os.getenv(\"PSQL_PASSWORD\")),\n",
    "    host=os.getenv(\"PSQL_HOST\"),\n",
    "    port=os.getenv(\"PSQL_PORT\"),\n",
    "    dbname=os.getenv(\"PSQL_NAME\"),\n",
    ")\n",
    "\n",
    "db_handler = DatabaseHandler(db_params, table=TableRealEstateInfo, echo=False)\n"
   ]
  },
  {
   "cell_type": "code",
   "execution_count": 40,
   "id": "6943f6d1-7a4d-4821-bb5d-4970199c925f",
   "metadata": {},
   "outputs": [],
   "source": [
    "sql_query = \"\"\"\n",
    "SELECT * FROM real_estate_info\n",
    "\"\"\"\n",
    "\n",
    "data = await db_handler.query(sql_query)\n",
    "\n",
    "await db_handler.close()"
   ]
  },
  {
   "cell_type": "code",
   "execution_count": 41,
   "id": "e74605a8-d380-4539-9a80-9994cc112d9a",
   "metadata": {},
   "outputs": [
    {
     "data": {
      "text/html": [
       "<div>\n",
       "<style scoped>\n",
       "    .dataframe tbody tr th:only-of-type {\n",
       "        vertical-align: middle;\n",
       "    }\n",
       "\n",
       "    .dataframe tbody tr th {\n",
       "        vertical-align: top;\n",
       "    }\n",
       "\n",
       "    .dataframe thead th {\n",
       "        text-align: right;\n",
       "    }\n",
       "</style>\n",
       "<table border=\"1\" class=\"dataframe\">\n",
       "  <thead>\n",
       "    <tr style=\"text-align: right;\">\n",
       "      <th></th>\n",
       "      <th>id</th>\n",
       "      <th>estate_id</th>\n",
       "      <th>action</th>\n",
       "      <th>search_date</th>\n",
       "      <th>post_type</th>\n",
       "      <th>link</th>\n",
       "      <th>type</th>\n",
       "      <th>image_list</th>\n",
       "      <th>snippet</th>\n",
       "      <th>street</th>\n",
       "      <th>neighbor</th>\n",
       "      <th>city</th>\n",
       "      <th>state</th>\n",
       "      <th>latitude</th>\n",
       "      <th>longitude</th>\n",
       "      <th>floor_size</th>\n",
       "      <th>number_of_rooms</th>\n",
       "      <th>number_of_bathrooms</th>\n",
       "      <th>number_of_parking_spaces</th>\n",
       "      <th>amenities_list</th>\n",
       "      <th>price</th>\n",
       "      <th>condominium</th>\n",
       "      <th>iptu</th>\n",
       "    </tr>\n",
       "  </thead>\n",
       "  <tbody>\n",
       "    <tr>\n",
       "      <th>0</th>\n",
       "      <td>fc495ad4-19d8-46a5-a6a8-065e5258d52e</td>\n",
       "      <td>2635911061</td>\n",
       "      <td>venda</td>\n",
       "      <td>2024-11-27 05:21:57.499350</td>\n",
       "      <td>SUPER PREMIUM</td>\n",
       "      <td>https://www.zapimoveis.com.br/imovel/venda-apa...</td>\n",
       "      <td>Apartamento</td>\n",
       "      <td>[https://resizedimgs.zapimoveis.com.br/crop/61...</td>\n",
       "      <td>Apartamento com 3 quartos à venda</td>\n",
       "      <td></td>\n",
       "      <td>Jardim dos Estados</td>\n",
       "      <td>Poços de Caldas</td>\n",
       "      <td>MG</td>\n",
       "      <td>-21.783975</td>\n",
       "      <td>-46.552999</td>\n",
       "      <td>235.0</td>\n",
       "      <td>3.0</td>\n",
       "      <td>1.0</td>\n",
       "      <td>2.0</td>\n",
       "      <td>[Cozinha, Elevador, Interfone, Área de serviço]</td>\n",
       "      <td>800000.00</td>\n",
       "      <td>700.00</td>\n",
       "      <td>0.00</td>\n",
       "    </tr>\n",
       "    <tr>\n",
       "      <th>1</th>\n",
       "      <td>ff0af6b2-ef1b-4070-ae2f-0a6312c47157</td>\n",
       "      <td>2753629515</td>\n",
       "      <td>venda</td>\n",
       "      <td>2024-11-27 05:21:57.499350</td>\n",
       "      <td>SUPER PREMIUM</td>\n",
       "      <td>https://www.zapimoveis.com.br/imovel/venda-cas...</td>\n",
       "      <td>Casa</td>\n",
       "      <td>[https://resizedimgs.zapimoveis.com.br/crop/61...</td>\n",
       "      <td>Casa com 4 quartos à venda</td>\n",
       "      <td></td>\n",
       "      <td>Boa Esperança</td>\n",
       "      <td>Poços de Caldas</td>\n",
       "      <td>MG</td>\n",
       "      <td>-21.826302</td>\n",
       "      <td>-46.557761</td>\n",
       "      <td>219.0</td>\n",
       "      <td>4.0</td>\n",
       "      <td>4.0</td>\n",
       "      <td>3.0</td>\n",
       "      <td>None</td>\n",
       "      <td>450000.00</td>\n",
       "      <td>NaN</td>\n",
       "      <td>NaN</td>\n",
       "    </tr>\n",
       "    <tr>\n",
       "      <th>2</th>\n",
       "      <td>02007133-c21e-4dc9-9e2f-34e9d95e92d6</td>\n",
       "      <td>2756849948</td>\n",
       "      <td>venda</td>\n",
       "      <td>2024-11-27 05:21:57.499350</td>\n",
       "      <td>SUPER PREMIUM</td>\n",
       "      <td>https://www.zapimoveis.com.br/imovel/venda-cas...</td>\n",
       "      <td>Casa</td>\n",
       "      <td>[https://resizedimgs.zapimoveis.com.br/crop/61...</td>\n",
       "      <td>Casa com 3 quartos à venda</td>\n",
       "      <td></td>\n",
       "      <td>Jardim Carolina</td>\n",
       "      <td>Poços de Caldas</td>\n",
       "      <td>MG</td>\n",
       "      <td>-21.793090</td>\n",
       "      <td>-46.601182</td>\n",
       "      <td>131.0</td>\n",
       "      <td>3.0</td>\n",
       "      <td>4.0</td>\n",
       "      <td>3.0</td>\n",
       "      <td>[Circuito de segurança, Portaria 24h, Espaço g...</td>\n",
       "      <td>820000.00</td>\n",
       "      <td>NaN</td>\n",
       "      <td>NaN</td>\n",
       "    </tr>\n",
       "    <tr>\n",
       "      <th>3</th>\n",
       "      <td>476271bb-6912-4e8f-acdb-f9389ab87124</td>\n",
       "      <td>2635633461</td>\n",
       "      <td>venda</td>\n",
       "      <td>2024-11-27 05:21:57.499350</td>\n",
       "      <td>PREMIUM</td>\n",
       "      <td>https://www.zapimoveis.com.br/imovel/venda-cas...</td>\n",
       "      <td>Casa</td>\n",
       "      <td>[https://resizedimgs.zapimoveis.com.br/crop/61...</td>\n",
       "      <td>Casa com quarto à venda</td>\n",
       "      <td></td>\n",
       "      <td>Jardim Ipê</td>\n",
       "      <td>Poços de Caldas</td>\n",
       "      <td>MG</td>\n",
       "      <td>-21.802998</td>\n",
       "      <td>-46.543752</td>\n",
       "      <td>63.0</td>\n",
       "      <td>1.0</td>\n",
       "      <td>1.0</td>\n",
       "      <td>NaN</td>\n",
       "      <td>None</td>\n",
       "      <td>250000.00</td>\n",
       "      <td>NaN</td>\n",
       "      <td>NaN</td>\n",
       "    </tr>\n",
       "    <tr>\n",
       "      <th>4</th>\n",
       "      <td>2277df07-4a44-4526-b8a7-bce42e1b5298</td>\n",
       "      <td>2731635351</td>\n",
       "      <td>venda</td>\n",
       "      <td>2024-11-27 05:21:57.499350</td>\n",
       "      <td>STANDARD</td>\n",
       "      <td>https://www.zapimoveis.com.br/imovel/venda-apa...</td>\n",
       "      <td>Apartamento</td>\n",
       "      <td>[https://resizedimgs.zapimoveis.com.br/crop/61...</td>\n",
       "      <td>Apartamento com 2 quartos à venda</td>\n",
       "      <td></td>\n",
       "      <td>Jardim Bandeirantes</td>\n",
       "      <td>Poços de Caldas</td>\n",
       "      <td>MG</td>\n",
       "      <td>-21.809666</td>\n",
       "      <td>-46.586492</td>\n",
       "      <td>50.0</td>\n",
       "      <td>2.0</td>\n",
       "      <td>1.0</td>\n",
       "      <td>1.0</td>\n",
       "      <td>[Cozinha, Interfone, Varanda, Área de serviço,...</td>\n",
       "      <td>200000.00</td>\n",
       "      <td>180.00</td>\n",
       "      <td>660.00</td>\n",
       "    </tr>\n",
       "    <tr>\n",
       "      <th>...</th>\n",
       "      <td>...</td>\n",
       "      <td>...</td>\n",
       "      <td>...</td>\n",
       "      <td>...</td>\n",
       "      <td>...</td>\n",
       "      <td>...</td>\n",
       "      <td>...</td>\n",
       "      <td>...</td>\n",
       "      <td>...</td>\n",
       "      <td>...</td>\n",
       "      <td>...</td>\n",
       "      <td>...</td>\n",
       "      <td>...</td>\n",
       "      <td>...</td>\n",
       "      <td>...</td>\n",
       "      <td>...</td>\n",
       "      <td>...</td>\n",
       "      <td>...</td>\n",
       "      <td>...</td>\n",
       "      <td>...</td>\n",
       "      <td>...</td>\n",
       "      <td>...</td>\n",
       "      <td>...</td>\n",
       "    </tr>\n",
       "    <tr>\n",
       "      <th>2430</th>\n",
       "      <td>df186c48-0c19-4435-86a5-2dbd6a0eec82</td>\n",
       "      <td>2742901654</td>\n",
       "      <td>venda</td>\n",
       "      <td>2024-11-27 06:16:06.315730</td>\n",
       "      <td>STANDARD</td>\n",
       "      <td>https://www.zapimoveis.com.br/imovel/venda-sob...</td>\n",
       "      <td>Casa</td>\n",
       "      <td>[https://resizedimgs.zapimoveis.com.br/crop/61...</td>\n",
       "      <td>Casa com 3 quartos à venda</td>\n",
       "      <td></td>\n",
       "      <td>Parque Vivaldi Leite Ribeiro</td>\n",
       "      <td>Poços de Caldas</td>\n",
       "      <td>MG</td>\n",
       "      <td>-21.798239</td>\n",
       "      <td>-46.557005</td>\n",
       "      <td>279.0</td>\n",
       "      <td>3.0</td>\n",
       "      <td>3.0</td>\n",
       "      <td>6.0</td>\n",
       "      <td>[Churrasqueira, Interfone, Lavanderia, Cozinha...</td>\n",
       "      <td>900000.00</td>\n",
       "      <td>NaN</td>\n",
       "      <td>NaN</td>\n",
       "    </tr>\n",
       "    <tr>\n",
       "      <th>2431</th>\n",
       "      <td>ecfd5ee6-d3b3-46a3-9b5a-b1a8b4edb63a</td>\n",
       "      <td>2654686087</td>\n",
       "      <td>venda</td>\n",
       "      <td>2024-11-27 06:16:06.315730</td>\n",
       "      <td>STANDARD</td>\n",
       "      <td>https://www.zapimoveis.com.br/imovel/venda-apa...</td>\n",
       "      <td>Apartamento</td>\n",
       "      <td>[https://resizedimgs.zapimoveis.com.br/crop/61...</td>\n",
       "      <td>Apartamento com 4 quartos à venda</td>\n",
       "      <td></td>\n",
       "      <td>Centro</td>\n",
       "      <td>Poços de Caldas</td>\n",
       "      <td>MG</td>\n",
       "      <td>-21.784097</td>\n",
       "      <td>-46.570472</td>\n",
       "      <td>333.0</td>\n",
       "      <td>4.0</td>\n",
       "      <td>1.0</td>\n",
       "      <td>4.0</td>\n",
       "      <td>[Varanda, Churrasqueira, Condomínio fechado, S...</td>\n",
       "      <td>3849850.00</td>\n",
       "      <td>1.00</td>\n",
       "      <td>1.00</td>\n",
       "    </tr>\n",
       "    <tr>\n",
       "      <th>2432</th>\n",
       "      <td>fcdcd1e3-0429-4228-ba7a-858982af3752</td>\n",
       "      <td>2759299622</td>\n",
       "      <td>venda</td>\n",
       "      <td>2024-11-27 06:16:06.315730</td>\n",
       "      <td>PREMIUM</td>\n",
       "      <td>https://www.zapimoveis.com.br/imovel/venda-apa...</td>\n",
       "      <td>Apartamento</td>\n",
       "      <td>[https://resizedimgs.zapimoveis.com.br/crop/61...</td>\n",
       "      <td>Apartamento com 2 quartos à venda</td>\n",
       "      <td></td>\n",
       "      <td>Centro</td>\n",
       "      <td>Poços de Caldas</td>\n",
       "      <td>MG</td>\n",
       "      <td>-21.784097</td>\n",
       "      <td>-46.570472</td>\n",
       "      <td>75.0</td>\n",
       "      <td>2.0</td>\n",
       "      <td>1.0</td>\n",
       "      <td>NaN</td>\n",
       "      <td>[Elevador, Aceita animais]</td>\n",
       "      <td>340000.00</td>\n",
       "      <td>500.00</td>\n",
       "      <td>0.00</td>\n",
       "    </tr>\n",
       "    <tr>\n",
       "      <th>2433</th>\n",
       "      <td>f2cc3484-b3ed-4947-b966-2692096f7604</td>\n",
       "      <td>2724651059</td>\n",
       "      <td>venda</td>\n",
       "      <td>2024-11-27 06:16:06.315730</td>\n",
       "      <td>PREMIUM</td>\n",
       "      <td>https://www.zapimoveis.com.br/imovel/venda-cas...</td>\n",
       "      <td>Casa</td>\n",
       "      <td>[https://resizedimgs.zapimoveis.com.br/crop/61...</td>\n",
       "      <td>Casa com 2 quartos à venda</td>\n",
       "      <td></td>\n",
       "      <td>Bianucci</td>\n",
       "      <td>Poços de Caldas</td>\n",
       "      <td>MG</td>\n",
       "      <td>-21.796872</td>\n",
       "      <td>-46.522370</td>\n",
       "      <td>400.0</td>\n",
       "      <td>2.0</td>\n",
       "      <td>5.0</td>\n",
       "      <td>6.0</td>\n",
       "      <td>[Churrasqueira, Cozinha, Lareira, Piscina, Sis...</td>\n",
       "      <td>1900000.00</td>\n",
       "      <td>0.00</td>\n",
       "      <td>1.00</td>\n",
       "    </tr>\n",
       "    <tr>\n",
       "      <th>2434</th>\n",
       "      <td>3f0d8710-f6b4-474c-8f17-bdcc41e25cf0</td>\n",
       "      <td>2717831663</td>\n",
       "      <td>venda</td>\n",
       "      <td>2024-11-27 06:16:06.315730</td>\n",
       "      <td>STANDARD</td>\n",
       "      <td>https://www.zapimoveis.com.br/imovel/venda-faz...</td>\n",
       "      <td>Rural</td>\n",
       "      <td>[https://resizedimgs.zapimoveis.com.br/crop/61...</td>\n",
       "      <td>Fazenda/Sítio/Chácara  à venda</td>\n",
       "      <td>Área Rural</td>\n",
       "      <td>Área Rural de Poços de Caldas</td>\n",
       "      <td>Poços de Caldas</td>\n",
       "      <td>MG</td>\n",
       "      <td>-21.799586</td>\n",
       "      <td>-46.510642</td>\n",
       "      <td>4300000.0</td>\n",
       "      <td>NaN</td>\n",
       "      <td>NaN</td>\n",
       "      <td>NaN</td>\n",
       "      <td>[Cozinha]</td>\n",
       "      <td>30000000.00</td>\n",
       "      <td>NaN</td>\n",
       "      <td>NaN</td>\n",
       "    </tr>\n",
       "  </tbody>\n",
       "</table>\n",
       "<p>2435 rows × 23 columns</p>\n",
       "</div>"
      ],
      "text/plain": [
       "                                        id   estate_id  ... condominium    iptu\n",
       "0     fc495ad4-19d8-46a5-a6a8-065e5258d52e  2635911061  ...      700.00    0.00\n",
       "1     ff0af6b2-ef1b-4070-ae2f-0a6312c47157  2753629515  ...         NaN     NaN\n",
       "2     02007133-c21e-4dc9-9e2f-34e9d95e92d6  2756849948  ...         NaN     NaN\n",
       "3     476271bb-6912-4e8f-acdb-f9389ab87124  2635633461  ...         NaN     NaN\n",
       "4     2277df07-4a44-4526-b8a7-bce42e1b5298  2731635351  ...      180.00  660.00\n",
       "...                                    ...         ...  ...         ...     ...\n",
       "2430  df186c48-0c19-4435-86a5-2dbd6a0eec82  2742901654  ...         NaN     NaN\n",
       "2431  ecfd5ee6-d3b3-46a3-9b5a-b1a8b4edb63a  2654686087  ...        1.00    1.00\n",
       "2432  fcdcd1e3-0429-4228-ba7a-858982af3752  2759299622  ...      500.00    0.00\n",
       "2433  f2cc3484-b3ed-4947-b966-2692096f7604  2724651059  ...        0.00    1.00\n",
       "2434  3f0d8710-f6b4-474c-8f17-bdcc41e25cf0  2717831663  ...         NaN     NaN\n",
       "\n",
       "[2435 rows x 23 columns]"
      ]
     },
     "execution_count": 41,
     "metadata": {},
     "output_type": "execute_result"
    }
   ],
   "source": [
    "data"
   ]
  },
  {
   "cell_type": "code",
   "execution_count": 37,
   "id": "0cd2863c-54cc-40e1-9eee-ee803446b184",
   "metadata": {},
   "outputs": [],
   "source": [
    "await db_handler.close()"
   ]
  },
  {
   "cell_type": "markdown",
   "id": "a7574a80-5d48-4ee8-bc29-c610faec7496",
   "metadata": {},
   "source": [
    "# Sandbox"
   ]
  },
  {
   "cell_type": "code",
   "execution_count": 3,
   "id": "d26fa4e9-0ba6-4d29-a5d5-96fa0e093d67",
   "metadata": {},
   "outputs": [],
   "source": [
    "import pandas as pd"
   ]
  },
  {
   "cell_type": "code",
   "execution_count": 4,
   "id": "bf2d90db-6a91-4a05-8185-4ae2af9a5fd7",
   "metadata": {},
   "outputs": [],
   "source": [
    "pd.options.display.max_columns = None"
   ]
  },
  {
   "cell_type": "code",
   "execution_count": 5,
   "id": "3f6d6f33-68e5-4dbe-ab5f-f21a2625f120",
   "metadata": {},
   "outputs": [],
   "source": [
    "ACTION=\"venda\"\n",
    "TYPE=\"imoveis\"\n",
    "LOCALIZATION=\"mg+pocos-de-caldas\"\n"
   ]
  },
  {
   "cell_type": "code",
   "execution_count": null,
   "id": "a54529ad-88cb-4456-a6a1-788bff898186",
   "metadata": {},
   "outputs": [],
   "source": [
    "\n",
    "page = 1\n",
    "\n",
    "estates = await get_estates_from_page(\n",
    "    action=ACTION,\n",
    "    type=TYPE,\n",
    "    localization=LOCALIZATION,\n",
    "    page=page,\n",
    ")"
   ]
  },
  {
   "cell_type": "code",
   "execution_count": null,
   "id": "8b63955f-552b-47b3-979c-acdd09c4a1b7",
   "metadata": {},
   "outputs": [],
   "source": [
    "estates"
   ]
  },
  {
   "cell_type": "code",
   "execution_count": null,
   "id": "e31145ec-391d-4431-a299-89c530676f18",
   "metadata": {},
   "outputs": [],
   "source": []
  },
  {
   "cell_type": "code",
   "execution_count": null,
   "id": "9771de0b-8b74-42a0-bfdb-253bd46a5f4b",
   "metadata": {},
   "outputs": [],
   "source": []
  },
  {
   "cell_type": "code",
   "execution_count": null,
   "id": "6107f578-1860-4742-9c23-012ae47eb82f",
   "metadata": {},
   "outputs": [],
   "source": []
  },
  {
   "cell_type": "code",
   "execution_count": null,
   "id": "1463a7bc-add6-4767-8e97-bdbc374303e0",
   "metadata": {},
   "outputs": [],
   "source": []
  },
  {
   "cell_type": "code",
   "execution_count": 8,
   "id": "bf9eba1a-890b-40c5-b382-e7edbf62897a",
   "metadata": {},
   "outputs": [],
   "source": [
    "from pc_zap_scrapper.v2.scrape import scrape_estate_divs_from_page, _get_snippet"
   ]
  },
  {
   "cell_type": "code",
   "execution_count": 9,
   "id": "6a651859-a693-4f8c-8b77-ea1da30d3b0d",
   "metadata": {},
   "outputs": [
    {
     "name": "stderr",
     "output_type": "stream",
     "text": [
      "Loop 8 | 113 elementos: 100%|██████████| 113/113 [01:11<00:00,  1.57it/s]\n"
     ]
    }
   ],
   "source": [
    "divs = await scrape_estate_divs_from_page(\n",
    "    action=ACTION,\n",
    "    type=TYPE,\n",
    "    localization=LOCALIZATION,\n",
    "    page=1,\n",
    ")"
   ]
  },
  {
   "cell_type": "code",
   "execution_count": 10,
   "id": "09fcbe9d-afe5-40bb-ad7a-8e547cc9a0bf",
   "metadata": {},
   "outputs": [],
   "source": [
    "div = divs[0]"
   ]
  },
  {
   "cell_type": "code",
   "execution_count": 11,
   "id": "9b739709-cb3b-463e-b631-ed8ca333aee3",
   "metadata": {},
   "outputs": [],
   "source": [
    "from pc_zap_scrapper.v2.scrape import _get_type"
   ]
  },
  {
   "cell_type": "code",
   "execution_count": 14,
   "id": "4485aa6e-80cf-489c-8422-326103135571",
   "metadata": {},
   "outputs": [],
   "source": [
    "def _get_type(div):\n",
    "\n",
    "    if snippet := _get_snippet(div):\n",
    "        type = _get_type_from_snippet(snippet)\n",
    "\n",
    "    if type:\n",
    "        return type\n",
    "\n",
    "\n",
    "    if \"apartamento\" in str(div).lower():\n",
    "        return \"Apartamento\"\n",
    "\n",
    "    if \"casa\" in str(div).lower():\n",
    "        return \"Casa\"\n",
    "\n",
    "    if \"cobertura\" in str(div).lower():\n",
    "        return \"Apartamento\"\n",
    "\n",
    "    if \"flat\" in str(div).lower():\n",
    "        return \"Flat\"\n",
    "\n",
    "    if \"chacara\" in unidecode(str(div).lower()):\n",
    "        return \"Rural\"\n",
    "\n",
    "    if \"sitio\" in unidecode(str(div).lower()):\n",
    "        return \"Rural\"\n",
    "\n",
    "    if \"fazenda\" in unidecode(str(div).lower()):\n",
    "        return \"Rural\"\n",
    "\n",
    "\n",
    "def _get_type_from_snippet(snippet):\n",
    "    if not snippet:\n",
    "        logger.warning(\"No snippet found\")\n",
    "        return None\n",
    "    snippet = str(snippet)\n",
    "    is_rural = (\"fazenda\" in snippet.lower()) or (\"sítio\" in snippet.lower()) or (\"chácara\" in snippet.lower())\n",
    "    is_comercial = (\"ponto comercial\" in snippet.lower()) or (\"loja\" in snippet.lower()) or (\"box\" in snippet.lower())\n",
    "    is_lote = (\"lote\" in snippet.lower()) or (\"terreno\" in snippet.lower())\n",
    "\n",
    "    if \"apartamento\" in snippet.lower():\n",
    "        return \"Apartamento\"\n",
    "\n",
    "    if is_rural:\n",
    "        return \"Rural\"\n",
    "\n",
    "    if \"casa\" in snippet.lower():\n",
    "        return \"Casa\"\n",
    "\n",
    "    if \"flat\" in snippet.lower():\n",
    "        return \"Flat\"\n",
    "\n",
    "    if \"cobertura\" in snippet.lower():\n",
    "        return \"Apartamento\"\n",
    "\n",
    "    if is_comercial:\n",
    "        return \"Comercial\"\n",
    "\n",
    "    if is_lote:\n",
    "        return \"Lote\""
   ]
  },
  {
   "cell_type": "code",
   "execution_count": null,
   "id": "c3fcbcfd-680f-47ca-87d6-1be21e6492ad",
   "metadata": {},
   "outputs": [],
   "source": []
  },
  {
   "cell_type": "code",
   "execution_count": null,
   "id": "5fd7f743-50d9-42d2-a914-1dfeafd18818",
   "metadata": {},
   "outputs": [],
   "source": []
  },
  {
   "cell_type": "code",
   "execution_count": null,
   "id": "80ff6f2d-6f75-44c6-89a2-f5dbadef280d",
   "metadata": {},
   "outputs": [],
   "source": []
  },
  {
   "cell_type": "code",
   "execution_count": 15,
   "id": "287672da-bfda-409a-bae5-6517bea79b7b",
   "metadata": {},
   "outputs": [
    {
     "data": {
      "text/plain": [
       "'Casa'"
      ]
     },
     "execution_count": 15,
     "metadata": {},
     "output_type": "execute_result"
    }
   ],
   "source": [
    "snippet = _get_snippet(div)\n",
    "type = _get_type(div)\n",
    "\n",
    "type"
   ]
  },
  {
   "cell_type": "code",
   "execution_count": 19,
   "id": "fd50cdac-7483-4baf-a90a-24044c675530",
   "metadata": {},
   "outputs": [
    {
     "data": {
      "text/plain": [
       "'Centro, Poços de Caldas'"
      ]
     },
     "execution_count": 19,
     "metadata": {},
     "output_type": "execute_result"
    }
   ],
   "source": [
    "snippet"
   ]
  },
  {
   "cell_type": "code",
   "execution_count": 13,
   "id": "06cd68b7-4ed6-48c8-ae3b-fa8fa27b36e7",
   "metadata": {},
   "outputs": [],
   "source": [
    "\n",
    "def _format_neighbor_name(text: str) -> str:\n",
    "    if text:\n",
    "        return unidecode(text.strip().lower())\n",
    "    return None\n",
    "\n",
    "pc_neighbors_latlong = (\n",
    "    pd.read_parquet(resources.files(\"pc_zap_scrapper\").joinpath(\"datasets/external/neighbor_latlong.parquet\"))\n",
    "    .set_index(\"neighborhood\")\n",
    "    .to_dict(orient=\"index\")\n",
    ")\n",
    "\n",
    "pc_neighbors_latlong = {_format_neighbor_name(k): v for k, v in pc_neighbors_latlong.items() if k}\n",
    "\n",
    "search_date = search_date or datetime.now()\n",
    "prices = _get_prices(div)\n",
    "snippet = _get_snippet(div)\n",
    "location = _get_location(div)\n",
    "type = _get_type(snippet)\n",
    "neighbor = location.get(\"neighbor\")\n",
    "formatted_neighbor_name = _format_neighbor_name(neighbor)\n",
    "latlong = pc_neighbors_latlong.get(formatted_neighbor_name, {}) if formatted_neighbor_name else {}\n",
    "latitude = latlong.get(\"latitude\", None)\n",
    "longitude = latlong.get(\"longitude\", None)\n"
   ]
  },
  {
   "cell_type": "code",
   "execution_count": 14,
   "id": "26b4d6d1-ddf5-40c3-b680-c91d6629d53a",
   "metadata": {},
   "outputs": [
    {
     "data": {
      "text/plain": [
       "'Jardim Quisisana, Poços de Caldas'"
      ]
     },
     "execution_count": 14,
     "metadata": {},
     "output_type": "execute_result"
    }
   ],
   "source": [
    "snippet"
   ]
  },
  {
   "cell_type": "code",
   "execution_count": null,
   "id": "b2a2fb15-299a-4ddb-8bca-7bb7730026be",
   "metadata": {},
   "outputs": [],
   "source": []
  },
  {
   "cell_type": "code",
   "execution_count": null,
   "id": "e5c3d2c5-d9ce-46a8-b438-39464b15332b",
   "metadata": {},
   "outputs": [],
   "source": []
  },
  {
   "cell_type": "code",
   "execution_count": null,
   "id": "5c709d39-9541-481c-a7e3-acfdea889b37",
   "metadata": {},
   "outputs": [],
   "source": [
    "# @suppress_errors_and_log\n",
    "# def _get_location(div):\n",
    "#     if subtitle := div.find(\"h2\", attrs={\"data-testid\": \"card-header\"}):\n",
    "#         if spans := subtitle.findAll(\"span\"):\n",
    "#             texts = [x.text for x in spans]\n",
    "#             *street, neighbor, city, state = [x.strip() for x in texts[1].replace(\"-\", \",\").split(\",\")]\n",
    "#             return {\n",
    "#                 \"street\": \" - \".join(street),\n",
    "#                 \"neighbor\": neighbor,\n",
    "#                 \"city\": city,\n",
    "#                 \"state\": state,\n",
    "#             }\n",
    "\n",
    "#     if subtitle := div.find(\"h2\"):\n",
    "#         elements = str(subtitle.text).split[\",\"]\n",
    "#         if len(elements) == 2:\n",
    "#             return {\n",
    "#                 \"street\": None,\n",
    "#                 \"neighbor\": elements[0],\n",
    "#                 \"city\": elements[1],\n",
    "#                 \"state\": None,\n",
    "#             }\n",
    "#         logger.warning(f\"It wa not possible to get locatino info from snippet '{subtitle}'\")\n",
    "#     return {\n",
    "#         \"street\": None,\n",
    "#         \"neighbor\": None,\n",
    "#         \"city\": None,\n",
    "#         \"state\": None,\n",
    "#     }\n",
    "\n"
   ]
  },
  {
   "cell_type": "code",
   "execution_count": null,
   "id": "52857bc5-7ba4-4480-a61c-9639faacd9b8",
   "metadata": {},
   "outputs": [],
   "source": []
  },
  {
   "cell_type": "code",
   "execution_count": null,
   "id": "2057b0ec-4ad5-47a0-a41d-d1c5373f8673",
   "metadata": {},
   "outputs": [],
   "source": []
  },
  {
   "cell_type": "code",
   "execution_count": 8,
   "id": "ef4056e0-ebd3-45f7-8cfc-0e25740000ae",
   "metadata": {},
   "outputs": [],
   "source": []
  },
  {
   "cell_type": "code",
   "execution_count": 12,
   "id": "cad4b660-5d7c-465d-a8c8-f69b95bec4b3",
   "metadata": {},
   "outputs": [
    {
     "data": {
      "text/plain": [
       "<div data-position=\"1\" data-type=\"SUPER PREMIUM\"><div class=\"ListingCard_result-card__Pumtx\"><a class=\"ListingCard_result-card__Pumtx ListingCard_result-card__highlight__UgAvU ListingCard_result-card__highlight--super__8WmjB\" data-id=\"2759584336\" href=\"https://www.zapimoveis.com.br/imovel/venda-terreno-lote-condominio-jardins-de-florenca-pocos-de-caldas-mg-276m2-id-2759584336/\" itemprop=\"url\" itemscope=\"\" itemtype=\"https://schema.org/House\" target=\"_blank\"><div class=\"BaseCard_card__wrapper__AKWue\"><div class=\"BaseCard_card__Ci4Ny BaseCard_card--horizontal__GgDlY\" data-testid=\"card\"><div class=\"BaseCard_card-carousel__VFcJU\"><div class=\"l-carousel-image\" data-cy=\"rp-cardProperty-image-img\"><div class=\"l-carousel-image__container\"><ul class=\"l-carousel-image__list\" style=\"transform: translateX(0px);\"><li aria-hidden=\"false\"><img alt=\"Imagem do imóvel\" class=\"l-image\" fetchpriority=\"low\" itemprop=\"image\" loading=\"lazy\" src=\"https://resizedimgs.zapimoveis.com.br/crop/614x297/vr.images.sp/afd2a05b593de5b0b70350ffbb0084cf.webp\"/></li><li aria-hidden=\"true\"><img alt=\"Imagem do imóvel\" class=\"l-image\" fetchpriority=\"low\" itemprop=\"image\" loading=\"lazy\" src=\"https://resizedimgs.zapimoveis.com.br/crop/614x297/vr.images.sp/7f4ebdcebab177150b5cd6ee625469c6.webp\"/></li><li aria-hidden=\"true\"><img alt=\"Imagem do imóvel\" class=\"l-image\" fetchpriority=\"low\" itemprop=\"image\" loading=\"lazy\" src=\"https://resizedimgs.zapimoveis.com.br/crop/614x297/vr.images.sp/f314e00eb93d88a7a8685779c9e34e9a.webp\"/></li><li aria-hidden=\"true\"><img alt=\"Imagem do imóvel\" class=\"l-image\" fetchpriority=\"low\" itemprop=\"image\" loading=\"lazy\" src=\"https://resizedimgs.zapimoveis.com.br/crop/614x297/vr.images.sp/d40df3aa7638a5d8520868c98de7f716.webp\"/></li><li aria-hidden=\"true\"><div class=\"l-carousel-image__layer\"><span class=\"l-icon l-u-color-undefined l-button__icon\" data-testid=\"l-icon\"><svg fill=\"none\" viewbox=\"0 0 24 24\" xmlns=\"http://www.w3.org/2000/svg\"><path d=\"M12 9a4 4 0 1 1 0 8 4 4 0 0 1 0-8Zm0 2a2 2 0 1 0 0 4 2 2 0 0 0 0-4Z\" fill=\"currentColor\"></path><path d=\"M11.765 4.005c-1.478.065-2.825.739-3.711 1.81L8 5.881l-4 .001a2 2 0 0 0-2 2V18a2 2 0 0 0 2 2h16a2 2 0 0 0 2-2V7.882a2 2 0 0 0-2-2h-4.04l-.054-.069C14.978 4.683 13.565 4 12 4l-.235.005ZM12 6c1.072 0 2.019.524 2.56 1.385l.288.46L19 7.847a1 1 0 0 1 1 1V17a1 1 0 0 1-1 1H5a1 1 0 0 1-1-1V8.846a1 1 0 0 1 1-1h4.112l.289-.46C9.934 6.533 10.916 6 12 6Z\" fill=\"currentColor\"></path></svg></span><div class=\"l-text l-u-color-neutral-100 l-text--variant-heading-regular l-text--weight-regular undefined\">+ 8 fotos</div></div><img alt=\"Imagem do imóvel\" class=\"l-image\" fetchpriority=\"low\" itemprop=\"image\" loading=\"lazy\" src=\"https://resizedimgs.zapimoveis.com.br/crop/614x297/vr.images.sp/e058795128d4a28f51974d15819aa73b.webp\"/></li></ul><div class=\"l-carousel-image__buttons\"><button class=\"l-button l-button--context-neutral l-button--size-regular l-button--icon-left l-carousel-image__button l-carousel-image__button--right\" data-testid=\"l-button\" role=\"next\" type=\"button\"><span class=\"l-icon l-u-color-undefined\" data-testid=\"l-icon\"><svg fill=\"none\" viewbox=\"0 0 24 24\" xmlns=\"http://www.w3.org/2000/svg\"><path d=\"m15.914 12-5.207 5.207a1 1 0 0 1-1.497-1.32l.083-.094L13.085 12 9.293 8.207a1 1 0 0 1-.083-1.32l.083-.094a1 1 0 0 1 1.32-.083l.094.083L15.914 12Z\" fill=\"currentColor\"></path></svg></span></button></div></div></div></div><div class=\"BaseCard_card__content__pL2Vc w-full p-6\"><div class=\"ListingCard_header__wrapper__sI7ZX\"><section class=\"card__location overflow-hidden\" data-testid=\"card-address\" itemprop=\"address\"><div><h2 class=\"l-text l-u-color-neutral-28 l-text--variant-heading-small l-text--weight-medium truncate\" data-cy=\"rp-cardProperty-location-txt\" title=\"Jardins de Florença, Poços de Caldas\">Jardins de Florença, Poços de Caldas</h2></div><p class=\"l-text l-u-color-neutral-28 l-text--variant-body-small l-text--weight-regular truncate\" data-cy=\"rp-cardProperty-street-txt\"></p></section><div class=\"hidden lg:block\"><button aria-checked=\"false\" class=\"olx-core-button olx-core-button--tertiary olx-core-button--medium olx-core-button--only-icon\" role=\"switch\"><span class=\"l-icon l-u-color-undefined\" data-testid=\"l-icon\"><svg fill=\"none\" viewbox=\"0 0 24 24\" xmlns=\"http://www.w3.org/2000/svg\"><path d=\"M12.248 5.75c1.018-.96 2.275-1.671 3.543-1.744L16.003 4C19.887 4 22 6.675 22 10.335c0 2.598-1.35 4.905-3.61 6.942-1.56 1.404-3.466 2.594-5.38 3.5-.64.297-1.38.297-2.03-.005-1.904-.901-3.81-2.09-5.37-3.495C3.35 15.24 2 12.933 2 10.335 2 6.63 4.039 4 8 4c1.425 0 2.85.83 3.956 1.943l.045.048.247-.242ZM20 10.334C20 8.052 18.95 6 16.004 6c-2 0-3.84 2.861-4.004 3.766C11.835 8.864 10.005 6 8 6c-3.05 0-4 2.052-4 4.335 0 2.143 1.327 3.994 2.949 5.456 1.622 1.46 3.558 2.544 4.886 3.173a.393.393 0 0 0 .33 0c1.328-.629 3.264-1.712 4.886-3.173C18.673 14.329 20 12.478 20 10.335Z\" fill=\"currentColor\"></path></svg></span></button></div></div><div class=\"\" style=\"margin-bottom:0\"><p class=\"ListingCard_card__description__slBTG\" data-cy=\"rp-cardProperty-description-txt\" title=\"Loteamento planejado com mais 60.000m² de área verde, lote plano em local.\n",
       "Todas as ruas são amplas e contam com praças e paisagismo, além de espaço de lazer e um lago.. ref. 21923 atualizado em 27/11.\">Loteamento planejado com mais 60.000m² de área verde, lote plano em local.\n",
       "Todas as ruas são amplas e contam com praças e paisagismo, além de espaço de lazer e um lago.. ref. 21923 atualizado em 27/11.</p></div><section class=\"Amenities_card-amenities__kpLh7\"><p class=\"l-text l-u-color-neutral-28 l-text--variant-body-small l-text--weight-regular undefined\" data-cy=\"rp-cardProperty-propertyArea-txt\" data-testid=\"card-amenity\" itemprop=\"floorSize\"><span aria-label=\"Tamanho do imóvel\" class=\"l-icon l-u-color-undefined mr-1\" data-testid=\"l-icon\" role=\"document\"><svg fill=\"none\" viewbox=\"0 0 24 24\" xmlns=\"http://www.w3.org/2000/svg\"><path d=\"M8.75 3A1.75 1.75 0 0 0 7 4.75v10.5c0 .966.784 1.75 1.75 1.75h10.5A1.75 1.75 0 0 0 21 15.25V4.75A1.75 1.75 0 0 0 19.25 3H8.75ZM10 15a1 1 0 0 1-1-1V6a1 1 0 0 1 1-1h8a1 1 0 0 1 1 1v8a1 1 0 0 1-1 1h-8Z\" fill=\"currentColor\"></path><path d=\"M6 19a1 1 0 0 1-1-1V6a1 1 0 0 0-2 0v13a2 2 0 0 0 2 2h13a1 1 0 1 0 0-2H6Z\" fill=\"currentColor\"></path></svg></span>276 m²</p></section><div class=\"ListingCard_result-card__wrapper__6osq8\"><div class=\"w-full\" data-cy=\"rp-cardProperty-price-txt\"><p class=\"l-text l-u-color-neutral-28 l-text--variant-heading-small l-text--weight-bold undefined\">R$ 260.000</p></div><div class=\"result-card__row\" data-testid=\"card-action\"><div class=\"result-card__cta-buttons\"><button class=\"olx-core-button olx-core-button--link olx-core-button--medium\" data-cy=\"rp-cardProperty-phone-btn\"><span class=\"after:content-['Ligar'] md:after:content-['Telefone']\"></span></button><button class=\"olx-core-button olx-core-button--secondary olx-core-button--medium\" data-cy=\"rp-cardProperty-message-btn\">Mensagem</button></div><div class=\"lg:hidden\"><button aria-checked=\"false\" class=\"olx-core-button olx-core-button--tertiary olx-core-button--medium olx-core-button--only-icon\" role=\"switch\"><span class=\"l-icon l-u-color-undefined\" data-testid=\"l-icon\"><svg fill=\"none\" viewbox=\"0 0 24 24\" xmlns=\"http://www.w3.org/2000/svg\"><path d=\"M12.248 5.75c1.018-.96 2.275-1.671 3.543-1.744L16.003 4C19.887 4 22 6.675 22 10.335c0 2.598-1.35 4.905-3.61 6.942-1.56 1.404-3.466 2.594-5.38 3.5-.64.297-1.38.297-2.03-.005-1.904-.901-3.81-2.09-5.37-3.495C3.35 15.24 2 12.933 2 10.335 2 6.63 4.039 4 8 4c1.425 0 2.85.83 3.956 1.943l.045.048.247-.242ZM20 10.334C20 8.052 18.95 6 16.004 6c-2 0-3.84 2.861-4.004 3.766C11.835 8.864 10.005 6 8 6c-3.05 0-4 2.052-4 4.335 0 2.143 1.327 3.994 2.949 5.456 1.622 1.46 3.558 2.544 4.886 3.173a.393.393 0 0 0 .33 0c1.328-.629 3.264-1.712 4.886-3.173C18.673 14.329 20 12.478 20 10.335Z\" fill=\"currentColor\"></path></svg></span></button></div></div></div></div></div><div class=\"BaseCard_card__tag--top__luwDg BaseCard_card__tag--top-secondary__EvYZs\"><div class=\"l-tag-card l-tag-card--context-neutral tag-highlight\" data-cy=\"rp-cardProperty-tag-txt\"><div class=\"l-tag-card__content\">Super Destaque</div></div></div></div></a></div></div>"
      ]
     },
     "execution_count": 12,
     "metadata": {},
     "output_type": "execute_result"
    }
   ],
   "source": [
    "div"
   ]
  },
  {
   "cell_type": "code",
   "execution_count": 20,
   "id": "be16576c-7f50-42aa-85e2-ef61ff69d87a",
   "metadata": {},
   "outputs": [],
   "source": [
    "def _get_snippet(div):\n",
    "    if subtitle := div.find(\"h2\", attrs={\"data-testid\": \"card-header\"}):\n",
    "        if spans := subtitle.findAll(\"span\"):\n",
    "            texts = [x.text for x in spans]\n",
    "            return texts[0].split(\",\")[0]\n",
    "\n",
    "    if subtitle := div.find(\"h2\"):\n",
    "        return subtitle.text"
   ]
  },
  {
   "cell_type": "code",
   "execution_count": 21,
   "id": "14249584-282a-4824-bea7-4f0563b31e9f",
   "metadata": {},
   "outputs": [
    {
     "data": {
      "text/plain": [
       "<h2 class=\"l-text l-u-color-neutral-28 l-text--variant-heading-small l-text--weight-medium truncate\" data-cy=\"rp-cardProperty-location-txt\" title=\"Jardins de Florença, Poços de Caldas\">Jardins de Florença, Poços de Caldas</h2>"
      ]
     },
     "execution_count": 21,
     "metadata": {},
     "output_type": "execute_result"
    }
   ],
   "source": [
    "div.find(\"h2\")"
   ]
  },
  {
   "cell_type": "code",
   "execution_count": 22,
   "id": "92739b73-87d6-421c-bc11-ec602cb33e11",
   "metadata": {},
   "outputs": [
    {
     "data": {
      "text/plain": [
       "'Jardins de Florença, Poços de Caldas'"
      ]
     },
     "execution_count": 22,
     "metadata": {},
     "output_type": "execute_result"
    }
   ],
   "source": [
    "_get_snippet(div)"
   ]
  },
  {
   "cell_type": "code",
   "execution_count": 15,
   "id": "fbaa94e2-8b5d-4cdf-88cb-95e09c1ff8d5",
   "metadata": {},
   "outputs": [
    {
     "data": {
      "text/plain": [
       "<h2 class=\"l-text l-u-color-neutral-28 l-text--variant-heading-small l-text--weight-medium truncate\" data-cy=\"rp-cardProperty-location-txt\" title=\"Jardins de Florença, Poços de Caldas\">Jardins de Florença, Poços de Caldas</h2>"
      ]
     },
     "execution_count": 15,
     "metadata": {},
     "output_type": "execute_result"
    }
   ],
   "source": [
    "div.find(\"h2\")"
   ]
  },
  {
   "cell_type": "code",
   "execution_count": null,
   "id": "4377d0f0-b20d-4b88-a605-6fccd7959b46",
   "metadata": {},
   "outputs": [],
   "source": []
  },
  {
   "cell_type": "code",
   "execution_count": null,
   "id": "b4710903-ce40-4975-889a-32952b232013",
   "metadata": {},
   "outputs": [],
   "source": []
  },
  {
   "cell_type": "code",
   "execution_count": null,
   "id": "2b90cc43-6dc0-4204-bc92-52c06568d056",
   "metadata": {},
   "outputs": [],
   "source": []
  },
  {
   "cell_type": "code",
   "execution_count": null,
   "id": "45d52d6b-6248-44ef-9ab1-ff10c032b79c",
   "metadata": {},
   "outputs": [],
   "source": []
  }
 ],
 "metadata": {
  "kernelspec": {
   "display_name": "Python 3 (ipykernel)",
   "language": "python",
   "name": "python3"
  },
  "language_info": {
   "codemirror_mode": {
    "name": "ipython",
    "version": 3
   },
   "file_extension": ".py",
   "mimetype": "text/x-python",
   "name": "python",
   "nbconvert_exporter": "python",
   "pygments_lexer": "ipython3",
   "version": "3.11.6"
  }
 },
 "nbformat": 4,
 "nbformat_minor": 5
}
