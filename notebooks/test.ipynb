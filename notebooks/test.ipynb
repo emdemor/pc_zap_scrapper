{
 "cells": [
  {
   "cell_type": "markdown",
   "id": "c3cebcfb",
   "metadata": {},
   "source": [
    "# Data Science Notebook "
   ]
  },
  {
   "cell_type": "code",
   "execution_count": 2,
   "id": "5b650a02",
   "metadata": {},
   "outputs": [],
   "source": [
    "import os, sys\n",
    "import warnings\n",
    "import pandas as pd\n",
    "import numpy as np\n",
    "from IPython.display import display, HTML"
   ]
  },
  {
   "cell_type": "code",
   "execution_count": 3,
   "id": "e8540486",
   "metadata": {},
   "outputs": [
    {
     "data": {
      "text/html": [
       "\n",
       "        <style>\n",
       "        .container { width:100% !important; }\n",
       "        </style>\n",
       "        "
      ],
      "text/plain": [
       "<IPython.core.display.HTML object>"
      ]
     },
     "metadata": {},
     "output_type": "display_data"
    }
   ],
   "source": [
    "# Turn off jedi\n",
    "%config IPCompleter.use_jedi=False\n",
    "\n",
    "workdir = os.path.dirname(os.getcwd())\n",
    "\n",
    "sys.path.append(workdir)\n",
    "\n",
    "pd.options.display.max_columns = None\n",
    "\n",
    "warnings.filterwarnings(\"ignore\")\n",
    "\n",
    "display(\n",
    "    HTML(\n",
    "        \"\"\"\n",
    "        <style>\n",
    "        .container { width:100% !important; }\n",
    "        </style>\n",
    "        \"\"\"\n",
    "    )\n",
    ")"
   ]
  },
  {
   "cell_type": "code",
   "execution_count": null,
   "id": "c2f86764",
   "metadata": {},
   "outputs": [],
   "source": [
    "from pc_zap_scrapper.scrap import search_estates\n",
    "from pc_zap_scrapper import ACTION, LOCALIZATION, TYPE\n",
    "\n",
    "search_estates(ACTION, TYPE, LOCALIZATION)"
   ]
  },
  {
   "cell_type": "code",
   "execution_count": null,
   "id": "65f6a2f9",
   "metadata": {},
   "outputs": [],
   "source": []
  }
 ],
 "metadata": {
  "kernelspec": {
   "display_name": "pc_zap_scrapper",
   "language": "python",
   "name": "python3"
  },
  "language_info": {
   "codemirror_mode": {
    "name": "ipython",
    "version": 3
   },
   "file_extension": ".py",
   "mimetype": "text/x-python",
   "name": "python",
   "nbconvert_exporter": "python",
   "pygments_lexer": "ipython3",
   "version": "3.10.8 | packaged by conda-forge | (main, Nov 22 2022, 08:26:04) [GCC 10.4.0]"
  },
  "vscode": {
   "interpreter": {
    "hash": "ab730470b6dd87a1cfba72ca47b45cb1c2c60e3e92c4ec767c3665e8f932e2a4"
   }
  }
 },
 "nbformat": 4,
 "nbformat_minor": 5
}
