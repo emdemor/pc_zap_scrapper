{
 "cells": [
  {
   "cell_type": "code",
   "execution_count": 1,
   "id": "f895e092-4e6a-4606-8edd-aeb3d408a3e0",
   "metadata": {},
   "outputs": [],
   "source": [
    "import os\n",
    "from dataclasses import dataclass\n",
    "from urllib.parse import quote_plus\n",
    "import nest_asyncio\n",
    "\n",
    "import pandas as pd\n",
    "import numpy as np\n",
    "\n",
    "import sklearn\n",
    "from sklearn.model_selection import GroupShuffleSplit, GroupKFold\n",
    "from sklearn.base import BaseEstimator, TransformerMixin\n",
    "from sklearn.preprocessing import KBinsDiscretizer\n",
    "from sklearn.pipeline import Pipeline\n",
    "from sklearn.preprocessing import StandardScaler\n",
    "from sklearn.ensemble import RandomForestRegressor\n",
    "from sklearn.compose import ColumnTransformer\n",
    "from category_encoders import CatBoostEncoder, TargetEncoder, SumEncoder, QuantileEncoder\n",
    "from sklearn.impute import SimpleImputer\n",
    "from sklearn.preprocessing import StandardScaler, MinMaxScaler, RobustScaler\n",
    "from sklearn.metrics import mean_absolute_error, r2_score\n",
    "from sklearn.experimental import enable_iterative_imputer\n",
    "from sklearn.impute import IterativeImputer\n",
    "from sklearn.impute import KNNImputer\n",
    "\n",
    "from forestci import random_forest_error\n",
    "\n",
    "from pc_zap_scrapper.v2.database import DatabaseHandler, TableRealEstateInfo"
   ]
  },
  {
   "cell_type": "code",
   "execution_count": 2,
   "id": "a548874e-eecf-461d-9a34-19377316390b",
   "metadata": {},
   "outputs": [],
   "source": [
    "from dataclasses import dataclass\n",
    "\n",
    "import sklearn\n",
    "import pandas as pd\n",
    "import numpy as np\n",
    "\n",
    "from sklearn.model_selection import GroupShuffleSplit, GroupKFold\n",
    "\n",
    "from sklearn.base import BaseEstimator, TransformerMixin\n",
    "\n",
    "from sklearn.preprocessing import KBinsDiscretizer\n",
    "\n",
    "\n",
    "sklearn.set_config(transform_output=\"pandas\")\n",
    "\n",
    "pd.options.display.max_columns = None"
   ]
  },
  {
   "cell_type": "code",
   "execution_count": null,
   "id": "cad63c5e-77b9-42b1-8647-18b517958105",
   "metadata": {},
   "outputs": [],
   "source": []
  },
  {
   "cell_type": "markdown",
   "id": "c7489d2a-2f6f-4f80-b7ef-f45b323c5a48",
   "metadata": {},
   "source": [
    "# Functions"
   ]
  },
  {
   "cell_type": "code",
   "execution_count": 3,
   "id": "4ad9fded-35f8-45ec-b30c-6b26925e99a8",
   "metadata": {},
   "outputs": [],
   "source": [
    "def predict_interval(X, pipeline, quantile = [0.25, 0.5, 0.75]):\n",
    "    all_tree_predictions = pd.DataFrame([tree.predict(X.values) for tree in pipeline.named_steps['regressor'].estimators_])\n",
    "    response = all_tree_predictions.quantile(quantile).T\n",
    "    response.columns = [\"lower\", \"median\", \"upper\"]\n",
    "    return response\n"
   ]
  },
  {
   "cell_type": "code",
   "execution_count": 52,
   "id": "0ce0f1dc-1b32-4e35-af18-6153ac1e101d",
   "metadata": {},
   "outputs": [],
   "source": [
    "import numpy as np\n",
    "import pandas as pd\n",
    "import ast\n",
    "\n",
    "\n",
    "class ColumnSelector(BaseEstimator, TransformerMixin):\n",
    "    def __init__(self, columns):\n",
    "        self.columns = columns\n",
    "\n",
    "    def fit(self, X, y=None):\n",
    "        return self\n",
    "\n",
    "    def transform(self, X):\n",
    "        missing_cols = [col for col in self.columns if col not in X.columns]\n",
    "        if missing_cols:\n",
    "            raise ValueError(f\"As seguintes colunas estão faltando no DataFrame: {missing_cols}\")\n",
    "        return X[self.columns].copy()\n",
    "\n",
    "\n",
    "class DateFeatureExtractor(BaseEstimator, TransformerMixin):\n",
    "    def __init__(self, date_column):\n",
    "        self.date_column = date_column\n",
    "\n",
    "    def fit(self, X, y=None):\n",
    "        return self\n",
    "\n",
    "    def transform(self, X):\n",
    "        X = X.copy()\n",
    "        if not np.issubdtype(X[self.date_column].dtype, np.datetime64):\n",
    "            X[self.date_column] = pd.to_datetime(X[self.date_column], errors='coerce')\n",
    "        if X[self.date_column].isnull().any():\n",
    "            raise ValueError(\"Há valores nulos ou formatos inválidos na coluna de data após a conversão.\")\n",
    "        X['year'] = X[self.date_column].dt.year\n",
    "        X['month'] = X[self.date_column].dt.month\n",
    "        X['day'] = X[self.date_column].dt.day\n",
    "        X['week_number'] = X[self.date_column].dt.isocalendar().week\n",
    "\n",
    "        X = X.drop(columns=[self.date_column])\n",
    "\n",
    "        return X\n",
    "\n",
    "class AmenitiesEncoder(BaseEstimator, TransformerMixin):\n",
    "    def __init__(self, amenities_column='amenities_list', relevant_amenities=None):\n",
    "        self.amenities_column = amenities_column\n",
    "        self.relevant_amenities = relevant_amenities\n",
    "\n",
    "    def fit(self, X, y=None):\n",
    "        return self\n",
    "\n",
    "    def transform(self, X):\n",
    "\n",
    "        X = X.copy()\n",
    "        relevant_amenities = np.array(self.relevant_amenities)\n",
    "\n",
    "        def crate_amenities_encoding(x):\n",
    "            if not x:\n",
    "                return np.zeros(len(relevant_amenities), dtype=int)\n",
    "            try:\n",
    "                estate_amenities = ast.literal_eval(x)\n",
    "                return np.isin(relevant_amenities, estate_amenities).astype(int)\n",
    "            except (ValueError, SyntaxError):\n",
    "                return np.zeros(len(relevant_amenities), dtype=int)\n",
    "\n",
    "        amenities_encoded_list = X[self.amenities_column].apply(crate_amenities_encoding).tolist()\n",
    "        amenities_encoded = pd.DataFrame(amenities_encoded_list, columns=relevant_amenities)\n",
    "\n",
    "        # Concatenar as novas colunas ao DataFrame original\n",
    "        X.reset_index(drop=True, inplace=True)\n",
    "        amenities_encoded.reset_index(drop=True, inplace=True)\n",
    "        X = pd.concat([X, amenities_encoded], axis=1)\n",
    "\n",
    "        # Remover a coluna original de amenidades, se desejar\n",
    "        X.drop(columns=[self.amenities_column], inplace=True)\n",
    "\n",
    "        return X\n",
    "\n",
    "\n",
    "\n",
    "class Discretizer(BaseEstimator, TransformerMixin):\n",
    "    def __init__(self, columns, n_bins=5, encode='ordinal', strategy='quantile'):\n",
    "        self.columns = columns\n",
    "        self.n_bins = n_bins\n",
    "        self.encode = encode\n",
    "        self.strategy = strategy\n",
    "        self.discretizer_ = None\n",
    "\n",
    "    def fit(self, X, y=None):\n",
    "        # Verificar se todas as colunas existem no DataFrame\n",
    "        missing_cols = [col for col in self.columns if col not in X.columns]\n",
    "        if missing_cols:\n",
    "            raise ValueError(f\"As seguintes colunas estão faltando no DataFrame: {missing_cols}\")\n",
    "\n",
    "        # Ajustar o discretizador apenas com as colunas selecionadas\n",
    "        self.discretizer_ = KBinsDiscretizer(n_bins=self.n_bins, encode=self.encode, strategy=self.strategy)\n",
    "        self.discretizer_.fit(X[self.columns])\n",
    "\n",
    "        return self\n",
    "\n",
    "    def transform(self, X):\n",
    "        X = X.copy()\n",
    "        # Verificar novamente se todas as colunas estão presentes\n",
    "        missing_cols = [col for col in self.columns if col not in X.columns]\n",
    "        if missing_cols:\n",
    "            raise ValueError(f\"As seguintes colunas estão faltando no DataFrame: {missing_cols}\")\n",
    "\n",
    "        # Aplicar o discretizador às colunas\n",
    "        transformed_values = self.discretizer_.transform(X[self.columns])\n",
    "        \n",
    "        # Se o encode for 'ordinal', a saída é um array 2D com os buckets, substituímos diretamente\n",
    "        # Se for 'onehot' ou 'onehot-dense', teremos mais colunas do que inicialmente\n",
    "        # Nesse caso, é necessário criar novas colunas. Aqui vamos lidar apenas com 'ordinal' para simplificar.\n",
    "        if self.encode == 'ordinal':\n",
    "            X[self.columns] = transformed_values\n",
    "        else:\n",
    "            # Caso onehot, criamos um DataFrame separado e concatenamos\n",
    "            # Os nomes das colunas podem ser gerados a partir das colunas originais + índices dos bins\n",
    "            bin_column_names = []\n",
    "            for col_idx, col_name in enumerate(self.columns):\n",
    "                for bin_idx in range(self.n_bins):\n",
    "                    bin_column_names.append(f\"{col_name}_bin_{bin_idx}\")\n",
    "            \n",
    "            onehot_df = pd.DataFrame(transformed_values, columns=bin_column_names, index=X.index)\n",
    "            # Remover as colunas originais e concatenar as novas\n",
    "            X.drop(columns=self.columns, inplace=True)\n",
    "            X = pd.concat([X, onehot_df], axis=1)\n",
    "\n",
    "        return X\n"
   ]
  },
  {
   "cell_type": "code",
   "execution_count": 53,
   "id": "81e25e20-51cc-4863-b824-91446a78d889",
   "metadata": {},
   "outputs": [],
   "source": [
    "def grouped_train_test_split(df: pd.DataFrame, groups: pd.Series, test_size: float, random_state: float | None = None):\n",
    "    gss = GroupShuffleSplit(n_splits=1, test_size=test_size, random_state=random_state)    \n",
    "    train_idx, test_idx = next(gss.split(df, groups=groups))\n",
    "    df_train = df.iloc[train_idx].reset_index(drop=True)\n",
    "    df_test = df.iloc[test_idx].reset_index(drop=True)\n",
    "    return df_train, df_test\n",
    "\n",
    "\n",
    "def set_k_train_folds(df_train, index_column, target_column, n_folds):\n",
    "    folds = [Fold(df_train, train_index, val_index) for train_index, val_index in GroupKFold(n_splits=n_folds).split(df_train, groups=df_train[index_column])]\n",
    "    return folds\n",
    "\n",
    "\n",
    "@dataclass\n",
    "class Fold:\n",
    "    data_train: pd.DataFrame\n",
    "    data_val: pd.DataFrame\n",
    "\n",
    "    def __init__(self, df, train_index, val_index):\n",
    "        self.data_train = df.iloc[train_index]\n",
    "        self.data_val = df.iloc[val_index]\n"
   ]
  },
  {
   "cell_type": "markdown",
   "id": "f11cf984-ee3b-47bc-aa2b-d8bfdc2ca91a",
   "metadata": {},
   "source": [
    "# Dados"
   ]
  },
  {
   "cell_type": "code",
   "execution_count": 6,
   "id": "57991cdb-b66f-49cf-9ecc-c37c5dab5929",
   "metadata": {},
   "outputs": [],
   "source": [
    "\n",
    "db_params = dict(\n",
    "    user=os.getenv(\"PSQL_USERNAME\"),\n",
    "    password=quote_plus(os.getenv(\"PSQL_PASSWORD\")),\n",
    "    host=os.getenv(\"PSQL_HOST\"),\n",
    "    port=os.getenv(\"PSQL_PORT\"),\n",
    "    dbname=os.getenv(\"PSQL_NAME\"),\n",
    ")\n",
    "\n",
    "db_handler = DatabaseHandler(db_params, table=TableRealEstateInfo, echo=False)\n",
    "\n",
    "sql_query = \"\"\"\n",
    "SELECT * FROM real_estate_info\n",
    "\"\"\"\n",
    "\n",
    "data_raw = await db_handler.query(sql_query)\n",
    "\n",
    "await db_handler.close()\n"
   ]
  },
  {
   "cell_type": "code",
   "execution_count": 7,
   "id": "5c1031b3-b429-4edc-befb-1732ea48f732",
   "metadata": {},
   "outputs": [
    {
     "data": {
      "text/plain": [
       "1"
      ]
     },
     "execution_count": 7,
     "metadata": {},
     "output_type": "execute_result"
    }
   ],
   "source": [
    "1"
   ]
  },
  {
   "cell_type": "markdown",
   "id": "7b31b372-6cba-4f1c-a6fe-30a6e2e1cc40",
   "metadata": {},
   "source": [
    "# Data Cleaning"
   ]
  },
  {
   "cell_type": "code",
   "execution_count": 8,
   "id": "1f9ef7e7-050b-40e1-8a82-19826ca5d5e7",
   "metadata": {},
   "outputs": [],
   "source": [
    "N_FOLDS = 5\n",
    "\n",
    "# Não podemos usar o index do dataframe. Esse é o index no imóvel,\n",
    "# que pode aparecer mais de uma vez no dataframe\n",
    "INDEX_COLUMN = 'estate_id'\n",
    "\n",
    "TARGET_COLUMN = 'price'"
   ]
  },
  {
   "cell_type": "code",
   "execution_count": 9,
   "id": "a175e733-c783-42c1-98cc-6e44dcd064be",
   "metadata": {},
   "outputs": [],
   "source": [
    "data = data_raw.copy()\n",
    "data = data.loc[~data[TARGET_COLUMN].isna()]\n",
    "data = data.loc[data[TARGET_COLUMN] > 0]\n",
    "data[TARGET_COLUMN] = data[TARGET_COLUMN].astype(float)\n",
    "\n",
    "data = data[data[\"price\"] < 10_000_000]\n",
    "\n",
    "data[\"link\"] = data[\"link\"].where(data[\"link\"].str[:29]==\"https://www.zapimoveis.com.br\", \"https://www.zapimoveis.com.br\" +  data[\"link\"])\n",
    "\n",
    "INFERED_TYPES = [\n",
    "    'apartamento', 'casa', 'terreno', 'fazenda', 'loja', 'sobrados',\n",
    "    'galpao', 'conjunto', 'cobertura', 'studio', 'flat', 'quitinete',\n",
    "    'chacara',\n",
    "]\n",
    "\n",
    "data[\"infered_type\"] = data[\"link\"]\n",
    "data[\"infered_type\"] = np.where(data[\"infered_type\"].str[:30]==\"https://www.zapimoveis.com.br/\", data[\"infered_type\"].str.replace(\"https://www.zapimoveis.com.br\", \"\"), data[\"infered_type\"])\n",
    "data[\"infered_type\"] = np.where(data[\"infered_type\"].str[:11] == \"/lancamento\", data[\"infered_type\"].str.replace(\"/lancamento\", \"\"), data[\"infered_type\"])\n",
    "data[\"infered_type\"] = data[\"infered_type\"].str.replace(\"/imovel\", \"\")\n",
    "data[\"infered_type\"] = data[\"infered_type\"].str.replace(\"/venda\", \"\")\n",
    "data[\"infered_type\"] = np.where(data[\"infered_type\"].str[:1] == \"-\", data[\"infered_type\"].str[1:], data[\"infered_type\"])\n",
    "data[\"infered_type\"] = data[\"infered_type\"].str.split(\"-\").str[0]\n",
    "data[\"infered_type\"] = data[\"infered_type\"].where(data[\"infered_type\"].isin(INFERED_TYPES), \"outro\")\n",
    "\n",
    "data = data.loc[data[\"infered_type\"].isin([\"casa\", \"apartamento\", \"terreno\"])]\n",
    "\n",
    "\n",
    "data[\"floor_size\"] = data[\"floor_size\"].where((data[\"floor_size\"] >= 30) & (data[\"floor_size\"] <= 5400), None)\n",
    "\n",
    "# casas.loc[casas[\"floor_size\"] > 10000, \"floor_size\"] = np.nan\n",
    "# casas = casas.loc[casas[\"floor_size\"] < 1100]\n",
    "\n",
    "data[\"number_of_rooms\"] = data[\"number_of_rooms\"].clip(1,10)\n",
    "data[\"number_of_bathrooms\"] = data[\"number_of_bathrooms\"].clip(1,6)\n",
    "data[\"number_of_parking_spaces\"] = data[\"number_of_parking_spaces\"].clip(0,6)\n",
    "\n",
    "# teste\n",
    "# casas = casas.loc[casas[\"price\"] <= 2_500_000]"
   ]
  },
  {
   "cell_type": "code",
   "execution_count": null,
   "id": "603b73d0-e160-43d7-a885-bc2062cb0fc9",
   "metadata": {},
   "outputs": [],
   "source": []
  },
  {
   "cell_type": "code",
   "execution_count": 10,
   "id": "e88d6272-eb43-432e-8061-3aedf0254a2c",
   "metadata": {},
   "outputs": [],
   "source": [
    "# Não podemos usar o index do dataframe. Esse é o index no imóvel,\n",
    "# que pode aparecer mais de uma vez no dataframe\n",
    "INDEX_COLUMN = 'estate_id'\n",
    "N_FOLDS = 5\n",
    "TEST_SIZE = 0.2\n",
    "\n",
    "data_train_full, data_test = grouped_train_test_split(data, groups=data[INDEX_COLUMN], test_size=TEST_SIZE, random_state=42)\n",
    "\n",
    "\n",
    "data_train, data_cal = grouped_train_test_split(data_train_full, groups=data_train_full[INDEX_COLUMN], test_size=TEST_SIZE, random_state=42)\n",
    "\n",
    "\n",
    "train_folds = set_k_train_folds(data_train, index_column=INDEX_COLUMN, target_column=TARGET_COLUMN, n_folds=N_FOLDS)"
   ]
  },
  {
   "cell_type": "code",
   "execution_count": 11,
   "id": "be6db48d-e354-44a1-bc62-ec4d2383bee0",
   "metadata": {},
   "outputs": [
    {
     "name": "stderr",
     "output_type": "stream",
     "text": [
      "mkdir -p failed for path /home/jovyan/.cache/matplotlib: [Errno 13] Permission denied: '/home/jovyan/.cache/matplotlib'\n",
      "Matplotlib created a temporary cache directory at /tmp/matplotlib-974wds_b because there was an issue with the default path (/home/jovyan/.cache/matplotlib); it is highly recommended to set the MPLCONFIGDIR environment variable to a writable directory, in particular to speed up the import of Matplotlib and to better support multiprocessing.\n"
     ]
    }
   ],
   "source": [
    "import seaborn as sns\n",
    "\n",
    "regplot_opts = dict(\n",
    "    line_kws={\"color\": \"red\", \"linewidth\": 2},\n",
    "    scatter_kws={\"alpha\": 0.01, \"edgecolor\": \"none\", \"s\":5},\n",
    ")\n"
   ]
  },
  {
   "cell_type": "code",
   "execution_count": 12,
   "id": "34540dfe-9fa0-491d-ae57-ca6a98bb64af",
   "metadata": {},
   "outputs": [
    {
     "data": {
      "text/plain": [
       "<Axes: xlabel='floor_size', ylabel='price'>"
      ]
     },
     "execution_count": 12,
     "metadata": {},
     "output_type": "execute_result"
    },
    {
     "data": {
      "image/png": "[encoded data removed]",
      "text/plain": [
       "<Figure size 640x480 with 1 Axes>"
      ]
     },
     "metadata": {},
     "output_type": "display_data"
    }
   ],
   "source": [
    "\n",
    "sns.regplot(data=data, x=\"floor_size\", y=\"price\", **regplot_opts)"
   ]
  },
  {
   "cell_type": "code",
   "execution_count": 13,
   "id": "46fef9b4-f49a-412c-a2a6-3edacee0cedf",
   "metadata": {},
   "outputs": [
    {
     "data": {
      "text/plain": [
       "<Axes: xlabel='number_of_rooms', ylabel='price'>"
      ]
     },
     "execution_count": 13,
     "metadata": {},
     "output_type": "execute_result"
    },
    {
     "data": {
      "image/png": "[encoded data removed]",
      "text/plain": [
       "<Figure size 640x480 with 1 Axes>"
      ]
     },
     "metadata": {},
     "output_type": "display_data"
    }
   ],
   "source": [
    "sns.regplot(data=data, x=\"number_of_rooms\", y=\"price\", **regplot_opts)"
   ]
  },
  {
   "cell_type": "markdown",
   "id": "75177a01-682f-4b50-b84c-2ea3f03215b5",
   "metadata": {},
   "source": [
    "# Modelling"
   ]
  },
  {
   "cell_type": "markdown",
   "id": "562907c2-c038-415b-acc5-083bf3a1bedc",
   "metadata": {},
   "source": [
    "# Visão Geral"
   ]
  },
  {
   "cell_type": "code",
   "execution_count": 54,
   "id": "97754f8b-63d2-45e0-b8ab-1db9d4acc71b",
   "metadata": {},
   "outputs": [],
   "source": [
    "from sklearn.pipeline import Pipeline\n",
    "from sklearn.preprocessing import StandardScaler\n",
    "from sklearn.ensemble import RandomForestRegressor\n",
    "from sklearn.compose import ColumnTransformer\n",
    "from category_encoders.cat_boost import CatBoostEncoder\n",
    "from sklearn.impute import SimpleImputer\n",
    "from sklearn.preprocessing import StandardScaler, MinMaxScaler, RobustScaler\n",
    "\n",
    "\n",
    "selected_columns = [\n",
    "    'search_date',\n",
    "    'type',\n",
    "    'neighbor',\n",
    "    'latitude',\n",
    "    'longitude',\n",
    "    'floor_size',\n",
    "    'number_of_rooms',\n",
    "    'number_of_bathrooms',\n",
    "    'number_of_parking_spaces',\n",
    "    'amenities_list',\n",
    "    'condominium',\n",
    "    'iptu',\n",
    "]\n",
    "\n",
    "\n",
    "categorical_columns = [\n",
    "    \"type\",\n",
    "    \"neighbor\",\n",
    "    \"number_of_rooms\",\n",
    "    \"number_of_bathrooms\",\n",
    "    \"number_of_parking_spaces\",\n",
    "]\n",
    "\n",
    "relevant_amenities = [\n",
    "    'FIREPLACE',\n",
    "    'POOL',\n",
    "    'DINNER_ROOM',\n",
    "    'HOME_OFFICE',\n",
    "    'BACKYARD',\n",
    "    'INTERCOM',\n",
    "    'ELEVATOR',\n",
    "    'LAUNDRY',\n",
    "    'CLOSET',\n",
    "    'GATED_COMMUNITY',\n",
    "    'KITCHEN',\n",
    "    'GOURMET_BALCONY',\n",
    "    'SERVICE_AREA',\n",
    "    'BARBECUE_GRILL',\n",
    "    'BALCONY',\n",
    "    'ALARM_SYSTEM',\n",
    "    'SPORTS_COURT',\n",
    "    'DEPOSIT',\n",
    "    'NUMBER_OF_FLOORS',\n",
    "    'GARDEN',\n",
    "    'HEATING',\n",
    "    'SAUNA',\n",
    "    'Condomínio fechado',\n",
    "    'PARTY_HALL',\n",
    "    'GOURMET_SPACE',\n",
    "    'CABLE_TV',\n",
    "    'COPA',\n",
    "    'FURNISHED',\n",
    "    'MOUNTAIN_VIEW',\n",
    "    'BUILTIN_WARDROBE',\n",
    "]\n",
    "\n",
    "\n",
    "\n",
    "pipeline = Pipeline([\n",
    "    ('filter_columns', ColumnSelector(columns=selected_columns)),\n",
    "    ('extrai_atributos_data', DateFeatureExtractor(date_column='search_date')),\n",
    "    ('category_encoders', CatBoostEncoder(cols=categorical_columns)),\n",
    "    ('amenities_encoder', AmenitiesEncoder(\n",
    "        amenities_column='amenities_list',\n",
    "        relevant_amenities=relevant_amenities\n",
    "    )),\n",
    "    ('imputation', SimpleImputer(missing_values=np.nan, strategy='median')),\n",
    "    ('scaler', MinMaxScaler()),\n",
    "])\n"
   ]
  },
  {
   "cell_type": "code",
   "execution_count": 56,
   "id": "a328d839-13a2-4149-a75d-03a086b40749",
   "metadata": {},
   "outputs": [
    {
     "name": "stderr",
     "output_type": "stream",
     "text": [
      "Model:   0%|          | 0/9 [00:00<?, ?it/s]\n",
      "Fold:   0%|          | 0/5 [00:00<?, ?it/s]\u001b[A\n",
      "Fold:  20%|██        | 1/5 [00:08<00:33,  8.48s/it]\u001b[A\n",
      "Fold:  40%|████      | 2/5 [00:19<00:30, 10.02s/it]\u001b[A\n",
      "Fold:  60%|██████    | 3/5 [00:32<00:22, 11.36s/it]\u001b[A\n",
      "Fold:  80%|████████  | 4/5 [00:42<00:10, 10.85s/it]\u001b[A\n",
      "Fold: 100%|██████████| 5/5 [00:52<00:00, 10.54s/it]\u001b[A\n",
      "Model:  11%|█         | 1/9 [00:52<07:00, 52.59s/it][A"
     ]
    },
    {
     "name": "stdout",
     "output_type": "stream",
     "text": [
      "{'mae_train': 69156.07937565896, 'mae_val': 119772.64746426197, 'r2_train': 0.9447606926563343, 'r2_val': 0.7189596865036343, 'label': 'catboost'}\n"
     ]
    },
    {
     "name": "stderr",
     "output_type": "stream",
     "text": [
      "\n",
      "Fold:   0%|          | 0/5 [00:00<?, ?it/s]\u001b[A\n",
      "Fold:  20%|██        | 1/5 [00:25<01:43, 25.97s/it]\u001b[A\n",
      "Fold:  40%|████      | 2/5 [00:50<01:15, 25.22s/it]\u001b[A\n",
      "Fold:  60%|██████    | 3/5 [01:09<00:44, 22.44s/it]\u001b[A\n",
      "Fold:  80%|████████  | 4/5 [01:28<00:21, 21.15s/it]\u001b[A\n",
      "Fold: 100%|██████████| 5/5 [01:48<00:00, 20.52s/it]\u001b[A\n",
      "Model:  22%|██▏       | 2/9 [02:40<09:57, 85.41s/it][A"
     ]
    },
    {
     "name": "stdout",
     "output_type": "stream",
     "text": [
      "{'mae_train': 9018.35803306277, 'mae_val': 106464.24840700459, 'r2_train': 0.9931991433231655, 'r2_val': 0.7159326137129657, 'label': 'random_forest'}\n"
     ]
    },
    {
     "name": "stderr",
     "output_type": "stream",
     "text": [
      "\n",
      "Fold:   0%|          | 0/5 [00:00<?, ?it/s]\u001b[A\n",
      "Fold:  20%|██        | 1/5 [00:04<00:18,  4.53s/it]\u001b[A\n",
      "Fold:  40%|████      | 2/5 [00:09<00:13,  4.54s/it]\u001b[A\n",
      "Fold:  60%|██████    | 3/5 [00:13<00:09,  4.59s/it]\u001b[A\n",
      "Fold:  80%|████████  | 4/5 [00:18<00:04,  4.58s/it]\u001b[A\n",
      "Fold: 100%|██████████| 5/5 [00:22<00:00,  4.58s/it]\u001b[A\n",
      "Model:  33%|███▎      | 3/9 [03:03<05:41, 56.86s/it][A"
     ]
    },
    {
     "name": "stdout",
     "output_type": "stream",
     "text": [
      "{'mae_train': 176568.9654671134, 'mae_val': 186137.94941095888, 'r2_train': 0.6006191855522799, 'r2_val': -1.8025126818491262, 'label': 'linear_regression'}\n"
     ]
    },
    {
     "name": "stderr",
     "output_type": "stream",
     "text": [
      "\n",
      "Fold:   0%|          | 0/5 [00:00<?, ?it/s]\u001b[A\n",
      "Fold:  20%|██        | 1/5 [00:04<00:19,  4.85s/it]\u001b[A\n",
      "Fold:  40%|████      | 2/5 [00:09<00:14,  4.86s/it]\u001b[A\n",
      "Fold:  60%|██████    | 3/5 [00:14<00:09,  4.88s/it]\u001b[A\n",
      "Fold:  80%|████████  | 4/5 [00:19<00:04,  4.82s/it]\u001b[A\n",
      "Fold: 100%|██████████| 5/5 [00:24<00:00,  4.77s/it]\u001b[A\n",
      "Model:  44%|████▍     | 4/9 [03:27<03:39, 43.91s/it][A"
     ]
    },
    {
     "name": "stdout",
     "output_type": "stream",
     "text": [
      "{'mae_train': 2239.3862702496617, 'mae_val': 133414.3437531888, 'r2_train': 0.9980144193462912, 'r2_val': 0.4636404093561568, 'label': 'decision_tree'}\n"
     ]
    },
    {
     "name": "stderr",
     "output_type": "stream",
     "text": [
      "\n",
      "Fold:   0%|          | 0/5 [00:00<?, ?it/s]\u001b[A\n",
      "Fold:  20%|██        | 1/5 [00:05<00:23,  5.80s/it]\u001b[A\n",
      "Fold:  40%|████      | 2/5 [00:11<00:16,  5.58s/it]\u001b[A\n",
      "Fold:  60%|██████    | 3/5 [00:16<00:10,  5.47s/it]\u001b[A\n",
      "Fold:  80%|████████  | 4/5 [00:22<00:05,  5.56s/it]\u001b[A\n",
      "Fold: 100%|██████████| 5/5 [00:27<00:00,  5.62s/it]\u001b[A\n",
      "Model:  56%|█████▌    | 5/9 [03:55<02:32, 38.17s/it][A"
     ]
    },
    {
     "name": "stdout",
     "output_type": "stream",
     "text": [
      "{'mae_train': 88310.22933062266, 'mae_val': 125626.0448068548, 'r2_train': 0.8957850102015726, 'r2_val': 0.7279052098077228, 'label': 'hist_gradient_boosting'}\n"
     ]
    },
    {
     "name": "stderr",
     "output_type": "stream",
     "text": [
      "\n",
      "Fold:   0%|          | 0/5 [00:00<?, ?it/s]\u001b[A\n",
      "Fold:  20%|██        | 1/5 [00:05<00:23,  5.79s/it]\u001b[A\n",
      "Fold:  40%|████      | 2/5 [00:10<00:15,  5.13s/it]\u001b[A\n",
      "Fold:  60%|██████    | 3/5 [00:16<00:10,  5.34s/it]\u001b[A\n",
      "Fold:  80%|████████  | 4/5 [00:21<00:05,  5.21s/it]\u001b[A\n",
      "Fold: 100%|██████████| 5/5 [00:25<00:00,  5.02s/it]\u001b[A\n",
      "Model:  67%|██████▋   | 6/9 [04:21<01:41, 33.94s/it][A"
     ]
    },
    {
     "name": "stdout",
     "output_type": "stream",
     "text": [
      "{'mae_train': 57585.127265926465, 'mae_val': 118506.5362331098, 'r2_train': 0.9575671578487011, 'r2_val': 0.7142722508511729, 'label': 'xgboost'}\n"
     ]
    },
    {
     "name": "stderr",
     "output_type": "stream",
     "text": [
      "\n",
      "Fold:   0%|          | 0/5 [00:00<?, ?it/s]\u001b[A"
     ]
    },
    {
     "name": "stdout",
     "output_type": "stream",
     "text": [
      "[LightGBM] [Warning] Found whitespace in feature_names, replace with underlines\n",
      "[LightGBM] [Info] Auto-choosing row-wise multi-threading, the overhead of testing was 0.003282 seconds.\n",
      "You can set `force_row_wise=true` to remove the overhead.\n",
      "And if memory is not enough, you can set `force_col_wise=true`.\n",
      "[LightGBM] [Info] Total Bins 1428\n",
      "[LightGBM] [Info] Number of data points in the train set: 49960, number of used features: 14\n",
      "[LightGBM] [Info] Start training from score 562561.923239\n"
     ]
    },
    {
     "name": "stderr",
     "output_type": "stream",
     "text": [
      "\n",
      "Fold:  20%|██        | 1/5 [00:04<00:19,  4.77s/it]\u001b[A"
     ]
    },
    {
     "name": "stdout",
     "output_type": "stream",
     "text": [
      "[LightGBM] [Warning] Found whitespace in feature_names, replace with underlines\n",
      "[LightGBM] [Info] Auto-choosing row-wise multi-threading, the overhead of testing was 0.002575 seconds.\n",
      "You can set `force_row_wise=true` to remove the overhead.\n",
      "And if memory is not enough, you can set `force_col_wise=true`.\n",
      "[LightGBM] [Info] Total Bins 1440\n",
      "[LightGBM] [Info] Number of data points in the train set: 49961, number of used features: 14\n",
      "[LightGBM] [Info] Start training from score 554651.664879\n"
     ]
    },
    {
     "name": "stderr",
     "output_type": "stream",
     "text": [
      "\n",
      "Fold:  40%|████      | 2/5 [00:09<00:14,  4.79s/it]\u001b[A"
     ]
    },
    {
     "name": "stdout",
     "output_type": "stream",
     "text": [
      "[LightGBM] [Warning] Found whitespace in feature_names, replace with underlines\n",
      "[LightGBM] [Info] Auto-choosing row-wise multi-threading, the overhead of testing was 0.002441 seconds.\n",
      "You can set `force_row_wise=true` to remove the overhead.\n",
      "And if memory is not enough, you can set `force_col_wise=true`.\n",
      "[LightGBM] [Info] Total Bins 1432\n",
      "[LightGBM] [Info] Number of data points in the train set: 49961, number of used features: 14\n",
      "[LightGBM] [Info] Start training from score 556514.919837\n"
     ]
    },
    {
     "name": "stderr",
     "output_type": "stream",
     "text": [
      "\n",
      "Fold:  60%|██████    | 3/5 [00:14<00:09,  4.78s/it]\u001b[A"
     ]
    },
    {
     "name": "stdout",
     "output_type": "stream",
     "text": [
      "[LightGBM] [Warning] Found whitespace in feature_names, replace with underlines\n",
      "[LightGBM] [Info] Auto-choosing row-wise multi-threading, the overhead of testing was 0.002549 seconds.\n",
      "You can set `force_row_wise=true` to remove the overhead.\n",
      "And if memory is not enough, you can set `force_col_wise=true`.\n",
      "[LightGBM] [Info] Total Bins 1428\n",
      "[LightGBM] [Info] Number of data points in the train set: 49961, number of used features: 14\n",
      "[LightGBM] [Info] Start training from score 559980.224475\n"
     ]
    },
    {
     "name": "stderr",
     "output_type": "stream",
     "text": [
      "\n",
      "Fold:  80%|████████  | 4/5 [00:19<00:04,  4.77s/it]\u001b[A"
     ]
    },
    {
     "name": "stdout",
     "output_type": "stream",
     "text": [
      "[LightGBM] [Warning] Found whitespace in feature_names, replace with underlines\n",
      "[LightGBM] [Info] Auto-choosing row-wise multi-threading, the overhead of testing was 0.002602 seconds.\n",
      "You can set `force_row_wise=true` to remove the overhead.\n",
      "And if memory is not enough, you can set `force_col_wise=true`.\n",
      "[LightGBM] [Info] Total Bins 1433\n",
      "[LightGBM] [Info] Number of data points in the train set: 49961, number of used features: 14\n",
      "[LightGBM] [Info] Start training from score 556373.558676\n"
     ]
    },
    {
     "name": "stderr",
     "output_type": "stream",
     "text": [
      "\n",
      "Fold: 100%|██████████| 5/5 [00:23<00:00,  4.78s/it]\u001b[A\n",
      "Model:  78%|███████▊  | 7/9 [04:45<01:01, 30.66s/it][A"
     ]
    },
    {
     "name": "stdout",
     "output_type": "stream",
     "text": [
      "{'mae_train': 86784.7614585055, 'mae_val': 124446.08583649181, 'r2_train': 0.9059009715713117, 'r2_val': 0.7338743142345695, 'label': 'lightgbm'}\n"
     ]
    },
    {
     "name": "stderr",
     "output_type": "stream",
     "text": [
      "\n",
      "Fold:   0%|          | 0/5 [00:00<?, ?it/s]\u001b[A\n",
      "Fold:  20%|██        | 1/5 [00:06<00:24,  6.18s/it]\u001b[A\n",
      "Fold:  40%|████      | 2/5 [00:12<00:18,  6.14s/it]\u001b[A\n",
      "Fold:  60%|██████    | 3/5 [00:18<00:12,  6.27s/it]\u001b[A\n",
      "Fold:  80%|████████  | 4/5 [00:24<00:06,  6.02s/it]\u001b[A\n",
      "Fold: 100%|██████████| 5/5 [00:29<00:00,  5.76s/it]\u001b[A\n",
      "Model:  89%|████████▉ | 8/9 [05:15<00:30, 30.34s/it][A"
     ]
    },
    {
     "name": "stdout",
     "output_type": "stream",
     "text": [
      "{'mae_train': 332276.79235443485, 'mae_val': 338286.7871855713, 'r2_train': 0.24883995935575864, 'r2_val': 0.12455118973452455, 'label': 'adaboost'}\n"
     ]
    },
    {
     "name": "stderr",
     "output_type": "stream",
     "text": [
      "\n",
      "Fold:   0%|          | 0/5 [00:00<?, ?it/s]\u001b[A\n",
      "Fold:  20%|██        | 1/5 [00:08<00:34,  8.58s/it]\u001b[A\n",
      "Fold:  40%|████      | 2/5 [00:17<00:25,  8.59s/it]\u001b[A\n",
      "Fold:  60%|██████    | 3/5 [00:25<00:17,  8.56s/it]\u001b[A\n",
      "Fold:  80%|████████  | 4/5 [00:34<00:08,  8.51s/it]\u001b[A\n",
      "Fold: 100%|██████████| 5/5 [00:42<00:00,  8.49s/it]\u001b[A\n",
      "Model: 100%|██████████| 9/9 [05:57<00:00, 39.76s/it][A"
     ]
    },
    {
     "name": "stdout",
     "output_type": "stream",
     "text": [
      "{'mae_train': 123327.61818854828, 'mae_val': 141717.83299980627, 'r2_train': 0.8011918706588693, 'r2_val': 0.6837970472163738, 'label': 'gradient_boosting'}\n",
      "CPU times: user 9min 36s, sys: 32.4 s, total: 10min 8s\n",
      "Wall time: 5min 57s\n"
     ]
    },
    {
     "name": "stderr",
     "output_type": "stream",
     "text": [
      "\n"
     ]
    }
   ],
   "source": [
    "%%time\n",
    "\n",
    "from tqdm import tqdm\n",
    "from xgboost import XGBRegressor\n",
    "from lightgbm import LGBMRegressor\n",
    "from sklearn.ensemble import AdaBoostRegressor, GradientBoostingRegressor\n",
    "from catboost import CatBoostRegressor\n",
    "from sklearn.neighbors import KNeighborsRegressor\n",
    "from sklearn.svm import SVR\n",
    "from sklearn.ensemble import RandomForestRegressor\n",
    "from sklearn.linear_model import LinearRegression\n",
    "from sklearn.tree import DecisionTreeRegressor\n",
    "from sklearn.ensemble import HistGradientBoostingRegressor\n",
    "from sklearn.metrics import mean_absolute_error, r2_score\n",
    "\n",
    "metrics = []\n",
    "\n",
    "models = {\n",
    "    \"catboost\": CatBoostRegressor(random_state=42, verbose=0),\n",
    "    \"random_forest\": RandomForestRegressor(n_estimators=100, random_state=42),\n",
    "    \"linear_regression\": LinearRegression(),\n",
    "    \"decision_tree\": DecisionTreeRegressor(),\n",
    "    \"hist_gradient_boosting\": HistGradientBoostingRegressor(),\n",
    "    \"xgboost\": XGBRegressor(random_state=42),\n",
    "    \"lightgbm\": LGBMRegressor(random_state=42),\n",
    "    \"adaboost\": AdaBoostRegressor(random_state=42),\n",
    "    \"gradient_boosting\": GradientBoostingRegressor(random_state=42),\n",
    "}\n",
    "\n",
    "for label, model in tqdm(models.items(), desc=\"Model\"):\n",
    "    fold_metrics = []\n",
    "    for fold in tqdm(train_folds, desc=\"Fold\", leave=False):\n",
    "        data_train = fold.data_train\n",
    "        data_val = fold.data_val\n",
    "\n",
    "        X_train = data_train.drop(columns=TARGET_COLUMN)\n",
    "        X_val = data_val.drop(columns=TARGET_COLUMN)\n",
    "\n",
    "        y_train = data_train[TARGET_COLUMN]\n",
    "        y_val = data_val[TARGET_COLUMN]\n",
    "\n",
    "        pipeline.fit(X_train, y_train)\n",
    "\n",
    "        X_train_processed = pipeline.transform(X_train)\n",
    "        X_val_processed = pipeline.transform(X_val)\n",
    "\n",
    "        model.fit(X_train_processed, y_train)\n",
    "\n",
    "        y_train_predicted = model.predict(X_train_processed)\n",
    "        y_val_predicted = model.predict(X_val_processed)\n",
    "\n",
    "        fold_metrics.append(\n",
    "            {\n",
    "                \"mae_train\": mean_absolute_error(y_train, y_train_predicted),\n",
    "                \"mae_val\": mean_absolute_error(y_val, y_val_predicted),\n",
    "                \"r2_train\": r2_score(y_train, y_train_predicted),\n",
    "                \"r2_val\": r2_score(y_val, y_val_predicted),\n",
    "            }\n",
    "        )\n",
    "\n",
    "    metrics_agg = pd.DataFrame(fold_metrics).mean().to_dict()\n",
    "    metrics_agg.update({\"label\": label})\n",
    "    print(metrics_agg)\n",
    "    metrics.append(metrics_agg)\n"
   ]
  },
  {
   "cell_type": "code",
   "execution_count": null,
   "id": "01e31808-9ee9-49c7-ba7c-26d83ec7fd22",
   "metadata": {},
   "outputs": [],
   "source": []
  },
  {
   "cell_type": "code",
   "execution_count": null,
   "id": "a9d1e2c0-49df-4496-ae6c-f0c222fb8212",
   "metadata": {},
   "outputs": [],
   "source": []
  },
  {
   "cell_type": "code",
   "execution_count": null,
   "id": "a225c364-3dab-4284-bb0a-6027763ccbfd",
   "metadata": {},
   "outputs": [],
   "source": []
  },
  {
   "cell_type": "code",
   "execution_count": null,
   "id": "be8a079b-9ff1-4dca-a6c2-0afd64fc0559",
   "metadata": {},
   "outputs": [],
   "source": []
  },
  {
   "cell_type": "code",
   "execution_count": 33,
   "id": "c909499b-f2fb-4b19-9594-1c2ae966fd56",
   "metadata": {},
   "outputs": [],
   "source": [
    "pipeline = Pipeline([\n",
    "    ('filter_columns', ColumnSelector(columns=selected_columns)),\n",
    "    ('extrai_atributos_data', DateFeatureExtractor(date_column='search_date')),\n",
    "    ('category_encoders', CatBoostEncoder(cols=categorical_columns)),\n",
    "    # ('amenities_encoder', AmenitiesEncoder(\n",
    "    #     amenities_column='amenities_list',\n",
    "    #     relevant_amenities=relevant_amenities\n",
    "    # )),\n",
    "    # ('imputation', SimpleImputer(missing_values=np.nan, strategy='median')),\n",
    "    # ('scaler', MinMaxScaler()),\n",
    "])\n",
    "\n",
    "\n",
    "X_train_transf = pipeline.fit_transform(X_train, y_train)\n"
   ]
  },
  {
   "cell_type": "code",
   "execution_count": 37,
   "id": "e4d68dd9-205a-42c1-b00e-91e6cc2b7913",
   "metadata": {},
   "outputs": [],
   "source": [
    "import numpy as np\n",
    "import pandas as pd\n",
    "import ast\n",
    "\n",
    "class AmenitiesEncoder(BaseEstimator, TransformerMixin):\n",
    "    def __init__(self, amenities_column='amenities_list', relevant_amenities=None):\n",
    "        self.amenities_column = amenities_column\n",
    "        self.relevant_amenities = relevant_amenities\n",
    "\n",
    "    def fit(self, X, y=None):\n",
    "        return self\n",
    "\n",
    "    def transform(self, X):\n",
    "        X = X.copy()\n",
    "        relevant_amenities = np.array(self.relevant_amenities)\n",
    "        def crate_amenities_encoding(x):\n",
    "            if not x or pd.isna(x):\n",
    "                return np.zeros(len(relevant_amenities), dtype=int)\n",
    "            try:\n",
    "                estate_amenities = ast.literal_eval(x)\n",
    "                return np.isin(relevant_amenities, estate_amenities).astype(int)\n",
    "            except (ValueError, SyntaxError):\n",
    "                return np.zeros(len(relevant_amenities), dtype=int)\n",
    "        amenities_encoded_list = X[self.amenities_column].apply(crate_amenities_encoding).tolist()\n",
    "        # amenities_encoded = pd.DataFrame(amenities_encoded_list, columns=relevant_amenities)\n",
    "        # X.reset_index(drop=True, inplace=True)\n",
    "        # amenities_encoded.reset_index(drop=True, inplace=True)\n",
    "        # X = pd.concat([X, amenities_encoded], axis=1)\n",
    "        # X.drop(columns=[self.amenities_column], inplace=True)\n",
    "\n",
    "        return X\n",
    "\n",
    "# amenities_encoder = AmenitiesEncoder(\n",
    "#     amenities_column='amenities_list',\n",
    "#     relevant_amenities=relevant_amenities,\n",
    "# )\n",
    "\n",
    "\n",
    "# X_train_transf = amenities_encoder.fit_transform(X_train_transf, y_train)"
   ]
  },
  {
   "cell_type": "code",
   "execution_count": 50,
   "id": "4c83b2ba-daf0-45ea-a79c-0197e60d1d6d",
   "metadata": {},
   "outputs": [
    {
     "name": "stdout",
     "output_type": "stream",
     "text": [
      "['Cozinha', 'Elevador', 'Interfone', 'Área de serviço']\n",
      "[False False False False]\n"
     ]
    },
    {
     "ename": "Exception",
     "evalue": "",
     "output_type": "error",
     "traceback": [
      "\u001b[0;31m---------------------------------------------------------------------------\u001b[0m",
      "\u001b[0;31mException\u001b[0m                                 Traceback (most recent call last)",
      "Cell \u001b[0;32mIn[50], line 16\u001b[0m\n\u001b[1;32m      9\u001b[0m         \u001b[38;5;28;01mreturn\u001b[39;00m np\u001b[38;5;241m.\u001b[39mzeros(\u001b[38;5;28mlen\u001b[39m(relevant_amenities), dtype\u001b[38;5;241m=\u001b[39m\u001b[38;5;28mint\u001b[39m)\n\u001b[1;32m     10\u001b[0m     \u001b[38;5;66;03m# try:\u001b[39;00m\n\u001b[1;32m     11\u001b[0m     \u001b[38;5;66;03m#     estate_amenities = ast.literal_eval(x)\u001b[39;00m\n\u001b[1;32m     12\u001b[0m     \u001b[38;5;66;03m#     return np.isin(relevant_amenities, estate_amenities).astype(int)\u001b[39;00m\n\u001b[1;32m     13\u001b[0m     \u001b[38;5;66;03m# except (ValueError, SyntaxError):\u001b[39;00m\n\u001b[1;32m     14\u001b[0m     \u001b[38;5;66;03m#     return np.zeros(len(relevant_amenities), dtype=int)\u001b[39;00m\n\u001b[0;32m---> 16\u001b[0m amenities_encoded_list \u001b[38;5;241m=\u001b[39m \u001b[43mX\u001b[49m\u001b[43m[\u001b[49m\u001b[38;5;124;43m'\u001b[39;49m\u001b[38;5;124;43mamenities_list\u001b[39;49m\u001b[38;5;124;43m'\u001b[39;49m\u001b[43m]\u001b[49m\u001b[38;5;241;43m.\u001b[39;49m\u001b[43mapply\u001b[49m\u001b[43m(\u001b[49m\u001b[43mcrate_amenities_encoding\u001b[49m\u001b[43m)\u001b[49m\u001b[38;5;241m.\u001b[39mtolist()\n\u001b[1;32m     18\u001b[0m amenities_encoded_list\n",
      "File \u001b[0;32m/opt/conda/lib/python3.11/site-packages/pandas/core/series.py:4924\u001b[0m, in \u001b[0;36mSeries.apply\u001b[0;34m(self, func, convert_dtype, args, by_row, **kwargs)\u001b[0m\n\u001b[1;32m   4789\u001b[0m \u001b[38;5;28;01mdef\u001b[39;00m \u001b[38;5;21mapply\u001b[39m(\n\u001b[1;32m   4790\u001b[0m     \u001b[38;5;28mself\u001b[39m,\n\u001b[1;32m   4791\u001b[0m     func: AggFuncType,\n\u001b[0;32m   (...)\u001b[0m\n\u001b[1;32m   4796\u001b[0m     \u001b[38;5;241m*\u001b[39m\u001b[38;5;241m*\u001b[39mkwargs,\n\u001b[1;32m   4797\u001b[0m ) \u001b[38;5;241m-\u001b[39m\u001b[38;5;241m>\u001b[39m DataFrame \u001b[38;5;241m|\u001b[39m Series:\n\u001b[1;32m   4798\u001b[0m \u001b[38;5;250m    \u001b[39m\u001b[38;5;124;03m\"\"\"\u001b[39;00m\n\u001b[1;32m   4799\u001b[0m \u001b[38;5;124;03m    Invoke function on values of Series.\u001b[39;00m\n\u001b[1;32m   4800\u001b[0m \n\u001b[0;32m   (...)\u001b[0m\n\u001b[1;32m   4915\u001b[0m \u001b[38;5;124;03m    dtype: float64\u001b[39;00m\n\u001b[1;32m   4916\u001b[0m \u001b[38;5;124;03m    \"\"\"\u001b[39;00m\n\u001b[1;32m   4917\u001b[0m     \u001b[38;5;28;01mreturn\u001b[39;00m \u001b[43mSeriesApply\u001b[49m\u001b[43m(\u001b[49m\n\u001b[1;32m   4918\u001b[0m \u001b[43m        \u001b[49m\u001b[38;5;28;43mself\u001b[39;49m\u001b[43m,\u001b[49m\n\u001b[1;32m   4919\u001b[0m \u001b[43m        \u001b[49m\u001b[43mfunc\u001b[49m\u001b[43m,\u001b[49m\n\u001b[1;32m   4920\u001b[0m \u001b[43m        \u001b[49m\u001b[43mconvert_dtype\u001b[49m\u001b[38;5;241;43m=\u001b[39;49m\u001b[43mconvert_dtype\u001b[49m\u001b[43m,\u001b[49m\n\u001b[1;32m   4921\u001b[0m \u001b[43m        \u001b[49m\u001b[43mby_row\u001b[49m\u001b[38;5;241;43m=\u001b[39;49m\u001b[43mby_row\u001b[49m\u001b[43m,\u001b[49m\n\u001b[1;32m   4922\u001b[0m \u001b[43m        \u001b[49m\u001b[43margs\u001b[49m\u001b[38;5;241;43m=\u001b[39;49m\u001b[43margs\u001b[49m\u001b[43m,\u001b[49m\n\u001b[1;32m   4923\u001b[0m \u001b[43m        \u001b[49m\u001b[43mkwargs\u001b[49m\u001b[38;5;241;43m=\u001b[39;49m\u001b[43mkwargs\u001b[49m\u001b[43m,\u001b[49m\n\u001b[0;32m-> 4924\u001b[0m \u001b[43m    \u001b[49m\u001b[43m)\u001b[49m\u001b[38;5;241;43m.\u001b[39;49m\u001b[43mapply\u001b[49m\u001b[43m(\u001b[49m\u001b[43m)\u001b[49m\n",
      "File \u001b[0;32m/opt/conda/lib/python3.11/site-packages/pandas/core/apply.py:1427\u001b[0m, in \u001b[0;36mSeriesApply.apply\u001b[0;34m(self)\u001b[0m\n\u001b[1;32m   1424\u001b[0m     \u001b[38;5;28;01mreturn\u001b[39;00m \u001b[38;5;28mself\u001b[39m\u001b[38;5;241m.\u001b[39mapply_compat()\n\u001b[1;32m   1426\u001b[0m \u001b[38;5;66;03m# self.func is Callable\u001b[39;00m\n\u001b[0;32m-> 1427\u001b[0m \u001b[38;5;28;01mreturn\u001b[39;00m \u001b[38;5;28;43mself\u001b[39;49m\u001b[38;5;241;43m.\u001b[39;49m\u001b[43mapply_standard\u001b[49m\u001b[43m(\u001b[49m\u001b[43m)\u001b[49m\n",
      "File \u001b[0;32m/opt/conda/lib/python3.11/site-packages/pandas/core/apply.py:1507\u001b[0m, in \u001b[0;36mSeriesApply.apply_standard\u001b[0;34m(self)\u001b[0m\n\u001b[1;32m   1501\u001b[0m \u001b[38;5;66;03m# row-wise access\u001b[39;00m\n\u001b[1;32m   1502\u001b[0m \u001b[38;5;66;03m# apply doesn't have a `na_action` keyword and for backward compat reasons\u001b[39;00m\n\u001b[1;32m   1503\u001b[0m \u001b[38;5;66;03m# we need to give `na_action=\"ignore\"` for categorical data.\u001b[39;00m\n\u001b[1;32m   1504\u001b[0m \u001b[38;5;66;03m# TODO: remove the `na_action=\"ignore\"` when that default has been changed in\u001b[39;00m\n\u001b[1;32m   1505\u001b[0m \u001b[38;5;66;03m#  Categorical (GH51645).\u001b[39;00m\n\u001b[1;32m   1506\u001b[0m action \u001b[38;5;241m=\u001b[39m \u001b[38;5;124m\"\u001b[39m\u001b[38;5;124mignore\u001b[39m\u001b[38;5;124m\"\u001b[39m \u001b[38;5;28;01mif\u001b[39;00m \u001b[38;5;28misinstance\u001b[39m(obj\u001b[38;5;241m.\u001b[39mdtype, CategoricalDtype) \u001b[38;5;28;01melse\u001b[39;00m \u001b[38;5;28;01mNone\u001b[39;00m\n\u001b[0;32m-> 1507\u001b[0m mapped \u001b[38;5;241m=\u001b[39m \u001b[43mobj\u001b[49m\u001b[38;5;241;43m.\u001b[39;49m\u001b[43m_map_values\u001b[49m\u001b[43m(\u001b[49m\n\u001b[1;32m   1508\u001b[0m \u001b[43m    \u001b[49m\u001b[43mmapper\u001b[49m\u001b[38;5;241;43m=\u001b[39;49m\u001b[43mcurried\u001b[49m\u001b[43m,\u001b[49m\u001b[43m \u001b[49m\u001b[43mna_action\u001b[49m\u001b[38;5;241;43m=\u001b[39;49m\u001b[43maction\u001b[49m\u001b[43m,\u001b[49m\u001b[43m \u001b[49m\u001b[43mconvert\u001b[49m\u001b[38;5;241;43m=\u001b[39;49m\u001b[38;5;28;43mself\u001b[39;49m\u001b[38;5;241;43m.\u001b[39;49m\u001b[43mconvert_dtype\u001b[49m\n\u001b[1;32m   1509\u001b[0m \u001b[43m\u001b[49m\u001b[43m)\u001b[49m\n\u001b[1;32m   1511\u001b[0m \u001b[38;5;28;01mif\u001b[39;00m \u001b[38;5;28mlen\u001b[39m(mapped) \u001b[38;5;129;01mand\u001b[39;00m \u001b[38;5;28misinstance\u001b[39m(mapped[\u001b[38;5;241m0\u001b[39m], ABCSeries):\n\u001b[1;32m   1512\u001b[0m     \u001b[38;5;66;03m# GH#43986 Need to do list(mapped) in order to get treated as nested\u001b[39;00m\n\u001b[1;32m   1513\u001b[0m     \u001b[38;5;66;03m#  See also GH#25959 regarding EA support\u001b[39;00m\n\u001b[1;32m   1514\u001b[0m     \u001b[38;5;28;01mreturn\u001b[39;00m obj\u001b[38;5;241m.\u001b[39m_constructor_expanddim(\u001b[38;5;28mlist\u001b[39m(mapped), index\u001b[38;5;241m=\u001b[39mobj\u001b[38;5;241m.\u001b[39mindex)\n",
      "File \u001b[0;32m/opt/conda/lib/python3.11/site-packages/pandas/core/base.py:921\u001b[0m, in \u001b[0;36mIndexOpsMixin._map_values\u001b[0;34m(self, mapper, na_action, convert)\u001b[0m\n\u001b[1;32m    918\u001b[0m \u001b[38;5;28;01mif\u001b[39;00m \u001b[38;5;28misinstance\u001b[39m(arr, ExtensionArray):\n\u001b[1;32m    919\u001b[0m     \u001b[38;5;28;01mreturn\u001b[39;00m arr\u001b[38;5;241m.\u001b[39mmap(mapper, na_action\u001b[38;5;241m=\u001b[39mna_action)\n\u001b[0;32m--> 921\u001b[0m \u001b[38;5;28;01mreturn\u001b[39;00m \u001b[43malgorithms\u001b[49m\u001b[38;5;241;43m.\u001b[39;49m\u001b[43mmap_array\u001b[49m\u001b[43m(\u001b[49m\u001b[43marr\u001b[49m\u001b[43m,\u001b[49m\u001b[43m \u001b[49m\u001b[43mmapper\u001b[49m\u001b[43m,\u001b[49m\u001b[43m \u001b[49m\u001b[43mna_action\u001b[49m\u001b[38;5;241;43m=\u001b[39;49m\u001b[43mna_action\u001b[49m\u001b[43m,\u001b[49m\u001b[43m \u001b[49m\u001b[43mconvert\u001b[49m\u001b[38;5;241;43m=\u001b[39;49m\u001b[43mconvert\u001b[49m\u001b[43m)\u001b[49m\n",
      "File \u001b[0;32m/opt/conda/lib/python3.11/site-packages/pandas/core/algorithms.py:1743\u001b[0m, in \u001b[0;36mmap_array\u001b[0;34m(arr, mapper, na_action, convert)\u001b[0m\n\u001b[1;32m   1741\u001b[0m values \u001b[38;5;241m=\u001b[39m arr\u001b[38;5;241m.\u001b[39mastype(\u001b[38;5;28mobject\u001b[39m, copy\u001b[38;5;241m=\u001b[39m\u001b[38;5;28;01mFalse\u001b[39;00m)\n\u001b[1;32m   1742\u001b[0m \u001b[38;5;28;01mif\u001b[39;00m na_action \u001b[38;5;129;01mis\u001b[39;00m \u001b[38;5;28;01mNone\u001b[39;00m:\n\u001b[0;32m-> 1743\u001b[0m     \u001b[38;5;28;01mreturn\u001b[39;00m \u001b[43mlib\u001b[49m\u001b[38;5;241;43m.\u001b[39;49m\u001b[43mmap_infer\u001b[49m\u001b[43m(\u001b[49m\u001b[43mvalues\u001b[49m\u001b[43m,\u001b[49m\u001b[43m \u001b[49m\u001b[43mmapper\u001b[49m\u001b[43m,\u001b[49m\u001b[43m \u001b[49m\u001b[43mconvert\u001b[49m\u001b[38;5;241;43m=\u001b[39;49m\u001b[43mconvert\u001b[49m\u001b[43m)\u001b[49m\n\u001b[1;32m   1744\u001b[0m \u001b[38;5;28;01melse\u001b[39;00m:\n\u001b[1;32m   1745\u001b[0m     \u001b[38;5;28;01mreturn\u001b[39;00m lib\u001b[38;5;241m.\u001b[39mmap_infer_mask(\n\u001b[1;32m   1746\u001b[0m         values, mapper, mask\u001b[38;5;241m=\u001b[39misna(values)\u001b[38;5;241m.\u001b[39mview(np\u001b[38;5;241m.\u001b[39muint8), convert\u001b[38;5;241m=\u001b[39mconvert\n\u001b[1;32m   1747\u001b[0m     )\n",
      "File \u001b[0;32mlib.pyx:2972\u001b[0m, in \u001b[0;36mpandas._libs.lib.map_infer\u001b[0;34m()\u001b[0m\n",
      "Cell \u001b[0;32mIn[50], line 7\u001b[0m, in \u001b[0;36mcrate_amenities_encoding\u001b[0;34m(x)\u001b[0m\n\u001b[1;32m      5\u001b[0m cond \u001b[38;5;241m=\u001b[39m (\u001b[38;5;129;01mnot\u001b[39;00m x) \u001b[38;5;129;01mor\u001b[39;00m pd\u001b[38;5;241m.\u001b[39misna(x)\n\u001b[1;32m      6\u001b[0m \u001b[38;5;28mprint\u001b[39m(cond)\n\u001b[0;32m----> 7\u001b[0m \u001b[38;5;28;01mraise\u001b[39;00m \u001b[38;5;167;01mException\u001b[39;00m()\n\u001b[1;32m      8\u001b[0m \u001b[38;5;28;01mif\u001b[39;00m (\u001b[38;5;129;01mnot\u001b[39;00m x) \u001b[38;5;129;01mor\u001b[39;00m pd\u001b[38;5;241m.\u001b[39misna(x):\n\u001b[1;32m      9\u001b[0m     \u001b[38;5;28;01mreturn\u001b[39;00m np\u001b[38;5;241m.\u001b[39mzeros(\u001b[38;5;28mlen\u001b[39m(relevant_amenities), dtype\u001b[38;5;241m=\u001b[39m\u001b[38;5;28mint\u001b[39m)\n",
      "\u001b[0;31mException\u001b[0m: "
     ]
    }
   ],
   "source": [
    "X = X_train_transf\n",
    "\n",
    "def crate_amenities_encoding(x):\n",
    "    print(x)\n",
    "    cond = (not x) or pd.isna(x)\n",
    "    print(cond)\n",
    "    raise Exception()\n",
    "    if (not x) or pd.isna(x):\n",
    "        return np.zeros(len(relevant_amenities), dtype=int)\n",
    "    # try:\n",
    "    #     estate_amenities = ast.literal_eval(x)\n",
    "    #     return np.isin(relevant_amenities, estate_amenities).astype(int)\n",
    "    # except (ValueError, SyntaxError):\n",
    "    #     return np.zeros(len(relevant_amenities), dtype=int)\n",
    "    \n",
    "amenities_encoded_list = X['amenities_list'].apply(crate_amenities_encoding).tolist()\n",
    "\n",
    "amenities_encoded_list"
   ]
  },
  {
   "cell_type": "code",
   "execution_count": 41,
   "id": "74192a86-28ca-4e28-a571-a134cb715f4d",
   "metadata": {},
   "outputs": [
    {
     "data": {
      "text/plain": [
       "0        [Cozinha, Elevador, Interfone, Área de serviço]\n",
       "4                                            [TV à cabo]\n",
       "5                                                   None\n",
       "6                                 [Cozinha, Aquecimento]\n",
       "7                                                   None\n",
       "                              ...                       \n",
       "62442                                               None\n",
       "62446                                               None\n",
       "62447                                               None\n",
       "62449                                               None\n",
       "62450                                               None\n",
       "Name: amenities_list, Length: 49961, dtype: object"
      ]
     },
     "execution_count": 41,
     "metadata": {},
     "output_type": "execute_result"
    }
   ],
   "source": [
    "X['amenities_list']"
   ]
  },
  {
   "cell_type": "code",
   "execution_count": null,
   "id": "2abadf14-a116-4caf-8330-a4a820b5c254",
   "metadata": {},
   "outputs": [],
   "source": []
  },
  {
   "cell_type": "code",
   "execution_count": null,
   "id": "5f620ad6-d427-4fc4-b325-398f136d3ccc",
   "metadata": {},
   "outputs": [],
   "source": []
  },
  {
   "cell_type": "code",
   "execution_count": null,
   "id": "65c4f4ad-1cbc-41a8-96eb-fabf4a5200ea",
   "metadata": {},
   "outputs": [],
   "source": []
  },
  {
   "cell_type": "code",
   "execution_count": null,
   "id": "d2fd8ac5-070c-440e-bf69-085e16d2b6c2",
   "metadata": {},
   "outputs": [],
   "source": []
  },
  {
   "cell_type": "code",
   "execution_count": null,
   "id": "9f684acc-df1a-4243-b3f4-6daf62977736",
   "metadata": {},
   "outputs": [],
   "source": []
  },
  {
   "cell_type": "code",
   "execution_count": null,
   "id": "55a144df-82ca-4a2b-b59c-03ced9d11bcb",
   "metadata": {},
   "outputs": [],
   "source": []
  },
  {
   "cell_type": "code",
   "execution_count": null,
   "id": "e48d171d-3351-4d13-b0a5-e42b778c0c19",
   "metadata": {},
   "outputs": [],
   "source": []
  },
  {
   "cell_type": "code",
   "execution_count": null,
   "id": "9d66d20e-435b-4d10-affe-9fbd69c23dd2",
   "metadata": {},
   "outputs": [],
   "source": []
  },
  {
   "cell_type": "code",
   "execution_count": null,
   "id": "e05b88af-5d36-441c-a237-edc25a195d7d",
   "metadata": {},
   "outputs": [],
   "source": []
  },
  {
   "cell_type": "code",
   "execution_count": null,
   "id": "31079c6b-31b4-4893-84f6-cb471657d984",
   "metadata": {},
   "outputs": [],
   "source": []
  },
  {
   "cell_type": "code",
   "execution_count": null,
   "id": "c5536713-9171-43e4-b240-42041d39e90d",
   "metadata": {},
   "outputs": [],
   "source": []
  },
  {
   "cell_type": "code",
   "execution_count": null,
   "id": "9e6f6170-0cae-417d-a25d-c3f77da3888b",
   "metadata": {},
   "outputs": [],
   "source": []
  },
  {
   "cell_type": "code",
   "execution_count": null,
   "id": "d0854e9c-e434-4c9d-b54e-a4d4bcb3541e",
   "metadata": {},
   "outputs": [],
   "source": []
  }
 ],
 "metadata": {
  "kernelspec": {
   "display_name": "Python 3 (ipykernel)",
   "language": "python",
   "name": "python3"
  },
  "language_info": {
   "codemirror_mode": {
    "name": "ipython",
    "version": 3
   },
   "file_extension": ".py",
   "mimetype": "text/x-python",
   "name": "python",
   "nbconvert_exporter": "python",
   "pygments_lexer": "ipython3",
   "version": "3.11.6"
  }
 },
 "nbformat": 4,
 "nbformat_minor": 5
}
