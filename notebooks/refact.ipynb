{
 "cells": [
  {
   "cell_type": "code",
   "execution_count": 41,
   "id": "402edc12-f00a-4f03-ad42-78d2b0e54999",
   "metadata": {},
   "outputs": [],
   "source": [
    "import json\n",
    "from http import HTTPStatus\n",
    "from typing import List, Optional, Any\n",
    "from pydantic import BaseModel\n",
    "\n",
    "from bs4 import BeautifulSoup\n",
    "from urllib.request import Request, urlopen\n",
    "from urllib.error import HTTPError"
   ]
  },
  {
   "cell_type": "code",
   "execution_count": 26,
   "id": "0ff63d46-9d26-45fc-a6c4-86688158855a",
   "metadata": {},
   "outputs": [],
   "source": [
    "\n",
    "class Price(BaseModel):\n",
    "    mainValue: int | None = None\n",
    "    emptyValue: bool | None = None\n",
    "    belowPrice: bool | None = None\n",
    "    multiplePrices: bool | None = None\n",
    "\n",
    "class Address(BaseModel):\n",
    "    city: str | None = None\n",
    "    stateAcronym: str | None = None\n",
    "    neighborhood: str | None = None\n",
    "    isApproximateLocation: bool | None = None\n",
    "\n",
    "class Image(BaseModel):\n",
    "    src: str | None = None\n",
    "    alt: str | None = None\n",
    "    isPriority: bool | None = None\n",
    "\n",
    "class Amenities(BaseModel):\n",
    "    usableAreas: str | None = None\n",
    "    bedrooms: str | None = None\n",
    "    bathrooms: str | None = None\n",
    "    parkingSpaces: str | None = None\n",
    "    values: List[str] | None = None\n",
    "\n",
    "class RealEstate(BaseModel):\n",
    "    id: str | None = None\n",
    "    legacyId: int | None = None\n",
    "    name: str | None = None\n",
    "    advertiserUrl: str | None = None\n",
    "    tier: str | None = None\n",
    "    license: str | None = None\n",
    "    createdDate: str | None = None\n",
    "    phoneNumbers: List[str] | None = None\n",
    "    whatsAppNumber: str | None = None\n",
    "    defaultMessage: str | None = None\n",
    "    totalCountByFilter: int | None = None\n",
    "    totalCountByAdvertiser: int | None = None\n",
    "    isVerified: bool | None = None\n",
    "    isPremium: bool | None = None\n",
    "    imageUrl: str | None = None\n",
    "\n",
    "class AdvertiserLogo(BaseModel):\n",
    "    src: str | None = None\n",
    "    alt: str | None = None\n",
    "\n",
    "class Element(BaseModel):\n",
    "    id: str\n",
    "    externalId: str\n",
    "    contractType: str | None = None\n",
    "    href: str | None = None\n",
    "    prices: Price | None = None\n",
    "    address: Address | None = None\n",
    "    business: str | None = None\n",
    "    highlight: str | None = None\n",
    "    imageList: List[Image] | None = None\n",
    "    amenities: Amenities | None = None\n",
    "    realEstate: RealEstate | None = None\n",
    "    visualized: bool | None = None\n",
    "    description: str | None = None\n",
    "    isNoWarrantorRent: bool | None = None\n",
    "    constructionStatus: str | None = None\n",
    "    expansionType: str | None = None\n",
    "    sourceId: str | None = None\n",
    "    stamps: List[str] | None = None\n",
    "    unitTypes: List[str] | None = None\n",
    "    displayAddressType: str | None = None\n",
    "    advertiserLogo: AdvertiserLogo | None = None\n"
   ]
  },
  {
   "cell_type": "code",
   "execution_count": 11,
   "id": "36da85d9-9766-49f2-819b-d177de42df2a",
   "metadata": {},
   "outputs": [],
   "source": [
    "USER_AGENT = \"Mozilla/5.0 (X11; Linux x86_64) AppleWebKit/537.36 (KHTML, like Gecko) Chrome/71.0.3578.98 Safari/537.36\"\n",
    "\n",
    "ACTION = \"venda\"\n",
    "LOCALIZATION = \"mg+pocos-de-caldas\"\n",
    "TYPE = \"imoveis\"\n",
    "PAGE = 2"
   ]
  },
  {
   "cell_type": "code",
   "execution_count": 31,
   "id": "31d5be9f-e700-40fc-b745-75e3868b763a",
   "metadata": {},
   "outputs": [],
   "source": []
  },
  {
   "cell_type": "code",
   "execution_count": 88,
   "id": "05ca4901-ed42-4383-8216-6d2ab61aaa58",
   "metadata": {},
   "outputs": [],
   "source": [
    "import time\n",
    "from dataclasses import dataclass\n",
    "\n",
    "import backoff\n",
    "from loguru import logger\n",
    "\n",
    "\n",
    "@dataclass\n",
    "class RequestedPageResponse:\n",
    "    html: Any\n",
    "    code: int = 200\n",
    "    exception: Exception | None = None\n",
    "\n",
    "def get_page(url: str, timeout: int = 20, verbose: int = 0):\n",
    "\n",
    "    request = Request(url)\n",
    "\n",
    "    request.add_header(\"User-Agent\", USER_AGENT)\n",
    "\n",
    "    try:\n",
    "        return RequestedPageResponse(html=urlopen(request, timeout=timeout))\n",
    "    except HTTPError as e:\n",
    "        logger.error(\"[error]\", e)\n",
    "        return RequestedPageResponse(html=None, code=e.getcode(), exception=e)\n",
    "\n",
    "\n",
    "\n",
    "def backoff_hdlr(details):\n",
    "    time.sleep(3)\n",
    "    logger.warning(\"Backing off {wait:0.1f} seconds after {tries} tries \"\n",
    "           \"calling function {target} with args {args} and kwargs \"\n",
    "           \"{kwargs}\".format(**details))\n",
    "    \n",
    "@backoff.on_exception(\n",
    "    backoff.expo,\n",
    "    HTTPError,\n",
    "    max_tries=3,\n",
    "    logger=logger,\n",
    "    on_backoff=backoff_hdlr,\n",
    ")\n",
    "def get_page_html(page, action, type, localization):\n",
    "    url = f\"https://www.zapimoveis.com.br/{action}/{type}/{localization}/?pagina={page}\"\n",
    "    logger.debug(f\"Requesting info from '{url}'\")\n",
    "\n",
    "    response = get_page(url)\n",
    "\n",
    "    if response.code != HTTPStatus.OK:\n",
    "        raise response.exception\n",
    "\n",
    "    return response.html\n",
    "\n",
    "def get_real_state_data(page_html):\n",
    "    soup = BeautifulSoup(page_html, \"html.parser\")\n",
    "    script = soup.find('script', id='__NEXT_DATA__')\n",
    "    listings = json.loads(script.text)\n",
    "    raw_data = (\n",
    "        listings\n",
    "        .get(\"props\", {})\n",
    "        .get(\"pageProps\", {})\n",
    "        .get(\"initialProps\", {})\n",
    "        .get(\"data\", {})\n",
    "    )\n",
    "    return [Element(**d) for d in raw_data]\n"
   ]
  },
  {
   "cell_type": "code",
   "execution_count": null,
   "id": "b89f1d1e-d17d-4273-b730-4f2778d18fc6",
   "metadata": {},
   "outputs": [],
   "source": [
    "# Como o loop deve ficar na funcao principal\n",
    "for page in [1,2, 1000, 3]:\n",
    "    try:\n",
    "        page_html = get_page_html(page=1, action=ACTION, type=TYPE, localization=LOCALIZATION)\n",
    "    except HTTPError:\n",
    "        break"
   ]
  },
  {
   "cell_type": "code",
   "execution_count": 89,
   "id": "4463424f-d58d-4c86-a1f2-0ea6e9dc833e",
   "metadata": {},
   "outputs": [
    {
     "name": "stderr",
     "output_type": "stream",
     "text": [
      "2024-11-21 04:34:35.858 | DEBUG    | __main__:get_page_html:43 - Requesting info from 'https://www.zapimoveis.com.br/venda/imoveis/mg+pocos-de-caldas/?pagina=1'\n"
     ]
    }
   ],
   "source": [
    "page_html = get_page_html(page=1, action=ACTION, type=TYPE, localization=LOCALIZATION)\n",
    "\n",
    "data = get_real_state_data(page_html)"
   ]
  },
  {
   "cell_type": "code",
   "execution_count": 125,
   "id": "62556dcd-a4fd-4d92-b0e1-f652220cef16",
   "metadata": {},
   "outputs": [
    {
     "data": {
      "text/plain": [
       "[['APARTMENT'],\n",
       " ['APARTMENT'],\n",
       " ['HOME'],\n",
       " ['SHED_DEPOSIT_WAREHOUSE'],\n",
       " ['APARTMENT'],\n",
       " ['APARTMENT'],\n",
       " ['APARTMENT'],\n",
       " ['COMMERCIAL_PROPERTY'],\n",
       " ['APARTMENT'],\n",
       " ['FLAT'],\n",
       " ['APARTMENT'],\n",
       " ['BUSINESS'],\n",
       " ['APARTMENT'],\n",
       " ['APARTMENT'],\n",
       " ['BUSINESS']]"
      ]
     },
     "execution_count": 125,
     "metadata": {},
     "output_type": "execute_result"
    }
   ],
   "source": [
    "[d.unitTypes for d in data]"
   ]
  },
  {
   "cell_type": "code",
   "execution_count": 134,
   "id": "7b033d18-1e36-4cd6-85d6-b0feb5b814c1",
   "metadata": {},
   "outputs": [],
   "source": [
    "real_state_element = data[2]"
   ]
  },
  {
   "cell_type": "code",
   "execution_count": 135,
   "id": "dbc3e769-3672-4243-950f-808ab975896a",
   "metadata": {},
   "outputs": [
    {
     "data": {
      "text/plain": [
       "['HOME']"
      ]
     },
     "execution_count": 135,
     "metadata": {},
     "output_type": "execute_result"
    }
   ],
   "source": [
    "real_state_element.unitTypes"
   ]
  },
  {
   "cell_type": "code",
   "execution_count": 136,
   "id": "73ac1bdd-72b8-4b19-a2ad-4f7fb4a65517",
   "metadata": {},
   "outputs": [
    {
     "data": {
      "text/plain": [
       "480000"
      ]
     },
     "execution_count": 136,
     "metadata": {},
     "output_type": "execute_result"
    }
   ],
   "source": [
    "real_state_element.prices.mainValue"
   ]
  },
  {
   "cell_type": "code",
   "execution_count": 137,
   "id": "27117def-3589-4b72-9767-75cd1b0a9e62",
   "metadata": {},
   "outputs": [
    {
     "data": {
      "text/plain": [
       "'Monte Verde'"
      ]
     },
     "execution_count": 137,
     "metadata": {},
     "output_type": "execute_result"
    }
   ],
   "source": [
    "real_state_element.address.neighborhood"
   ]
  },
  {
   "cell_type": "code",
   "execution_count": 138,
   "id": "e3eb165b-d449-4463-bb1a-d1d3689f7bfd",
   "metadata": {},
   "outputs": [
    {
     "data": {
      "text/plain": [
       "Amenities(usableAreas='161', bedrooms='4', bathrooms='3', parkingSpaces='1', values=['DEPOSIT', 'BATHTUB', 'SERVICE_AREA'])"
      ]
     },
     "execution_count": 138,
     "metadata": {},
     "output_type": "execute_result"
    }
   ],
   "source": [
    "real_state_element.amenities"
   ]
  },
  {
   "cell_type": "code",
   "execution_count": 139,
   "id": "2fc77864-06b8-46ac-8471-7e88920e5c79",
   "metadata": {},
   "outputs": [
    {
     "data": {
      "text/plain": [
       "'CASA COM 04 DORMITÓRIOS, SENDO 01 SUÍTE, SALA, COZINHA, BANHEIRO SOCIAL, ÁREA DE SERVIÇO COM DORMITÓRIO, DESPENSA E GARAGEM.\\n\\nIMOVEL COM LIGAÇÃO DE AQUECEDOR SOLAR, CERCA ELÉTRICA, PORTÃO ELETRÔNICO. \\n\\nPARA SEU CONFORTO, POSSUÍ BANHEIRA DE HIDROMASSAGEM NA SUÍTE. NO QUINTAL, POSSUÍ UMA EDÍCULA COMPOSTA POR DORMITÓRIO E BANHEIRO.\\n\\nRUA DE FÁCIL ACESSO E PRÓXIMO À GRANDE VARIEDADES COMERCIAIS NA REGIÃO...\\n\\n- SUPERMERCADOS,\\n- PADARIAS,\\n- ESCOLAS,\\n- FARMÁCIAS,\\n- PET SHOPS,\\n- RESTAURANTE,\\n- PONTO DE ÔNIBUS...!!\\n\\nVENHA CONHECER ESTE LINDO IMÓVEL.. LIGUE E AGENDE UMA VISITA!!. ref. 58832 atualizado em 19/11.'"
      ]
     },
     "execution_count": 139,
     "metadata": {},
     "output_type": "execute_result"
    }
   ],
   "source": [
    "real_state_element.description"
   ]
  },
  {
   "cell_type": "code",
   "execution_count": 27,
   "id": "710768ee-960e-4cb3-b116-4c73e2aa35b8",
   "metadata": {},
   "outputs": [],
   "source": []
  },
  {
   "cell_type": "code",
   "execution_count": 29,
   "id": "8cb197b8-8847-49b6-a373-08dc6e9a2565",
   "metadata": {},
   "outputs": [
    {
     "data": {
      "text/plain": [
       "Element(id='2696156001', externalId='V54803', contractType='REAL_ESTATE', href='https://www.zapimoveis.com.br/imovel/venda-terreno-lote-condominio-jardim-europa-pocos-de-caldas-mg-480m2-id-2696156001/', prices=Price(mainValue=575000, emptyValue=False, belowPrice=False, multiplePrices=False), address=Address(city='Poços de Caldas', stateAcronym='MG', neighborhood='Jardim Europa', isApproximateLocation=True), business='SALE', highlight='SUPER', imageList=[Image(src='https://resizedimgs.zapimoveis.com.br/crop/614x297/vr.images.sp/5daa172b250f9fb3cbf5028b3dfbe3c5.webp', alt='Imagem do imóvel', isPriority=True), Image(src='https://resizedimgs.zapimoveis.com.br/crop/614x297/vr.images.sp/f133ac4e9c94ad1d32d236db41923968.webp', alt='Imagem do imóvel', isPriority=False)], amenities=Amenities(usableAreas='480', bedrooms='0', bathrooms='0', parkingSpaces='0', values=[]), realEstate=RealEstate(id='281c0fe5-98c1-c9f9-d96c-a2e58397c49c', legacyId=3618805, name='BG & C IMOVEIS LTDA', advertiserUrl='/imobiliaria/107743/', tier='diamond', license='04047-J-MG', createdDate='2018-03-28T11:59:41Z', phoneNumbers=['3536971000', '35999521853'], whatsAppNumber='35999521853', defaultMessage='Olá, gostaria de ter mais informações para comprar: Lote/Terreno, R$ 575.000, Jardim Europa, Poços de Caldas - MG, que encontrei no ZAP. Aguardo seu contato, obrigado.', totalCountByFilter=0, totalCountByAdvertiser=0, isVerified=False, isPremium=True, imageUrl='https://resizedimgs.zapimoveis.com.br/fit-in/142x80/vr.images.sp/375f1d81d59ed285e480a2c9aa49f65e.webp'), visualized=False, description='Este terreno em bairro de alto padrão e topografia plana é ideal para construir uma residência sem a necessidade de grandes trabalhos de terraplanagem.\\nPermitindo uma maior flexibilidade na escolha do projeto arquitetônico.. ref. 54803 atualizado em 19/11.', isNoWarrantorRent=False, constructionStatus='', expansionType='SUPER PREMIUM', sourceId='d6ef4340-1284-35fa-9bd2-5da0fc9cdf48', stamps=[], unitTypes=['RESIDENTIAL_ALLOTMENT_LAND'], displayAddressType='NEIGHBORHOOD', advertiserLogo=AdvertiserLogo(src='https://resizedimgs.zapimoveis.com.br/fit-in/142x80/vr.images.sp/375f1d81d59ed285e480a2c9aa49f65e.webp', alt='Logo do Anunciante'))"
      ]
     },
     "execution_count": 29,
     "metadata": {},
     "output_type": "execute_result"
    }
   ],
   "source": [
    "data[0]\n",
    "\n"
   ]
  },
  {
   "cell_type": "code",
   "execution_count": 30,
   "id": "d762cdac-2d4d-4cf6-af89-e93e4000b06d",
   "metadata": {},
   "outputs": [
    {
     "data": {
      "text/plain": [
       "{'id': '2696156001',\n",
       " 'externalId': 'V54803',\n",
       " 'contractType': 'REAL_ESTATE',\n",
       " 'href': 'https://www.zapimoveis.com.br/imovel/venda-terreno-lote-condominio-jardim-europa-pocos-de-caldas-mg-480m2-id-2696156001/',\n",
       " 'prices': {'mainValue': 575000,\n",
       "  'emptyValue': False,\n",
       "  'belowPrice': False,\n",
       "  'multiplePrices': False},\n",
       " 'address': {'city': 'Poços de Caldas',\n",
       "  'stateAcronym': 'MG',\n",
       "  'neighborhood': 'Jardim Europa',\n",
       "  'isApproximateLocation': True},\n",
       " 'business': 'SALE',\n",
       " 'highlight': 'SUPER',\n",
       " 'imageList': [{'src': 'https://resizedimgs.zapimoveis.com.br/crop/614x297/vr.images.sp/5daa172b250f9fb3cbf5028b3dfbe3c5.webp',\n",
       "   'alt': 'Imagem do imóvel',\n",
       "   'isPriority': True},\n",
       "  {'src': 'https://resizedimgs.zapimoveis.com.br/crop/614x297/vr.images.sp/f133ac4e9c94ad1d32d236db41923968.webp',\n",
       "   'alt': 'Imagem do imóvel',\n",
       "   'isPriority': False}],\n",
       " 'amenities': {'usableAreas': '480',\n",
       "  'bedrooms': '0',\n",
       "  'bathrooms': '0',\n",
       "  'parkingSpaces': '0',\n",
       "  'values': []},\n",
       " 'realEstate': {'id': '281c0fe5-98c1-c9f9-d96c-a2e58397c49c',\n",
       "  'legacyId': 3618805,\n",
       "  'name': 'BG & C IMOVEIS LTDA',\n",
       "  'advertiserUrl': '/imobiliaria/107743/',\n",
       "  'tier': 'diamond',\n",
       "  'license': '04047-J-MG',\n",
       "  'createdDate': '2018-03-28T11:59:41Z',\n",
       "  'imageUrl': 'https://resizedimgs.zapimoveis.com.br/fit-in/142x80/vr.images.sp/375f1d81d59ed285e480a2c9aa49f65e.webp',\n",
       "  'phoneNumbers': ['3536971000', '35999521853'],\n",
       "  'whatsAppNumber': '35999521853',\n",
       "  'defaultMessage': 'Olá, gostaria de ter mais informações para comprar: Lote/Terreno, R$ 575.000, Jardim Europa, Poços de Caldas - MG, que encontrei no ZAP. Aguardo seu contato, obrigado.',\n",
       "  'totalCountByFilter': 0,\n",
       "  'totalCountByAdvertiser': 0,\n",
       "  'isVerified': False,\n",
       "  'isPremium': True},\n",
       " 'visualized': False,\n",
       " 'description': 'Este terreno em bairro de alto padrão e topografia plana é ideal para construir uma residência sem a necessidade de grandes trabalhos de terraplanagem.\\nPermitindo uma maior flexibilidade na escolha do projeto arquitetônico.. ref. 54803 atualizado em 19/11.',\n",
       " 'advertiserLogo': {'src': 'https://resizedimgs.zapimoveis.com.br/fit-in/142x80/vr.images.sp/375f1d81d59ed285e480a2c9aa49f65e.webp',\n",
       "  'alt': 'Logo do Anunciante'},\n",
       " 'isNoWarrantorRent': False,\n",
       " 'constructionStatus': '',\n",
       " 'expansionType': 'SUPER PREMIUM',\n",
       " 'sourceId': 'd6ef4340-1284-35fa-9bd2-5da0fc9cdf48',\n",
       " 'stamps': [],\n",
       " 'unitTypes': ['RESIDENTIAL_ALLOTMENT_LAND'],\n",
       " 'displayAddressType': 'NEIGHBORHOOD'}"
      ]
     },
     "execution_count": 30,
     "metadata": {},
     "output_type": "execute_result"
    }
   ],
   "source": [
    "raw_data[0]"
   ]
  },
  {
   "cell_type": "code",
   "execution_count": 16,
   "id": "7ba791f9-57db-4654-ad97-683ed0e388f9",
   "metadata": {},
   "outputs": [],
   "source": []
  },
  {
   "cell_type": "code",
   "execution_count": null,
   "id": "fe1dfed5-d36c-44ea-85b7-0e3e61c9706f",
   "metadata": {},
   "outputs": [],
   "source": []
  },
  {
   "cell_type": "code",
   "execution_count": null,
   "id": "93717d0c-075f-476b-8757-35df6c14a2fe",
   "metadata": {},
   "outputs": [],
   "source": []
  },
  {
   "cell_type": "code",
   "execution_count": null,
   "id": "9556b912-ad3f-430c-986f-bf5064dc501e",
   "metadata": {},
   "outputs": [],
   "source": []
  },
  {
   "cell_type": "code",
   "execution_count": null,
   "id": "cdd3c848-96a6-4586-b017-d94f525d6888",
   "metadata": {},
   "outputs": [],
   "source": []
  },
  {
   "cell_type": "code",
   "execution_count": null,
   "id": "c823e8e6-8b41-4925-ad24-9c3d72539e4a",
   "metadata": {},
   "outputs": [],
   "source": []
  },
  {
   "cell_type": "code",
   "execution_count": null,
   "id": "0ceb76eb-63ab-44ee-9db3-402b47e9bf08",
   "metadata": {},
   "outputs": [],
   "source": []
  },
  {
   "cell_type": "code",
   "execution_count": null,
   "id": "bcc11f24-20ae-4d72-aa4c-679c989c1603",
   "metadata": {},
   "outputs": [],
   "source": []
  },
  {
   "cell_type": "code",
   "execution_count": null,
   "id": "d19860e1-3dfa-4127-8df8-14e831b72503",
   "metadata": {},
   "outputs": [],
   "source": []
  },
  {
   "cell_type": "code",
   "execution_count": null,
   "id": "abf72fea-3961-4831-bf8e-eb6012740167",
   "metadata": {},
   "outputs": [],
   "source": []
  },
  {
   "cell_type": "code",
   "execution_count": null,
   "id": "43138c12-4381-41fc-a885-ecd6604ab499",
   "metadata": {},
   "outputs": [],
   "source": []
  }
 ],
 "metadata": {
  "kernelspec": {
   "display_name": "Python 3 (ipykernel)",
   "language": "python",
   "name": "python3"
  },
  "language_info": {
   "codemirror_mode": {
    "name": "ipython",
    "version": 3
   },
   "file_extension": ".py",
   "mimetype": "text/x-python",
   "name": "python",
   "nbconvert_exporter": "python",
   "pygments_lexer": "ipython3",
   "version": "3.11.6"
  }
 },
 "nbformat": 4,
 "nbformat_minor": 5
}
